{
 "cells": [
  {
   "cell_type": "markdown",
   "metadata": {
    "toc": true
   },
   "source": [
    "<h1>Tabla de Contenidos<span class=\"tocSkip\"></span></h1>\n",
    "<div class=\"toc\"><ul class=\"toc-item\"><li><span><a href=\"#Reconocimiento-general-del-conjunto-de-datos\" data-toc-modified-id=\"Reconocimiento-general-del-conjunto-de-datos-1\"><span class=\"toc-item-num\">1&nbsp;&nbsp;</span><strong>Reconocimiento general del conjunto de datos</strong></a></span><ul class=\"toc-item\"><li><span><a href=\"#Observaciones-preliminares:\" data-toc-modified-id=\"Observaciones-preliminares:-1.1\"><span class=\"toc-item-num\">1.1&nbsp;&nbsp;</span>Observaciones preliminares:</a></span></li></ul></li><li><span><a href=\"#Estructuración-de-Datos\" data-toc-modified-id=\"Estructuración-de-Datos-2\"><span class=\"toc-item-num\">2&nbsp;&nbsp;</span><strong>Estructuración de Datos</strong></a></span><ul class=\"toc-item\"><li><span><a href=\"#Inspección-de-strings-no-numéricos\" data-toc-modified-id=\"Inspección-de-strings-no-numéricos-2.1\"><span class=\"toc-item-num\">2.1&nbsp;&nbsp;</span>Inspección de strings no numéricos</a></span></li><li><span><a href=\"#Conversión/Formate-de-columnas\" data-toc-modified-id=\"Conversión/Formate-de-columnas-2.2\"><span class=\"toc-item-num\">2.2&nbsp;&nbsp;</span>Conversión/Formate de columnas</a></span></li></ul></li><li><span><a href=\"#Limpieza-de-Datos\" data-toc-modified-id=\"Limpieza-de-Datos-3\"><span class=\"toc-item-num\">3&nbsp;&nbsp;</span><strong>Limpieza de Datos</strong></a></span><ul class=\"toc-item\"><li><span><a href=\"#Gestión-de-Valores-Ausentes\" data-toc-modified-id=\"Gestión-de-Valores-Ausentes-3.1\"><span class=\"toc-item-num\">3.1&nbsp;&nbsp;</span>Gestión de Valores Ausentes</a></span><ul class=\"toc-item\"><li><span><a href=\"#Identificar-valores-ausentes\" data-toc-modified-id=\"Identificar-valores-ausentes-3.1.1\"><span class=\"toc-item-num\">3.1.1&nbsp;&nbsp;</span>Identificar valores ausentes</a></span></li><li><span><a href=\"#Eliminación-o-reemplazo-de-valores-ausentes\" data-toc-modified-id=\"Eliminación-o-reemplazo-de-valores-ausentes-3.1.2\"><span class=\"toc-item-num\">3.1.2&nbsp;&nbsp;</span>Eliminación o reemplazo de valores ausentes</a></span><ul class=\"toc-item\"><li><span><a href=\"#Reemplazo-de-valores-ausentes-en-año-de-lanzamiento\" data-toc-modified-id=\"Reemplazo-de-valores-ausentes-en-año-de-lanzamiento-3.1.2.1\"><span class=\"toc-item-num\">3.1.2.1&nbsp;&nbsp;</span>Reemplazo de valores ausentes en año de lanzamiento</a></span></li><li><span><a href=\"#Reemplazar-valores-nulos-en-columna-de-clasificación\" data-toc-modified-id=\"Reemplazar-valores-nulos-en-columna-de-clasificación-3.1.2.2\"><span class=\"toc-item-num\">3.1.2.2&nbsp;&nbsp;</span>Reemplazar valores nulos en columna de clasificación</a></span></li></ul></li></ul></li><li><span><a href=\"#Gestión-de-Valores-Duplicados\" data-toc-modified-id=\"Gestión-de-Valores-Duplicados-3.2\"><span class=\"toc-item-num\">3.2&nbsp;&nbsp;</span>Gestión de Valores Duplicados</a></span></li></ul></li><li><span><a href=\"#Enriquecimiento-de-Datos\" data-toc-modified-id=\"Enriquecimiento-de-Datos-4\"><span class=\"toc-item-num\">4&nbsp;&nbsp;</span><strong>Enriquecimiento de Datos</strong></a></span><ul class=\"toc-item\"><li><span><a href=\"#Obtención-de-datos-con-API\" data-toc-modified-id=\"Obtención-de-datos-con-API-4.1\"><span class=\"toc-item-num\">4.1&nbsp;&nbsp;</span>Obtención de datos con API</a></span><ul class=\"toc-item\"><li><span><a href=\"#Testeo-de-API\" data-toc-modified-id=\"Testeo-de-API-4.1.1\"><span class=\"toc-item-num\">4.1.1&nbsp;&nbsp;</span>Testeo de API</a></span></li><li><span><a href=\"#Ejecución-de-API\" data-toc-modified-id=\"Ejecución-de-API-4.1.2\"><span class=\"toc-item-num\">4.1.2&nbsp;&nbsp;</span>Ejecución de API</a></span></li></ul></li><li><span><a href=\"#Agregación-de-atributos\" data-toc-modified-id=\"Agregación-de-atributos-4.2\"><span class=\"toc-item-num\">4.2&nbsp;&nbsp;</span>Agregación de atributos</a></span><ul class=\"toc-item\"><li><span><a href=\"#Agregar-atributo-descriptivo-de-clasificación\" data-toc-modified-id=\"Agregar-atributo-descriptivo-de-clasificación-4.2.1\"><span class=\"toc-item-num\">4.2.1&nbsp;&nbsp;</span>Agregar atributo descriptivo de clasificación</a></span></li><li><span><a href=\"#Agregar-Suma-de-Ventas-y-Promedios\" data-toc-modified-id=\"Agregar-Suma-de-Ventas-y-Promedios-4.2.2\"><span class=\"toc-item-num\">4.2.2&nbsp;&nbsp;</span>Agregar Suma de Ventas y Promedios</a></span></li></ul></li></ul></li><li><span><a href=\"#Análisis-de-Datos\" data-toc-modified-id=\"Análisis-de-Datos-5\"><span class=\"toc-item-num\">5&nbsp;&nbsp;</span><strong>Análisis de Datos</strong></a></span><ul class=\"toc-item\"><li><span><a href=\"#Visualización-de-la-cantidad-de-videojuegos-lanzados-por-año\" data-toc-modified-id=\"Visualización-de-la-cantidad-de-videojuegos-lanzados-por-año-5.1\"><span class=\"toc-item-num\">5.1&nbsp;&nbsp;</span>Visualización de la cantidad de videojuegos lanzados por año</a></span></li><li><span><a href=\"#Variación-de-ventas-entre-las-plataformas-más-populares\" data-toc-modified-id=\"Variación-de-ventas-entre-las-plataformas-más-populares-5.2\"><span class=\"toc-item-num\">5.2&nbsp;&nbsp;</span>Variación de ventas entre las plataformas más populares</a></span></li><li><span><a href=\"#Evolución-de-popularidad-de-las-plataformas\" data-toc-modified-id=\"Evolución-de-popularidad-de-las-plataformas-5.3\"><span class=\"toc-item-num\">5.3&nbsp;&nbsp;</span>Evolución de popularidad de las plataformas</a></span></li><li><span><a href=\"#Determinación-del-Periodo-de-análisis\" data-toc-modified-id=\"Determinación-del-Periodo-de-análisis-5.4\"><span class=\"toc-item-num\">5.4&nbsp;&nbsp;</span>Determinación del Periodo de análisis</a></span></li><li><span><a href=\"#Vigencia-de-Plataformas\" data-toc-modified-id=\"Vigencia-de-Plataformas-5.5\"><span class=\"toc-item-num\">5.5&nbsp;&nbsp;</span>Vigencia de Plataformas</a></span></li><li><span><a href=\"#Distribución-de-las-ventas-por-plataforma\" data-toc-modified-id=\"Distribución-de-las-ventas-por-plataforma-5.6\"><span class=\"toc-item-num\">5.6&nbsp;&nbsp;</span>Distribución de las ventas por plataforma</a></span></li><li><span><a href=\"#Relación-ventas-vs-reseñas\" data-toc-modified-id=\"Relación-ventas-vs-reseñas-5.7\"><span class=\"toc-item-num\">5.7&nbsp;&nbsp;</span>Relación ventas vs reseñas</a></span></li><li><span><a href=\"#Distribución-de-Ventas-por-plataforma\" data-toc-modified-id=\"Distribución-de-Ventas-por-plataforma-5.8\"><span class=\"toc-item-num\">5.8&nbsp;&nbsp;</span>Distribución de Ventas por plataforma</a></span></li><li><span><a href=\"#Distribución-de-los-juegos-por-género\" data-toc-modified-id=\"Distribución-de-los-juegos-por-género-5.9\"><span class=\"toc-item-num\">5.9&nbsp;&nbsp;</span>Distribución de los juegos por género</a></span><ul class=\"toc-item\"><li><span><a href=\"#Rentabilidad-de-Géneros-de-videojuegos\" data-toc-modified-id=\"Rentabilidad-de-Géneros-de-videojuegos-5.9.1\"><span class=\"toc-item-num\">5.9.1&nbsp;&nbsp;</span>Rentabilidad de Géneros de videojuegos</a></span></li><li><span><a href=\"#Distribución-de-ventas-por-género\" data-toc-modified-id=\"Distribución-de-ventas-por-género-5.9.2\"><span class=\"toc-item-num\">5.9.2&nbsp;&nbsp;</span>Distribución de ventas por género</a></span></li><li><span><a href=\"#Reseñas-de-juegos-por-género\" data-toc-modified-id=\"Reseñas-de-juegos-por-género-5.9.3\"><span class=\"toc-item-num\">5.9.3&nbsp;&nbsp;</span>Reseñas de juegos por género</a></span></li><li><span><a href=\"#Influencia-de-las-Reseñas-en-las-Ventas-de-cada-género\" data-toc-modified-id=\"Influencia-de-las-Reseñas-en-las-Ventas-de-cada-género-5.9.4\"><span class=\"toc-item-num\">5.9.4&nbsp;&nbsp;</span>Influencia de las Reseñas en las Ventas de cada género</a></span></li><li><span><a href=\"#Evolución-de-Ventas-anuales-por-Género\" data-toc-modified-id=\"Evolución-de-Ventas-anuales-por-Género-5.9.5\"><span class=\"toc-item-num\">5.9.5&nbsp;&nbsp;</span>Evolución de Ventas anuales por Género</a></span></li></ul></li><li><span><a href=\"#Perfiles-de-usuario-por-región\" data-toc-modified-id=\"Perfiles-de-usuario-por-región-5.10\"><span class=\"toc-item-num\">5.10&nbsp;&nbsp;</span>Perfiles de usuario por región</a></span></li></ul></li><li><span><a href=\"#Prueba-de-Hipótesis\" data-toc-modified-id=\"Prueba-de-Hipótesis-6\"><span class=\"toc-item-num\">6&nbsp;&nbsp;</span><strong>Prueba de Hipótesis</strong></a></span><ul class=\"toc-item\"><li><span><a href=\"#Requerimientos\" data-toc-modified-id=\"Requerimientos-6.1\"><span class=\"toc-item-num\">6.1&nbsp;&nbsp;</span>Requerimientos</a></span><ul class=\"toc-item\"><li><span><a href=\"#Contraste-de-calificaciones-de-Xbox-ONE-y-PC\" data-toc-modified-id=\"Contraste-de-calificaciones-de-Xbox-ONE-y-PC-6.1.1\"><span class=\"toc-item-num\">6.1.1&nbsp;&nbsp;</span>Contraste de calificaciones de Xbox ONE y PC</a></span><ul class=\"toc-item\"><li><span><a href=\"#Reconocimiento-de-la-distribución-de-datos\" data-toc-modified-id=\"Reconocimiento-de-la-distribución-de-datos-6.1.1.1\"><span class=\"toc-item-num\">6.1.1.1&nbsp;&nbsp;</span>Reconocimiento de la distribución de datos</a></span></li><li><span><a href=\"#Formulación-de-Hipótesis\" data-toc-modified-id=\"Formulación-de-Hipótesis-6.1.1.2\"><span class=\"toc-item-num\">6.1.1.2&nbsp;&nbsp;</span>Formulación de Hipótesis</a></span></li><li><span><a href=\"#Aplicación-de-prueba-estadística\" data-toc-modified-id=\"Aplicación-de-prueba-estadística-6.1.1.3\"><span class=\"toc-item-num\">6.1.1.3&nbsp;&nbsp;</span>Aplicación de prueba estadística</a></span></li><li><span><a href=\"#Interpretación\" data-toc-modified-id=\"Interpretación-6.1.1.4\"><span class=\"toc-item-num\">6.1.1.4&nbsp;&nbsp;</span>Interpretación</a></span></li><li><span><a href=\"#Explicación\" data-toc-modified-id=\"Explicación-6.1.1.5\"><span class=\"toc-item-num\">6.1.1.5&nbsp;&nbsp;</span>Explicación</a></span></li></ul></li><li><span><a href=\"#Contraste-de-calificaciones-en-géneros-Acción-y-Deportes\" data-toc-modified-id=\"Contraste-de-calificaciones-en-géneros-Acción-y-Deportes-6.1.2\"><span class=\"toc-item-num\">6.1.2&nbsp;&nbsp;</span>Contraste de calificaciones en géneros Acción y Deportes</a></span><ul class=\"toc-item\"><li><span><a href=\"#Reconocimiento-de-la-distribución-de-datos\" data-toc-modified-id=\"Reconocimiento-de-la-distribución-de-datos-6.1.2.1\"><span class=\"toc-item-num\">6.1.2.1&nbsp;&nbsp;</span>Reconocimiento de la distribución de datos</a></span></li><li><span><a href=\"#Formulación-de-Hipótesis\" data-toc-modified-id=\"Formulación-de-Hipótesis-6.1.2.2\"><span class=\"toc-item-num\">6.1.2.2&nbsp;&nbsp;</span>Formulación de Hipótesis</a></span></li><li><span><a href=\"#Aplicación-de-prueba-estadística\" data-toc-modified-id=\"Aplicación-de-prueba-estadística-6.1.2.3\"><span class=\"toc-item-num\">6.1.2.3&nbsp;&nbsp;</span>Aplicación de prueba estadística</a></span></li><li><span><a href=\"#Interpretación\" data-toc-modified-id=\"Interpretación-6.1.2.4\"><span class=\"toc-item-num\">6.1.2.4&nbsp;&nbsp;</span>Interpretación</a></span></li><li><span><a href=\"#Explicación\" data-toc-modified-id=\"Explicación-6.1.2.5\"><span class=\"toc-item-num\">6.1.2.5&nbsp;&nbsp;</span>Explicación</a></span></li></ul></li></ul></li></ul></li><li><span><a href=\"#Conclusiones\" data-toc-modified-id=\"Conclusiones-7\"><span class=\"toc-item-num\">7&nbsp;&nbsp;</span><strong>Conclusiones</strong></a></span><ul class=\"toc-item\"><li><span><a href=\"#Resumen-de-resultados\" data-toc-modified-id=\"Resumen-de-resultados-7.1\"><span class=\"toc-item-num\">7.1&nbsp;&nbsp;</span>Resumen de resultados</a></span></li><li><span><a href=\"#Orientaciones-Estratégicas\" data-toc-modified-id=\"Orientaciones-Estratégicas-7.2\"><span class=\"toc-item-num\">7.2&nbsp;&nbsp;</span>Orientaciones Estratégicas</a></span></li><li><span><a href=\"#Limitaciones-y-Futuras-Investigaciones\" data-toc-modified-id=\"Limitaciones-y-Futuras-Investigaciones-7.3\"><span class=\"toc-item-num\">7.3&nbsp;&nbsp;</span>Limitaciones y Futuras Investigaciones</a></span></li></ul></li></ul></div>"
   ]
  },
  {
   "cell_type": "markdown",
   "metadata": {},
   "source": [
    "# Patrones de éxito de Videojuegos \t🎮\n",
    "\n",
    "Identificar los patrones que determinan el éxito de un juego de video en base reseñas de usuarios, expertos, géneros, platafoma y ventas que permitan a la tien Online Ice planificar una estrategia para el 2017."
   ]
  },
  {
   "cell_type": "markdown",
   "metadata": {},
   "source": [
    "## __Reconocimiento general del conjunto de datos__\n",
    "__Acciones a realizar:__\n",
    "\n",
    "- Analizar el Dataframe y sus atributos"
   ]
  },
  {
   "cell_type": "code",
   "execution_count": 1,
   "metadata": {},
   "outputs": [],
   "source": [
    "    # importación de librerías para EDA\n",
    "\n",
    "# Librerías para el tratamiento de datos\n",
    "import pandas as pd\n",
    "import numpy as np\n",
    "import math\n",
    "\n",
    "# Librerías para acceder a bases de datos remotas\n",
    "import requests\n",
    "import xml.etree.ElementTree as ET\n",
    "\n",
    "from IPython.display import FileLink\n",
    "\n",
    "# Librerías para trazado de gráficas\n",
    "import matplotlib.pyplot as plt\n",
    "import seaborn as sns\n",
    "import plotly.express as px\n",
    "import plotly.graph_objects as go\n",
    "from plotly.subplots import make_subplots\n",
    "\n",
    "# Librería para inferencia estadística\n",
    "from scipy import stats as st "
   ]
  },
  {
   "cell_type": "code",
   "execution_count": 2,
   "metadata": {},
   "outputs": [
    {
     "data": {
      "text/html": [
       "<div>\n",
       "<style scoped>\n",
       "    .dataframe tbody tr th:only-of-type {\n",
       "        vertical-align: middle;\n",
       "    }\n",
       "\n",
       "    .dataframe tbody tr th {\n",
       "        vertical-align: top;\n",
       "    }\n",
       "\n",
       "    .dataframe thead th {\n",
       "        text-align: right;\n",
       "    }\n",
       "</style>\n",
       "<table border=\"1\" class=\"dataframe\">\n",
       "  <thead>\n",
       "    <tr style=\"text-align: right;\">\n",
       "      <th></th>\n",
       "      <th>Name</th>\n",
       "      <th>Platform</th>\n",
       "      <th>Year_of_Release</th>\n",
       "      <th>Genre</th>\n",
       "      <th>NA_sales</th>\n",
       "      <th>EU_sales</th>\n",
       "      <th>JP_sales</th>\n",
       "      <th>Other_sales</th>\n",
       "      <th>Critic_Score</th>\n",
       "      <th>User_Score</th>\n",
       "      <th>Rating</th>\n",
       "    </tr>\n",
       "  </thead>\n",
       "  <tbody>\n",
       "    <tr>\n",
       "      <th>0</th>\n",
       "      <td>Wii Sports</td>\n",
       "      <td>Wii</td>\n",
       "      <td>2006.0</td>\n",
       "      <td>Sports</td>\n",
       "      <td>41.36</td>\n",
       "      <td>28.96</td>\n",
       "      <td>3.77</td>\n",
       "      <td>8.45</td>\n",
       "      <td>76.0</td>\n",
       "      <td>8</td>\n",
       "      <td>E</td>\n",
       "    </tr>\n",
       "    <tr>\n",
       "      <th>1</th>\n",
       "      <td>Super Mario Bros.</td>\n",
       "      <td>NES</td>\n",
       "      <td>1985.0</td>\n",
       "      <td>Platform</td>\n",
       "      <td>29.08</td>\n",
       "      <td>3.58</td>\n",
       "      <td>6.81</td>\n",
       "      <td>0.77</td>\n",
       "      <td>NaN</td>\n",
       "      <td>NaN</td>\n",
       "      <td>NaN</td>\n",
       "    </tr>\n",
       "    <tr>\n",
       "      <th>2</th>\n",
       "      <td>Mario Kart Wii</td>\n",
       "      <td>Wii</td>\n",
       "      <td>2008.0</td>\n",
       "      <td>Racing</td>\n",
       "      <td>15.68</td>\n",
       "      <td>12.76</td>\n",
       "      <td>3.79</td>\n",
       "      <td>3.29</td>\n",
       "      <td>82.0</td>\n",
       "      <td>8.3</td>\n",
       "      <td>E</td>\n",
       "    </tr>\n",
       "    <tr>\n",
       "      <th>3</th>\n",
       "      <td>Wii Sports Resort</td>\n",
       "      <td>Wii</td>\n",
       "      <td>2009.0</td>\n",
       "      <td>Sports</td>\n",
       "      <td>15.61</td>\n",
       "      <td>10.93</td>\n",
       "      <td>3.28</td>\n",
       "      <td>2.95</td>\n",
       "      <td>80.0</td>\n",
       "      <td>8</td>\n",
       "      <td>E</td>\n",
       "    </tr>\n",
       "    <tr>\n",
       "      <th>4</th>\n",
       "      <td>Pokemon Red/Pokemon Blue</td>\n",
       "      <td>GB</td>\n",
       "      <td>1996.0</td>\n",
       "      <td>Role-Playing</td>\n",
       "      <td>11.27</td>\n",
       "      <td>8.89</td>\n",
       "      <td>10.22</td>\n",
       "      <td>1.00</td>\n",
       "      <td>NaN</td>\n",
       "      <td>NaN</td>\n",
       "      <td>NaN</td>\n",
       "    </tr>\n",
       "    <tr>\n",
       "      <th>...</th>\n",
       "      <td>...</td>\n",
       "      <td>...</td>\n",
       "      <td>...</td>\n",
       "      <td>...</td>\n",
       "      <td>...</td>\n",
       "      <td>...</td>\n",
       "      <td>...</td>\n",
       "      <td>...</td>\n",
       "      <td>...</td>\n",
       "      <td>...</td>\n",
       "      <td>...</td>\n",
       "    </tr>\n",
       "    <tr>\n",
       "      <th>16710</th>\n",
       "      <td>Samurai Warriors: Sanada Maru</td>\n",
       "      <td>PS3</td>\n",
       "      <td>2016.0</td>\n",
       "      <td>Action</td>\n",
       "      <td>0.00</td>\n",
       "      <td>0.00</td>\n",
       "      <td>0.01</td>\n",
       "      <td>0.00</td>\n",
       "      <td>NaN</td>\n",
       "      <td>NaN</td>\n",
       "      <td>NaN</td>\n",
       "    </tr>\n",
       "    <tr>\n",
       "      <th>16711</th>\n",
       "      <td>LMA Manager 2007</td>\n",
       "      <td>X360</td>\n",
       "      <td>2006.0</td>\n",
       "      <td>Sports</td>\n",
       "      <td>0.00</td>\n",
       "      <td>0.01</td>\n",
       "      <td>0.00</td>\n",
       "      <td>0.00</td>\n",
       "      <td>NaN</td>\n",
       "      <td>NaN</td>\n",
       "      <td>NaN</td>\n",
       "    </tr>\n",
       "    <tr>\n",
       "      <th>16712</th>\n",
       "      <td>Haitaka no Psychedelica</td>\n",
       "      <td>PSV</td>\n",
       "      <td>2016.0</td>\n",
       "      <td>Adventure</td>\n",
       "      <td>0.00</td>\n",
       "      <td>0.00</td>\n",
       "      <td>0.01</td>\n",
       "      <td>0.00</td>\n",
       "      <td>NaN</td>\n",
       "      <td>NaN</td>\n",
       "      <td>NaN</td>\n",
       "    </tr>\n",
       "    <tr>\n",
       "      <th>16713</th>\n",
       "      <td>Spirits &amp; Spells</td>\n",
       "      <td>GBA</td>\n",
       "      <td>2003.0</td>\n",
       "      <td>Platform</td>\n",
       "      <td>0.01</td>\n",
       "      <td>0.00</td>\n",
       "      <td>0.00</td>\n",
       "      <td>0.00</td>\n",
       "      <td>NaN</td>\n",
       "      <td>NaN</td>\n",
       "      <td>NaN</td>\n",
       "    </tr>\n",
       "    <tr>\n",
       "      <th>16714</th>\n",
       "      <td>Winning Post 8 2016</td>\n",
       "      <td>PSV</td>\n",
       "      <td>2016.0</td>\n",
       "      <td>Simulation</td>\n",
       "      <td>0.00</td>\n",
       "      <td>0.00</td>\n",
       "      <td>0.01</td>\n",
       "      <td>0.00</td>\n",
       "      <td>NaN</td>\n",
       "      <td>NaN</td>\n",
       "      <td>NaN</td>\n",
       "    </tr>\n",
       "  </tbody>\n",
       "</table>\n",
       "<p>16715 rows × 11 columns</p>\n",
       "</div>"
      ],
      "text/plain": [
       "                                Name Platform  Year_of_Release         Genre  \\\n",
       "0                         Wii Sports      Wii           2006.0        Sports   \n",
       "1                  Super Mario Bros.      NES           1985.0      Platform   \n",
       "2                     Mario Kart Wii      Wii           2008.0        Racing   \n",
       "3                  Wii Sports Resort      Wii           2009.0        Sports   \n",
       "4           Pokemon Red/Pokemon Blue       GB           1996.0  Role-Playing   \n",
       "...                              ...      ...              ...           ...   \n",
       "16710  Samurai Warriors: Sanada Maru      PS3           2016.0        Action   \n",
       "16711               LMA Manager 2007     X360           2006.0        Sports   \n",
       "16712        Haitaka no Psychedelica      PSV           2016.0     Adventure   \n",
       "16713               Spirits & Spells      GBA           2003.0      Platform   \n",
       "16714            Winning Post 8 2016      PSV           2016.0    Simulation   \n",
       "\n",
       "       NA_sales  EU_sales  JP_sales  Other_sales  Critic_Score User_Score  \\\n",
       "0         41.36     28.96      3.77         8.45          76.0          8   \n",
       "1         29.08      3.58      6.81         0.77           NaN        NaN   \n",
       "2         15.68     12.76      3.79         3.29          82.0        8.3   \n",
       "3         15.61     10.93      3.28         2.95          80.0          8   \n",
       "4         11.27      8.89     10.22         1.00           NaN        NaN   \n",
       "...         ...       ...       ...          ...           ...        ...   \n",
       "16710      0.00      0.00      0.01         0.00           NaN        NaN   \n",
       "16711      0.00      0.01      0.00         0.00           NaN        NaN   \n",
       "16712      0.00      0.00      0.01         0.00           NaN        NaN   \n",
       "16713      0.01      0.00      0.00         0.00           NaN        NaN   \n",
       "16714      0.00      0.00      0.01         0.00           NaN        NaN   \n",
       "\n",
       "      Rating  \n",
       "0          E  \n",
       "1        NaN  \n",
       "2          E  \n",
       "3          E  \n",
       "4        NaN  \n",
       "...      ...  \n",
       "16710    NaN  \n",
       "16711    NaN  \n",
       "16712    NaN  \n",
       "16713    NaN  \n",
       "16714    NaN  \n",
       "\n",
       "[16715 rows x 11 columns]"
      ]
     },
     "execution_count": 2,
     "metadata": {},
     "output_type": "execute_result"
    }
   ],
   "source": [
    "#Cargar el dataset de juegos\n",
    "games_df = pd.read_csv('games.csv')\n",
    "\n",
    "#Visualización del dataaframe\n",
    "games_df"
   ]
  },
  {
   "cell_type": "code",
   "execution_count": 3,
   "metadata": {},
   "outputs": [
    {
     "name": "stdout",
     "output_type": "stream",
     "text": [
      "<class 'pandas.core.frame.DataFrame'>\n",
      "RangeIndex: 16715 entries, 0 to 16714\n",
      "Data columns (total 11 columns):\n",
      " #   Column           Non-Null Count  Dtype  \n",
      "---  ------           --------------  -----  \n",
      " 0   Name             16713 non-null  object \n",
      " 1   Platform         16715 non-null  object \n",
      " 2   Year_of_Release  16446 non-null  float64\n",
      " 3   Genre            16713 non-null  object \n",
      " 4   NA_sales         16715 non-null  float64\n",
      " 5   EU_sales         16715 non-null  float64\n",
      " 6   JP_sales         16715 non-null  float64\n",
      " 7   Other_sales      16715 non-null  float64\n",
      " 8   Critic_Score     8137 non-null   float64\n",
      " 9   User_Score       10014 non-null  object \n",
      " 10  Rating           9949 non-null   object \n",
      "dtypes: float64(6), object(5)\n",
      "memory usage: 1.4+ MB\n"
     ]
    }
   ],
   "source": [
    "games_df.info() # Obtener informacion general del df"
   ]
  },
  {
   "cell_type": "markdown",
   "metadata": {},
   "source": [
    "### Observaciones preliminares:\n",
    "\n",
    "- El dataset no tiene columna de id, ni identificador numérico para alguno de los atributos. Como se trata de un único dataset, parece ser necesario realizar consultas o filtros por id, tampoco agregar identificador a cada juego.\n",
    "\n",
    "- Existen 16715 filas y en la columna name 16713, es decir 2 filas no tienen nombre de juego.\n",
    "\n",
    "- La columna de año de lanzamiento es de punto flotante y 269 valores ausentes\n",
    "\n",
    "- La columna género tiene 2 valores ausentes\n",
    "\n",
    "- Las columnas de ventas tienen valores completos y son de tipo float\n",
    "\n",
    "- La columna de puntaje crítico posee 8137 valores (casi el 49%)\n",
    "\n",
    "- La columna de puntaje de usuario posee 10014 valores (casi el 60%) y es del tipo object\n",
    "\n",
    "- La columna de clasificación posee 9949 valores"
   ]
  },
  {
   "cell_type": "markdown",
   "metadata": {},
   "source": [
    "## __Estructuración de Datos__\n",
    "**Acciones a realizar:**\n",
    "\n",
    "_Inspección de columnas con strings no numéricos_\n",
    "\n",
    "_Conversión/Formateo_\n",
    "- Convertir a tipo entero la columna 'Year_of_Release'.\n",
    "- Convertir a columna 'User_Score' a float.\n",
    "- Convertir todos los strings a minúsculas incluyendo nombre de columnas."
   ]
  },
  {
   "cell_type": "markdown",
   "metadata": {},
   "source": [
    "### Inspección de strings no numéricos"
   ]
  },
  {
   "cell_type": "markdown",
   "metadata": {},
   "source": [
    "Se menciona la presencia de un string 'tbd' (To Be Determined). Se inspeccionará qué atributos de tipo object lo tienen"
   ]
  },
  {
   "cell_type": "code",
   "execution_count": 4,
   "metadata": {},
   "outputs": [],
   "source": [
    "# Se definen los atributos a inspeccionar (columnas)\n",
    "features = games_df.select_dtypes(include='object').columns"
   ]
  },
  {
   "cell_type": "code",
   "execution_count": 5,
   "metadata": {},
   "outputs": [
    {
     "name": "stdout",
     "output_type": "stream",
     "text": [
      "Name 0\n",
      "Platform 0\n",
      "Genre 0\n",
      "User_Score 2424\n",
      "Rating 0\n"
     ]
    }
   ],
   "source": [
    "# obtener conteo de 'tbd' en cada columna\n",
    "for feature in features:\n",
    "    print(feature, games_df[feature].str.contains('tbd', case=False).sum())"
   ]
  },
  {
   "cell_type": "code",
   "execution_count": 6,
   "metadata": {
    "scrolled": false
   },
   "outputs": [
    {
     "data": {
      "text/plain": [
       "tbd    2424\n",
       "7.8     324\n",
       "8       290\n",
       "8.2     282\n",
       "8.3     254\n",
       "       ... \n",
       "0.5       2\n",
       "1         2\n",
       "0.3       2\n",
       "9.7       1\n",
       "0         1\n",
       "Name: User_Score, Length: 96, dtype: int64"
      ]
     },
     "execution_count": 6,
     "metadata": {},
     "output_type": "execute_result"
    }
   ],
   "source": [
    "#Observar s la columna 'User_Score' contiene más strings no numéricos\n",
    "games_df['User_Score'].value_counts()"
   ]
  },
  {
   "cell_type": "markdown",
   "metadata": {},
   "source": [
    "Solamente la columna de puntaje de usuario contiene el string 'tbd' que no representa una valoración medible. Tampoco posee más strings no numéricos por tanto se opta por reemplazar por valores NaN."
   ]
  },
  {
   "cell_type": "markdown",
   "metadata": {},
   "source": [
    "### Conversión/Formate de columnas"
   ]
  },
  {
   "cell_type": "code",
   "execution_count": 7,
   "metadata": {
    "scrolled": true
   },
   "outputs": [
    {
     "name": "stdout",
     "output_type": "stream",
     "text": [
      "Name                object\n",
      "Platform            object\n",
      "Year_of_Release      Int64\n",
      "Genre               object\n",
      "NA_sales           float64\n",
      "EU_sales           float64\n",
      "JP_sales           float64\n",
      "Other_sales        float64\n",
      "Critic_Score       float64\n",
      "User_Score         float64\n",
      "Rating              object\n",
      "dtype: object\n"
     ]
    }
   ],
   "source": [
    "# Convertir la columna 'Year_of_Release' a valores numéricos. Los strings no numéricos serán NaN\n",
    "games_df['Year_of_Release'] = pd.to_numeric(games_df['Year_of_Release'], errors='coerce')\n",
    "games_df['Year_of_Release'] = games_df['Year_of_Release'].astype('Int64')\n",
    "\n",
    "#Conversión float de la columna 'User_Score'.  Los strings no numéricos serán NaN\n",
    "games_df['User_Score'] = pd.to_numeric(games_df['User_Score'], errors='coerce')\n",
    "games_df['User_Score'] = games_df['User_Score'].astype('float64')\n",
    "\n",
    "#Verificacion de conversión\n",
    "print(games_df.dtypes)"
   ]
  },
  {
   "cell_type": "code",
   "execution_count": 8,
   "metadata": {},
   "outputs": [],
   "source": [
    "# Convertir a minúsculas los nombres de columnas\n",
    "games_df.columns = map(str.lower, games_df.columns)\n",
    "\n",
    "# Convertir a minúsculas los valores de todas las columnas Object\n",
    "games_df = games_df.applymap(lambda x: x.lower() if isinstance(x, str) else x)"
   ]
  },
  {
   "cell_type": "code",
   "execution_count": 9,
   "metadata": {
    "scrolled": true
   },
   "outputs": [
    {
     "name": "stdout",
     "output_type": "stream",
     "text": [
      "<class 'pandas.core.frame.DataFrame'>\n",
      "RangeIndex: 16715 entries, 0 to 16714\n",
      "Data columns (total 11 columns):\n",
      " #   Column           Non-Null Count  Dtype  \n",
      "---  ------           --------------  -----  \n",
      " 0   name             16713 non-null  object \n",
      " 1   platform         16715 non-null  object \n",
      " 2   year_of_release  16446 non-null  object \n",
      " 3   genre            16713 non-null  object \n",
      " 4   na_sales         16715 non-null  float64\n",
      " 5   eu_sales         16715 non-null  float64\n",
      " 6   jp_sales         16715 non-null  float64\n",
      " 7   other_sales      16715 non-null  float64\n",
      " 8   critic_score     8137 non-null   float64\n",
      " 9   user_score       7590 non-null   float64\n",
      " 10  rating           9949 non-null   object \n",
      "dtypes: float64(6), object(5)\n",
      "memory usage: 1.4+ MB\n"
     ]
    }
   ],
   "source": [
    "#Verificación de estructuración y formato\n",
    "games_df.info()"
   ]
  },
  {
   "cell_type": "code",
   "execution_count": 10,
   "metadata": {
    "scrolled": false
   },
   "outputs": [
    {
     "data": {
      "text/html": [
       "<div>\n",
       "<style scoped>\n",
       "    .dataframe tbody tr th:only-of-type {\n",
       "        vertical-align: middle;\n",
       "    }\n",
       "\n",
       "    .dataframe tbody tr th {\n",
       "        vertical-align: top;\n",
       "    }\n",
       "\n",
       "    .dataframe thead th {\n",
       "        text-align: right;\n",
       "    }\n",
       "</style>\n",
       "<table border=\"1\" class=\"dataframe\">\n",
       "  <thead>\n",
       "    <tr style=\"text-align: right;\">\n",
       "      <th></th>\n",
       "      <th>name</th>\n",
       "      <th>platform</th>\n",
       "      <th>year_of_release</th>\n",
       "      <th>genre</th>\n",
       "      <th>na_sales</th>\n",
       "      <th>eu_sales</th>\n",
       "      <th>jp_sales</th>\n",
       "      <th>other_sales</th>\n",
       "      <th>critic_score</th>\n",
       "      <th>user_score</th>\n",
       "      <th>rating</th>\n",
       "    </tr>\n",
       "  </thead>\n",
       "  <tbody>\n",
       "    <tr>\n",
       "      <th>0</th>\n",
       "      <td>wii sports</td>\n",
       "      <td>wii</td>\n",
       "      <td>2006</td>\n",
       "      <td>sports</td>\n",
       "      <td>41.36</td>\n",
       "      <td>28.96</td>\n",
       "      <td>3.77</td>\n",
       "      <td>8.45</td>\n",
       "      <td>76.0</td>\n",
       "      <td>8.0</td>\n",
       "      <td>e</td>\n",
       "    </tr>\n",
       "    <tr>\n",
       "      <th>1</th>\n",
       "      <td>super mario bros.</td>\n",
       "      <td>nes</td>\n",
       "      <td>1985</td>\n",
       "      <td>platform</td>\n",
       "      <td>29.08</td>\n",
       "      <td>3.58</td>\n",
       "      <td>6.81</td>\n",
       "      <td>0.77</td>\n",
       "      <td>NaN</td>\n",
       "      <td>NaN</td>\n",
       "      <td>NaN</td>\n",
       "    </tr>\n",
       "    <tr>\n",
       "      <th>2</th>\n",
       "      <td>mario kart wii</td>\n",
       "      <td>wii</td>\n",
       "      <td>2008</td>\n",
       "      <td>racing</td>\n",
       "      <td>15.68</td>\n",
       "      <td>12.76</td>\n",
       "      <td>3.79</td>\n",
       "      <td>3.29</td>\n",
       "      <td>82.0</td>\n",
       "      <td>8.3</td>\n",
       "      <td>e</td>\n",
       "    </tr>\n",
       "    <tr>\n",
       "      <th>3</th>\n",
       "      <td>wii sports resort</td>\n",
       "      <td>wii</td>\n",
       "      <td>2009</td>\n",
       "      <td>sports</td>\n",
       "      <td>15.61</td>\n",
       "      <td>10.93</td>\n",
       "      <td>3.28</td>\n",
       "      <td>2.95</td>\n",
       "      <td>80.0</td>\n",
       "      <td>8.0</td>\n",
       "      <td>e</td>\n",
       "    </tr>\n",
       "    <tr>\n",
       "      <th>4</th>\n",
       "      <td>pokemon red/pokemon blue</td>\n",
       "      <td>gb</td>\n",
       "      <td>1996</td>\n",
       "      <td>role-playing</td>\n",
       "      <td>11.27</td>\n",
       "      <td>8.89</td>\n",
       "      <td>10.22</td>\n",
       "      <td>1.00</td>\n",
       "      <td>NaN</td>\n",
       "      <td>NaN</td>\n",
       "      <td>NaN</td>\n",
       "    </tr>\n",
       "  </tbody>\n",
       "</table>\n",
       "</div>"
      ],
      "text/plain": [
       "                       name platform year_of_release         genre  na_sales  \\\n",
       "0                wii sports      wii            2006        sports     41.36   \n",
       "1         super mario bros.      nes            1985      platform     29.08   \n",
       "2            mario kart wii      wii            2008        racing     15.68   \n",
       "3         wii sports resort      wii            2009        sports     15.61   \n",
       "4  pokemon red/pokemon blue       gb            1996  role-playing     11.27   \n",
       "\n",
       "   eu_sales  jp_sales  other_sales  critic_score  user_score rating  \n",
       "0     28.96      3.77         8.45          76.0         8.0      e  \n",
       "1      3.58      6.81         0.77           NaN         NaN    NaN  \n",
       "2     12.76      3.79         3.29          82.0         8.3      e  \n",
       "3     10.93      3.28         2.95          80.0         8.0      e  \n",
       "4      8.89     10.22         1.00           NaN         NaN    NaN  "
      ]
     },
     "execution_count": 10,
     "metadata": {},
     "output_type": "execute_result"
    }
   ],
   "source": [
    "# Verificación de conversión a minúsculas de los valores y nombres de columnas\n",
    "games_df.head()"
   ]
  },
  {
   "cell_type": "markdown",
   "metadata": {},
   "source": [
    "Conversiones y formateo necesarios realizados correctamente."
   ]
  },
  {
   "cell_type": "markdown",
   "metadata": {},
   "source": [
    "## __Limpieza de Datos__\n",
    "**Acciones a realizar:**\n",
    "\n",
    "_Gestión de valores ausentes_\n",
    "- Identificar valores Nulos.\n",
    "- Eliminar o reemplazar determinados valores nulos\n",
    "\n",
    "_Gestión de valores duplicados_\n",
    "- Identificar duplicados completos.\n",
    "- Eliminar duplicados completos.\n",
    "- Eliminar duplicados implícitos"
   ]
  },
  {
   "cell_type": "markdown",
   "metadata": {},
   "source": [
    "### Gestión de Valores Ausentes\n",
    "\n",
    "Se procede a identificar valores Nulos y luego\n",
    "Eliminar/reemplazar determinados valores nulos"
   ]
  },
  {
   "cell_type": "markdown",
   "metadata": {},
   "source": [
    "#### Identificar valores ausentes\n",
    "Se inspecciona la presencia de valores ausentes en cada atributo del dataframe"
   ]
  },
  {
   "cell_type": "code",
   "execution_count": 11,
   "metadata": {},
   "outputs": [
    {
     "data": {
      "text/plain": [
       "name                  2\n",
       "platform              0\n",
       "year_of_release     269\n",
       "genre                 2\n",
       "na_sales              0\n",
       "eu_sales              0\n",
       "jp_sales              0\n",
       "other_sales           0\n",
       "critic_score       8578\n",
       "user_score         9125\n",
       "rating             6766\n",
       "dtype: int64"
      ]
     },
     "execution_count": 11,
     "metadata": {},
     "output_type": "execute_result"
    }
   ],
   "source": [
    "games_df.isna().sum() # Mostrar cantidad de nulos por columna"
   ]
  },
  {
   "cell_type": "code",
   "execution_count": 12,
   "metadata": {
    "scrolled": true
   },
   "outputs": [
    {
     "data": {
      "text/html": [
       "<div>\n",
       "<style scoped>\n",
       "    .dataframe tbody tr th:only-of-type {\n",
       "        vertical-align: middle;\n",
       "    }\n",
       "\n",
       "    .dataframe tbody tr th {\n",
       "        vertical-align: top;\n",
       "    }\n",
       "\n",
       "    .dataframe thead th {\n",
       "        text-align: right;\n",
       "    }\n",
       "</style>\n",
       "<table border=\"1\" class=\"dataframe\">\n",
       "  <thead>\n",
       "    <tr style=\"text-align: right;\">\n",
       "      <th></th>\n",
       "      <th>name</th>\n",
       "      <th>platform</th>\n",
       "      <th>year_of_release</th>\n",
       "      <th>genre</th>\n",
       "      <th>na_sales</th>\n",
       "      <th>eu_sales</th>\n",
       "      <th>jp_sales</th>\n",
       "      <th>other_sales</th>\n",
       "      <th>critic_score</th>\n",
       "      <th>user_score</th>\n",
       "      <th>rating</th>\n",
       "    </tr>\n",
       "  </thead>\n",
       "  <tbody>\n",
       "    <tr>\n",
       "      <th>659</th>\n",
       "      <td>NaN</td>\n",
       "      <td>gen</td>\n",
       "      <td>1993</td>\n",
       "      <td>NaN</td>\n",
       "      <td>1.78</td>\n",
       "      <td>0.53</td>\n",
       "      <td>0.00</td>\n",
       "      <td>0.08</td>\n",
       "      <td>NaN</td>\n",
       "      <td>NaN</td>\n",
       "      <td>NaN</td>\n",
       "    </tr>\n",
       "    <tr>\n",
       "      <th>14244</th>\n",
       "      <td>NaN</td>\n",
       "      <td>gen</td>\n",
       "      <td>1993</td>\n",
       "      <td>NaN</td>\n",
       "      <td>0.00</td>\n",
       "      <td>0.00</td>\n",
       "      <td>0.03</td>\n",
       "      <td>0.00</td>\n",
       "      <td>NaN</td>\n",
       "      <td>NaN</td>\n",
       "      <td>NaN</td>\n",
       "    </tr>\n",
       "  </tbody>\n",
       "</table>\n",
       "</div>"
      ],
      "text/plain": [
       "      name platform year_of_release genre  na_sales  eu_sales  jp_sales  \\\n",
       "659    NaN      gen            1993   NaN      1.78      0.53      0.00   \n",
       "14244  NaN      gen            1993   NaN      0.00      0.00      0.03   \n",
       "\n",
       "       other_sales  critic_score  user_score rating  \n",
       "659           0.08           NaN         NaN    NaN  \n",
       "14244         0.00           NaN         NaN    NaN  "
      ]
     },
     "execution_count": 12,
     "metadata": {},
     "output_type": "execute_result"
    }
   ],
   "source": [
    "# Observar los juegos sin nombre\n",
    "games_df[games_df['name'].isna()]"
   ]
  },
  {
   "cell_type": "code",
   "execution_count": 13,
   "metadata": {},
   "outputs": [
    {
     "data": {
      "text/html": [
       "<div>\n",
       "<style scoped>\n",
       "    .dataframe tbody tr th:only-of-type {\n",
       "        vertical-align: middle;\n",
       "    }\n",
       "\n",
       "    .dataframe tbody tr th {\n",
       "        vertical-align: top;\n",
       "    }\n",
       "\n",
       "    .dataframe thead th {\n",
       "        text-align: right;\n",
       "    }\n",
       "</style>\n",
       "<table border=\"1\" class=\"dataframe\">\n",
       "  <thead>\n",
       "    <tr style=\"text-align: right;\">\n",
       "      <th></th>\n",
       "      <th>name</th>\n",
       "      <th>platform</th>\n",
       "      <th>year_of_release</th>\n",
       "      <th>genre</th>\n",
       "      <th>na_sales</th>\n",
       "      <th>eu_sales</th>\n",
       "      <th>jp_sales</th>\n",
       "      <th>other_sales</th>\n",
       "      <th>critic_score</th>\n",
       "      <th>user_score</th>\n",
       "      <th>rating</th>\n",
       "    </tr>\n",
       "  </thead>\n",
       "  <tbody>\n",
       "    <tr>\n",
       "      <th>183</th>\n",
       "      <td>madden nfl 2004</td>\n",
       "      <td>ps2</td>\n",
       "      <td>&lt;NA&gt;</td>\n",
       "      <td>sports</td>\n",
       "      <td>4.26</td>\n",
       "      <td>0.26</td>\n",
       "      <td>0.01</td>\n",
       "      <td>0.71</td>\n",
       "      <td>94.0</td>\n",
       "      <td>8.5</td>\n",
       "      <td>e</td>\n",
       "    </tr>\n",
       "    <tr>\n",
       "      <th>377</th>\n",
       "      <td>fifa soccer 2004</td>\n",
       "      <td>ps2</td>\n",
       "      <td>&lt;NA&gt;</td>\n",
       "      <td>sports</td>\n",
       "      <td>0.59</td>\n",
       "      <td>2.36</td>\n",
       "      <td>0.04</td>\n",
       "      <td>0.51</td>\n",
       "      <td>84.0</td>\n",
       "      <td>6.4</td>\n",
       "      <td>e</td>\n",
       "    </tr>\n",
       "    <tr>\n",
       "      <th>456</th>\n",
       "      <td>lego batman: the videogame</td>\n",
       "      <td>wii</td>\n",
       "      <td>&lt;NA&gt;</td>\n",
       "      <td>action</td>\n",
       "      <td>1.80</td>\n",
       "      <td>0.97</td>\n",
       "      <td>0.00</td>\n",
       "      <td>0.29</td>\n",
       "      <td>74.0</td>\n",
       "      <td>7.9</td>\n",
       "      <td>e10+</td>\n",
       "    </tr>\n",
       "    <tr>\n",
       "      <th>475</th>\n",
       "      <td>wwe smackdown vs. raw 2006</td>\n",
       "      <td>ps2</td>\n",
       "      <td>&lt;NA&gt;</td>\n",
       "      <td>fighting</td>\n",
       "      <td>1.57</td>\n",
       "      <td>1.02</td>\n",
       "      <td>0.00</td>\n",
       "      <td>0.41</td>\n",
       "      <td>NaN</td>\n",
       "      <td>NaN</td>\n",
       "      <td>NaN</td>\n",
       "    </tr>\n",
       "    <tr>\n",
       "      <th>609</th>\n",
       "      <td>space invaders</td>\n",
       "      <td>2600</td>\n",
       "      <td>&lt;NA&gt;</td>\n",
       "      <td>shooter</td>\n",
       "      <td>2.36</td>\n",
       "      <td>0.14</td>\n",
       "      <td>0.00</td>\n",
       "      <td>0.03</td>\n",
       "      <td>NaN</td>\n",
       "      <td>NaN</td>\n",
       "      <td>NaN</td>\n",
       "    </tr>\n",
       "    <tr>\n",
       "      <th>...</th>\n",
       "      <td>...</td>\n",
       "      <td>...</td>\n",
       "      <td>...</td>\n",
       "      <td>...</td>\n",
       "      <td>...</td>\n",
       "      <td>...</td>\n",
       "      <td>...</td>\n",
       "      <td>...</td>\n",
       "      <td>...</td>\n",
       "      <td>...</td>\n",
       "      <td>...</td>\n",
       "    </tr>\n",
       "    <tr>\n",
       "      <th>16373</th>\n",
       "      <td>pdc world championship darts 2008</td>\n",
       "      <td>psp</td>\n",
       "      <td>&lt;NA&gt;</td>\n",
       "      <td>sports</td>\n",
       "      <td>0.01</td>\n",
       "      <td>0.00</td>\n",
       "      <td>0.00</td>\n",
       "      <td>0.00</td>\n",
       "      <td>43.0</td>\n",
       "      <td>NaN</td>\n",
       "      <td>e10+</td>\n",
       "    </tr>\n",
       "    <tr>\n",
       "      <th>16405</th>\n",
       "      <td>freaky flyers</td>\n",
       "      <td>gc</td>\n",
       "      <td>&lt;NA&gt;</td>\n",
       "      <td>racing</td>\n",
       "      <td>0.01</td>\n",
       "      <td>0.00</td>\n",
       "      <td>0.00</td>\n",
       "      <td>0.00</td>\n",
       "      <td>69.0</td>\n",
       "      <td>6.5</td>\n",
       "      <td>t</td>\n",
       "    </tr>\n",
       "    <tr>\n",
       "      <th>16448</th>\n",
       "      <td>inversion</td>\n",
       "      <td>pc</td>\n",
       "      <td>&lt;NA&gt;</td>\n",
       "      <td>shooter</td>\n",
       "      <td>0.01</td>\n",
       "      <td>0.00</td>\n",
       "      <td>0.00</td>\n",
       "      <td>0.00</td>\n",
       "      <td>59.0</td>\n",
       "      <td>6.7</td>\n",
       "      <td>m</td>\n",
       "    </tr>\n",
       "    <tr>\n",
       "      <th>16458</th>\n",
       "      <td>hakuouki: shinsengumi kitan</td>\n",
       "      <td>ps3</td>\n",
       "      <td>&lt;NA&gt;</td>\n",
       "      <td>adventure</td>\n",
       "      <td>0.01</td>\n",
       "      <td>0.00</td>\n",
       "      <td>0.00</td>\n",
       "      <td>0.00</td>\n",
       "      <td>NaN</td>\n",
       "      <td>NaN</td>\n",
       "      <td>NaN</td>\n",
       "    </tr>\n",
       "    <tr>\n",
       "      <th>16522</th>\n",
       "      <td>virtua quest</td>\n",
       "      <td>gc</td>\n",
       "      <td>&lt;NA&gt;</td>\n",
       "      <td>role-playing</td>\n",
       "      <td>0.01</td>\n",
       "      <td>0.00</td>\n",
       "      <td>0.00</td>\n",
       "      <td>0.00</td>\n",
       "      <td>55.0</td>\n",
       "      <td>5.5</td>\n",
       "      <td>t</td>\n",
       "    </tr>\n",
       "  </tbody>\n",
       "</table>\n",
       "<p>269 rows × 11 columns</p>\n",
       "</div>"
      ],
      "text/plain": [
       "                                    name platform year_of_release  \\\n",
       "183                      madden nfl 2004      ps2            <NA>   \n",
       "377                     fifa soccer 2004      ps2            <NA>   \n",
       "456           lego batman: the videogame      wii            <NA>   \n",
       "475           wwe smackdown vs. raw 2006      ps2            <NA>   \n",
       "609                       space invaders     2600            <NA>   \n",
       "...                                  ...      ...             ...   \n",
       "16373  pdc world championship darts 2008      psp            <NA>   \n",
       "16405                      freaky flyers       gc            <NA>   \n",
       "16448                          inversion       pc            <NA>   \n",
       "16458        hakuouki: shinsengumi kitan      ps3            <NA>   \n",
       "16522                       virtua quest       gc            <NA>   \n",
       "\n",
       "              genre  na_sales  eu_sales  jp_sales  other_sales  critic_score  \\\n",
       "183          sports      4.26      0.26      0.01         0.71          94.0   \n",
       "377          sports      0.59      2.36      0.04         0.51          84.0   \n",
       "456          action      1.80      0.97      0.00         0.29          74.0   \n",
       "475        fighting      1.57      1.02      0.00         0.41           NaN   \n",
       "609         shooter      2.36      0.14      0.00         0.03           NaN   \n",
       "...             ...       ...       ...       ...          ...           ...   \n",
       "16373        sports      0.01      0.00      0.00         0.00          43.0   \n",
       "16405        racing      0.01      0.00      0.00         0.00          69.0   \n",
       "16448       shooter      0.01      0.00      0.00         0.00          59.0   \n",
       "16458     adventure      0.01      0.00      0.00         0.00           NaN   \n",
       "16522  role-playing      0.01      0.00      0.00         0.00          55.0   \n",
       "\n",
       "       user_score rating  \n",
       "183           8.5      e  \n",
       "377           6.4      e  \n",
       "456           7.9   e10+  \n",
       "475           NaN    NaN  \n",
       "609           NaN    NaN  \n",
       "...           ...    ...  \n",
       "16373         NaN   e10+  \n",
       "16405         6.5      t  \n",
       "16448         6.7      m  \n",
       "16458         NaN    NaN  \n",
       "16522         5.5      t  \n",
       "\n",
       "[269 rows x 11 columns]"
      ]
     },
     "execution_count": 13,
     "metadata": {},
     "output_type": "execute_result"
    }
   ],
   "source": [
    "#Observar los 269 juegos sin año de lanzamiento\n",
    "games_df[games_df['year_of_release'].isna()]"
   ]
  },
  {
   "cell_type": "markdown",
   "metadata": {},
   "source": [
    "__Observaciones:__\n",
    "\n",
    "- Existen 2 juegos sin nombre, no se los puede identificar evidentemente pero que sí vendieron a fin de cuentas una cantidad mínima. No se los elimina del análisis pero la tienda podría posteriormente identificarlos en un registro contable minucioso. De antemano se vaticina que estos dos juegos representan una proporción baja de ingresos.\n",
    "\n",
    "\n",
    "- 269 juegos no tienen año de lanzamiento, pero eso no significa que deban excluirse del análisis, ya que lo importante es conocer su score y ventas. Estos valores pueden estar ausentes debido a que pueden tratarse de juegos que tienen el año mencionado en su título, que por era tecnológica previa a internet no se registró en internet el año o por no ser muy conocidos no se registró en la web todos los datos del juego. También puede tratarse de juegos con preventa pero no tienen fecha de lanzamiento fijada. No se eliminan filas ya que se observan valores representativos en ventas.\n",
    "    \n",
    "    __Algunos valores ausentes de año de lanzamiento pueden calcularse__ sin necesidad de investigar cada videojuego, solo si el juego en cuestión posee en su título un año, de ser el caso el año de lanzamiento suele ser menor en 1 ya que el videojuego debe garantizar su vigencia durante el año según su título por lo que su lanzamiento se suele realizar unos meses antes del año en cuestión.\n",
    "\n",
    "\n",
    "- 2 videojuegos no tienen género registrado, pero eso no repercute en el análisis. Este dato puede estar ausente debido a que los juegos no fueron oficialmente catalogados en algún género específico, registro incompleto en internet por era tecnológica.\n",
    "\n",
    "\n",
    "- 8578 juegos no tienen valoración crítica, no conviene eliminarlos ya que representan una gran proporción. Su ausencia puede deberse a que los medios críticos ignoraron puntuarlos o aun no los terminan de calificar. No se debe eliminar o reemplazar nulos ya que representan cerca del 50% de los regstros\n",
    "\n",
    "\n",
    "- 9125 juegos no tienen valoración de usuario, no conviene eliminarlos ya que representan una gran proporción. Su ausencia puede deberse a que los usuarios ignoraron puntuarlos o aun no los terminan de calificar. No se debe eliminar o reemplazar nulos ya que representan más del 50% de los regstros\n",
    "\n",
    "\n",
    "- 6766 juegos no tienen clasificación. Su ausencia puede deberse a que no fueron clasificados por las desarrolladoreas de antaño, puede ser que el juego sea de preventa y no se lo termina de clasificar hasta su lanzamiento, o que el ente regulador no termina de clasificarlos. De cualquier manera se les puede asignar la categoría Rating Pending del ESRB."
   ]
  },
  {
   "cell_type": "markdown",
   "metadata": {},
   "source": [
    "#### Eliminación o reemplazo de valores ausentes"
   ]
  },
  {
   "cell_type": "markdown",
   "metadata": {},
   "source": [
    "##### Reemplazo de valores ausentes en año de lanzamiento"
   ]
  },
  {
   "cell_type": "code",
   "execution_count": 14,
   "metadata": {},
   "outputs": [],
   "source": [
    "# Crear una función para aplicar a cada fila\n",
    "def fill_year(row):\n",
    "    # verifica año de lanzamiento nulo y nombre que contenga año en los últimos 4 dígitos\n",
    "    if pd.isna(row['year_of_release']) and row['name'][-4:].isdigit():\n",
    "        \n",
    "        # Se asigna el año correspondiente con decremento de 1\n",
    "        row['year_of_release'] = int(row['name'][-4:]) - 1\n",
    "        \n",
    "    return row # Entrega la fila modifcada\n",
    "\n",
    "# Aplicar la función a cada fila del DataFrame\n",
    "games_df = games_df.apply(fill_year, axis=1)"
   ]
  },
  {
   "cell_type": "code",
   "execution_count": 15,
   "metadata": {},
   "outputs": [
    {
     "data": {
      "text/plain": [
       "254"
      ]
     },
     "execution_count": 15,
     "metadata": {},
     "output_type": "execute_result"
    }
   ],
   "source": [
    "#contar nuevamente juegos sin año de lanzamiento\n",
    "games_df['year_of_release'].isna().sum()"
   ]
  },
  {
   "cell_type": "markdown",
   "metadata": {},
   "source": [
    "Se cambiaron 15 valores NaN con el año de lanzamiento correspondiente. No fueron muchos pero el dataframe queda menos incompleto"
   ]
  },
  {
   "cell_type": "markdown",
   "metadata": {},
   "source": [
    "##### Reemplazar valores nulos en columna de clasificación\n",
    "\n",
    "Se completarán valores NaN con la categoría rating pending"
   ]
  },
  {
   "cell_type": "code",
   "execution_count": 16,
   "metadata": {
    "scrolled": true
   },
   "outputs": [
    {
     "data": {
      "text/plain": [
       "array(['e', nan, 'm', 't', 'e10+', 'k-a', 'ao', 'ec', 'rp'], dtype=object)"
      ]
     },
     "execution_count": 16,
     "metadata": {},
     "output_type": "execute_result"
    }
   ],
   "source": [
    "# Inspección de valores únicos en la columna 'rating'\n",
    "games_df['rating'].unique()"
   ]
  },
  {
   "cell_type": "markdown",
   "metadata": {},
   "source": [
    "Según datos de la ESRB hasta el contexto del año 2017 de este análisis, estos son las clasificaciones:\n",
    "\n",
    "__e__ (everyone) - todad las edades\n",
    "\n",
    "__m__ (mature) - 17 años en adelante\n",
    "\n",
    "__t__ (teen) - 13 años en adelante\n",
    "\n",
    "__e10+__ (everyone 10 and older) - 10 años en adelante\n",
    "\n",
    "__k-a__ (kids to adults) - versión obsoleta de everyone\n",
    "\n",
    "__ao__ (adults only) - 18 años en adelante\n",
    "\n",
    "__ec__ (early childhood) - 6 años o menos\n",
    "\n",
    "__rp__ (rating pending) - clasificación pendiente"
   ]
  },
  {
   "cell_type": "markdown",
   "metadata": {},
   "source": [
    "__Observaciones:__\n",
    "\n",
    "Además de la clasificación \"rating pending\" se observa que la clasificación 'k-a' se la puede reemplazar con 'e', de tal forma que se realizarán dos reemplazos: \n",
    "__NaN → 'rp'__ y __'k-a' → 'e'__"
   ]
  },
  {
   "cell_type": "code",
   "execution_count": 17,
   "metadata": {},
   "outputs": [],
   "source": [
    "#reemplazo de valores ausentes en 'rating'\n",
    "games_df['rating'].fillna('rp', inplace=True)\n",
    "\n",
    "#reemplazo de valores 'k-a' → 'e'\n",
    "games_df.replace({'k-a':'e'}, inplace=True)"
   ]
  },
  {
   "cell_type": "code",
   "execution_count": 18,
   "metadata": {},
   "outputs": [
    {
     "data": {
      "text/plain": [
       "array(['e', 'rp', 'm', 't', 'e10+', 'ao', 'ec'], dtype=object)"
      ]
     },
     "execution_count": 18,
     "metadata": {},
     "output_type": "execute_result"
    }
   ],
   "source": [
    "#verificación de cambios en los valores únicos de la columna 'rating'\n",
    "games_df['rating'].unique()"
   ]
  },
  {
   "cell_type": "markdown",
   "metadata": {},
   "source": [
    "### Gestión de Valores Duplicados\n",
    "\n",
    "Se procede a identificar duplicados completos, eliminar duplicados completos y eliminar duplicados implícitos."
   ]
  },
  {
   "cell_type": "code",
   "execution_count": 19,
   "metadata": {},
   "outputs": [
    {
     "data": {
      "text/plain": [
       "0"
      ]
     },
     "execution_count": 19,
     "metadata": {},
     "output_type": "execute_result"
    }
   ],
   "source": [
    "#Inspección de filas duplicadas por completo\n",
    "games_df.duplicated().sum()"
   ]
  },
  {
   "cell_type": "markdown",
   "metadata": {},
   "source": [
    "No hay duplicados completos, pero se pueden inspeccionar duplicados que coincidan solo en nombre, plataforma, año de lanzamiento y género"
   ]
  },
  {
   "cell_type": "code",
   "execution_count": 20,
   "metadata": {},
   "outputs": [
    {
     "data": {
      "text/html": [
       "<div>\n",
       "<style scoped>\n",
       "    .dataframe tbody tr th:only-of-type {\n",
       "        vertical-align: middle;\n",
       "    }\n",
       "\n",
       "    .dataframe tbody tr th {\n",
       "        vertical-align: top;\n",
       "    }\n",
       "\n",
       "    .dataframe thead th {\n",
       "        text-align: right;\n",
       "    }\n",
       "</style>\n",
       "<table border=\"1\" class=\"dataframe\">\n",
       "  <thead>\n",
       "    <tr style=\"text-align: right;\">\n",
       "      <th></th>\n",
       "      <th>name</th>\n",
       "      <th>platform</th>\n",
       "      <th>year_of_release</th>\n",
       "      <th>genre</th>\n",
       "      <th>na_sales</th>\n",
       "      <th>eu_sales</th>\n",
       "      <th>jp_sales</th>\n",
       "      <th>other_sales</th>\n",
       "      <th>critic_score</th>\n",
       "      <th>user_score</th>\n",
       "      <th>rating</th>\n",
       "    </tr>\n",
       "  </thead>\n",
       "  <tbody>\n",
       "    <tr>\n",
       "      <th>604</th>\n",
       "      <td>madden nfl 13</td>\n",
       "      <td>ps3</td>\n",
       "      <td>2012</td>\n",
       "      <td>sports</td>\n",
       "      <td>2.11</td>\n",
       "      <td>0.22</td>\n",
       "      <td>0.00</td>\n",
       "      <td>0.23</td>\n",
       "      <td>83.0</td>\n",
       "      <td>5.5</td>\n",
       "      <td>e</td>\n",
       "    </tr>\n",
       "    <tr>\n",
       "      <th>659</th>\n",
       "      <td>NaN</td>\n",
       "      <td>gen</td>\n",
       "      <td>1993</td>\n",
       "      <td>NaN</td>\n",
       "      <td>1.78</td>\n",
       "      <td>0.53</td>\n",
       "      <td>0.00</td>\n",
       "      <td>0.08</td>\n",
       "      <td>NaN</td>\n",
       "      <td>NaN</td>\n",
       "      <td>rp</td>\n",
       "    </tr>\n",
       "    <tr>\n",
       "      <th>1190</th>\n",
       "      <td>need for speed: most wanted</td>\n",
       "      <td>x360</td>\n",
       "      <td>2012</td>\n",
       "      <td>racing</td>\n",
       "      <td>0.62</td>\n",
       "      <td>0.78</td>\n",
       "      <td>0.01</td>\n",
       "      <td>0.15</td>\n",
       "      <td>83.0</td>\n",
       "      <td>8.5</td>\n",
       "      <td>t</td>\n",
       "    </tr>\n",
       "    <tr>\n",
       "      <th>1591</th>\n",
       "      <td>need for speed: most wanted</td>\n",
       "      <td>x360</td>\n",
       "      <td>2005</td>\n",
       "      <td>racing</td>\n",
       "      <td>1.00</td>\n",
       "      <td>0.13</td>\n",
       "      <td>0.02</td>\n",
       "      <td>0.10</td>\n",
       "      <td>83.0</td>\n",
       "      <td>8.5</td>\n",
       "      <td>t</td>\n",
       "    </tr>\n",
       "    <tr>\n",
       "      <th>1745</th>\n",
       "      <td>sonic the hedgehog</td>\n",
       "      <td>ps3</td>\n",
       "      <td>2006</td>\n",
       "      <td>platform</td>\n",
       "      <td>0.41</td>\n",
       "      <td>0.06</td>\n",
       "      <td>0.04</td>\n",
       "      <td>0.66</td>\n",
       "      <td>43.0</td>\n",
       "      <td>4.1</td>\n",
       "      <td>e10+</td>\n",
       "    </tr>\n",
       "    <tr>\n",
       "      <th>4127</th>\n",
       "      <td>sonic the hedgehog</td>\n",
       "      <td>ps3</td>\n",
       "      <td>&lt;NA&gt;</td>\n",
       "      <td>platform</td>\n",
       "      <td>0.00</td>\n",
       "      <td>0.48</td>\n",
       "      <td>0.00</td>\n",
       "      <td>0.00</td>\n",
       "      <td>43.0</td>\n",
       "      <td>4.1</td>\n",
       "      <td>e10+</td>\n",
       "    </tr>\n",
       "    <tr>\n",
       "      <th>5972</th>\n",
       "      <td>need for speed: most wanted</td>\n",
       "      <td>pc</td>\n",
       "      <td>2005</td>\n",
       "      <td>racing</td>\n",
       "      <td>0.02</td>\n",
       "      <td>0.23</td>\n",
       "      <td>0.00</td>\n",
       "      <td>0.04</td>\n",
       "      <td>82.0</td>\n",
       "      <td>8.5</td>\n",
       "      <td>t</td>\n",
       "    </tr>\n",
       "    <tr>\n",
       "      <th>11715</th>\n",
       "      <td>need for speed: most wanted</td>\n",
       "      <td>pc</td>\n",
       "      <td>2012</td>\n",
       "      <td>racing</td>\n",
       "      <td>0.00</td>\n",
       "      <td>0.06</td>\n",
       "      <td>0.00</td>\n",
       "      <td>0.02</td>\n",
       "      <td>82.0</td>\n",
       "      <td>8.5</td>\n",
       "      <td>t</td>\n",
       "    </tr>\n",
       "    <tr>\n",
       "      <th>14244</th>\n",
       "      <td>NaN</td>\n",
       "      <td>gen</td>\n",
       "      <td>1993</td>\n",
       "      <td>NaN</td>\n",
       "      <td>0.00</td>\n",
       "      <td>0.00</td>\n",
       "      <td>0.03</td>\n",
       "      <td>0.00</td>\n",
       "      <td>NaN</td>\n",
       "      <td>NaN</td>\n",
       "      <td>rp</td>\n",
       "    </tr>\n",
       "    <tr>\n",
       "      <th>16230</th>\n",
       "      <td>madden nfl 13</td>\n",
       "      <td>ps3</td>\n",
       "      <td>2012</td>\n",
       "      <td>sports</td>\n",
       "      <td>0.00</td>\n",
       "      <td>0.01</td>\n",
       "      <td>0.00</td>\n",
       "      <td>0.00</td>\n",
       "      <td>83.0</td>\n",
       "      <td>5.5</td>\n",
       "      <td>e</td>\n",
       "    </tr>\n",
       "  </tbody>\n",
       "</table>\n",
       "</div>"
      ],
      "text/plain": [
       "                              name platform year_of_release     genre  \\\n",
       "604                  madden nfl 13      ps3            2012    sports   \n",
       "659                            NaN      gen            1993       NaN   \n",
       "1190   need for speed: most wanted     x360            2012    racing   \n",
       "1591   need for speed: most wanted     x360            2005    racing   \n",
       "1745            sonic the hedgehog      ps3            2006  platform   \n",
       "4127            sonic the hedgehog      ps3            <NA>  platform   \n",
       "5972   need for speed: most wanted       pc            2005    racing   \n",
       "11715  need for speed: most wanted       pc            2012    racing   \n",
       "14244                          NaN      gen            1993       NaN   \n",
       "16230                madden nfl 13      ps3            2012    sports   \n",
       "\n",
       "       na_sales  eu_sales  jp_sales  other_sales  critic_score  user_score  \\\n",
       "604        2.11      0.22      0.00         0.23          83.0         5.5   \n",
       "659        1.78      0.53      0.00         0.08           NaN         NaN   \n",
       "1190       0.62      0.78      0.01         0.15          83.0         8.5   \n",
       "1591       1.00      0.13      0.02         0.10          83.0         8.5   \n",
       "1745       0.41      0.06      0.04         0.66          43.0         4.1   \n",
       "4127       0.00      0.48      0.00         0.00          43.0         4.1   \n",
       "5972       0.02      0.23      0.00         0.04          82.0         8.5   \n",
       "11715      0.00      0.06      0.00         0.02          82.0         8.5   \n",
       "14244      0.00      0.00      0.03         0.00           NaN         NaN   \n",
       "16230      0.00      0.01      0.00         0.00          83.0         5.5   \n",
       "\n",
       "      rating  \n",
       "604        e  \n",
       "659       rp  \n",
       "1190       t  \n",
       "1591       t  \n",
       "1745    e10+  \n",
       "4127    e10+  \n",
       "5972       t  \n",
       "11715      t  \n",
       "14244     rp  \n",
       "16230      e  "
      ]
     },
     "execution_count": 20,
     "metadata": {},
     "output_type": "execute_result"
    }
   ],
   "source": [
    "#Inspección de filas duplicadas por atributos con las filas de origen\n",
    "games_df[games_df.duplicated(subset=['name', 'platform']) | games_df.duplicated(subset=['name', 'platform'], keep='last')]"
   ]
  },
  {
   "cell_type": "markdown",
   "metadata": {},
   "source": [
    "__Observaciones:__\n",
    "\n",
    "Se podría pensar que se pueden borrar algunas filas, pero se debe tener en cuenta que los videojuegos son a veces remasterizados o actualizados. Por ello coinciden en nombre y plataforma pero cambia su año de lanzamiento. No se porcede a eliminar ese tipo de duplicados. Sin embargo, se observa que el juego con índice 16230 coincide con el de ínidice 604 excepto los valores en ventas, donde son nulas y solo en europa se vendió 0.01 millones por lo que se podrían tomar dos decisiones:\n",
    "\n",
    "- eliminar simplemente la fila 16230 \n",
    "- eliminar la fila 16230 y aumentar 0.01 a los 0.22 de la fila 604\n",
    "\n",
    "Cualquiera de ambas opciones practicamente no se apreciaría en el resultado de ventas, pero se optará por la segunda alternativa.\n",
    "\n",
    "Por otra parte, las filas 659 y 14244 coinciden de forma similar al caso anterior, pero no se puede asumir que se trata del mismo juego ya que cabe la posibilidad que sean dos juegos diferentes que se lanzaron el mismo año en la misma plataforma."
   ]
  },
  {
   "cell_type": "code",
   "execution_count": 21,
   "metadata": {},
   "outputs": [
    {
     "data": {
      "text/plain": [
       "name               madden nfl 13\n",
       "platform                     ps3\n",
       "year_of_release             2012\n",
       "genre                     sports\n",
       "na_sales                    2.11\n",
       "eu_sales                    0.23\n",
       "jp_sales                     0.0\n",
       "other_sales                 0.23\n",
       "critic_score                83.0\n",
       "user_score                   5.5\n",
       "rating                         e\n",
       "Name: 604, dtype: object"
      ]
     },
     "execution_count": 21,
     "metadata": {},
     "output_type": "execute_result"
    }
   ],
   "source": [
    "# Se actualiza el valor de 'eu_sales' añadiendo el valor de la fila 16230\n",
    "games_df.loc[604, 'eu_sales'] += games_df.loc[16230, 'eu_sales']\n",
    "games_df.loc[604]"
   ]
  },
  {
   "cell_type": "code",
   "execution_count": 22,
   "metadata": {},
   "outputs": [
    {
     "data": {
      "text/plain": [
       "16714"
      ]
     },
     "execution_count": 22,
     "metadata": {},
     "output_type": "execute_result"
    }
   ],
   "source": [
    "# Eliminar la fila con índice 16230 y reestablecer los índices\n",
    "games_df = games_df.drop(16230)\n",
    "games_df = games_df.reset_index(drop=True)\n",
    "len(games_df) #verificar la eliminación de la fila"
   ]
  },
  {
   "cell_type": "markdown",
   "metadata": {},
   "source": [
    "## __Enriquecimiento de Datos__"
   ]
  },
  {
   "cell_type": "markdown",
   "metadata": {},
   "source": [
    "__Acciones a realizar:__\n",
    "\n",
    "- Agregar años de lanzamiento faltantes en determinados juegos mediante acceso a base de datos remota.\n",
    "\n",
    "\n",
    "- _Agregar atributos:_\n",
    "    - Crear una columna descriptiva de la clasificación de los videojuegos.\n",
    "    - Calcular las ventas totales por las tres regiones (y otros) y añadirlas a una columna separa\n",
    "    - Calcular los promedios de las 3 regiones (y otros) y añadirlos en una columna separada.\n"
   ]
  },
  {
   "cell_type": "markdown",
   "metadata": {},
   "source": [
    "### Obtención de datos con API"
   ]
  },
  {
   "cell_type": "markdown",
   "metadata": {},
   "source": [
    "Mediante una API se puede acceder a una base de datos remota para obtener los años de lanzamiento falatantes en determinados registros de videojuegos.\n",
    "\n",
    "Para esto se define una función que utilice una API para __acceder a una base de datos remota__. En este caso el acceso será a la base de datos del __portal web GAMESPOT__."
   ]
  },
  {
   "cell_type": "code",
   "execution_count": 23,
   "metadata": {
    "scrolled": true
   },
   "outputs": [],
   "source": [
    "# Definición de función para usar API\n",
    "def find_year(game_name):\n",
    "    '''Esta función permite encontrar el año de lanzamiento de un videojuego mediante\n",
    "    el uso de una API del sitio web gamespot.\n",
    "    \n",
    "    parámetro:\n",
    "    game_name es el nombre del juego\n",
    "    \n",
    "    retorno:\n",
    "    valor entero del año o NaN en caso de no coincidir el nombre del juego del Series\n",
    "    con el filtro de búsqueda\n",
    "    \n",
    "    documentación disponible en: https://www.gamespot.com/api/documentation\n",
    "    '''\n",
    "   \n",
    "    # clave api de Gamespot\n",
    "    api_key = 'd19393a14153ffd30d58b4fb5fa42e3256cb0d89' \n",
    "\n",
    "    # Construir la URL con el nombre del juego como filtro\n",
    "    url = f\"http://www.gamespot.com/api/games/?api_key={api_key}&filter=name:{game_name}\"\n",
    "\n",
    "    # Crear un encabezado con un User-Agent único\n",
    "    headers = {\n",
    "        'User-Agent': 'Mozilla/5.0 (Windows NT 10.0; Win64; x64) AppleWebKit/537.36 (KHTML, like Gecko) Chrome/91.0.4472.124 Safari/537.36'\n",
    "    }\n",
    "\n",
    "    \n",
    "    try:\n",
    "        # Realizar la solicitud con el nuevo encabezado\n",
    "        response = requests.get(url, headers=headers)\n",
    "\n",
    "        # Verificar si la solicitud fue exitosa (código de estado 200)\n",
    "        if response.status_code == 200:\n",
    "            \n",
    "            # Intentar analizar la respuesta como XML\n",
    "            root = ET.fromstring(response.text)\n",
    "\n",
    "            # Verificar si hay juegos en los resultados\n",
    "            game_element = root.find(\".//results/game\")\n",
    "            \n",
    "            if game_element is not None:\n",
    "                \n",
    "                # Obtener la fecha de lanzamiento del primer juego en los resultados\n",
    "                release_date_element = game_element.find(\"release_date\")\n",
    "                \n",
    "                # Verificar si no es nula la fecha de lanzamiento y almacenarla\n",
    "                if release_date_element is not None:\n",
    "                    release_date = release_date_element.text\n",
    "\n",
    "                    # Extraer el año de la fecha (el primer elemento es el año)\n",
    "                    year = release_date.split('-')[0]\n",
    "                    return int(year)\n",
    "                \n",
    "                else:\n",
    "                    # No se encontró la fecha de lanzamiento del juego\n",
    "                    return math.nan\n",
    "                \n",
    "            else:\n",
    "                # No se encontraron juegos con el nombre proporcionado\n",
    "                return math.nan\n",
    "            \n",
    "        else:\n",
    "            # Error al realizar la solicitud\n",
    "            return math.nan\n",
    "        \n",
    "    except Exception as e:\n",
    "        # Capturar cualquier excepción y devolver NaN\n",
    "        print(f\"Error: {e}\")\n",
    "        return math.nan"
   ]
  },
  {
   "cell_type": "markdown",
   "metadata": {},
   "source": [
    "#### Testeo de API"
   ]
  },
  {
   "cell_type": "markdown",
   "metadata": {},
   "source": [
    "Se realiza un ejemplo de recolección de datos para verificar el funcionamiento correcto de la API"
   ]
  },
  {
   "cell_type": "code",
   "execution_count": 24,
   "metadata": {
    "scrolled": true
   },
   "outputs": [
    {
     "name": "stdout",
     "output_type": "stream",
     "text": [
      "Año de lanzamiento para 'super smash bros': 1999\n",
      "Año de lanzamiento para 'nombre_no_existente': nan\n"
     ]
    }
   ],
   "source": [
    "# Prueba con un nombre correcto\n",
    "correct_name = 'super smash bros'\n",
    "correct_year = find_year(correct_name)\n",
    "print(f\"Año de lanzamiento para '{correct_name}': {correct_year}\")\n",
    "\n",
    "# Prueba con un nombre incorrecto\n",
    "wrong_name = 'nombre_no_existente'\n",
    "wrong_year = find_year(wrong_name)\n",
    "print(f\"Año de lanzamiento para '{wrong_name}': {wrong_year}\")"
   ]
  },
  {
   "cell_type": "markdown",
   "metadata": {},
   "source": [
    "#### Ejecución de API"
   ]
  },
  {
   "cell_type": "markdown",
   "metadata": {},
   "source": [
    "Asegurarse de que los nombres de los juegos no tengan espacios blancos al inicio ni al final del string para que la búsqueda de nombres sea más efectiva y se pueda acceder al dato de año de lanzamiento."
   ]
  },
  {
   "cell_type": "code",
   "execution_count": 25,
   "metadata": {},
   "outputs": [],
   "source": [
    "# quitar espacios blancos al inicio y final de cada string de la columnda 'name'\n",
    "games_df['name'] = games_df['name'].str.strip() "
   ]
  },
  {
   "cell_type": "markdown",
   "metadata": {},
   "source": [
    "Se ejecuta la API para rellenar __de forma automatizada__ los datos en los valores NaN del año de lanzamiento."
   ]
  },
  {
   "cell_type": "code",
   "execution_count": 26,
   "metadata": {},
   "outputs": [],
   "source": [
    "# Definición de máscara booleana de busqueda de NaN en la columna 'years_of_release'\n",
    "nan_years = games_df['year_of_release'].isna()\n",
    "\n",
    "# Se iteran índices-filas donde 'year_of_release' es NaN para obtener el año de\n",
    "# lanzamiento a partir de 'name' y sobreescribiro en cada NaN de 'year_of_release'\n",
    "\n",
    "for index, row in games_df.loc[nan_years, ['name', 'year_of_release']].iterrows():\n",
    "    games_df.at[index, 'year_of_release'] = find_year(row['name'])\n",
    "    \n",
    "#El proceso puede llevar en el mejor de los casos 10 segundos. Caso contrario superar los 180 segundos"
   ]
  },
  {
   "cell_type": "code",
   "execution_count": 27,
   "metadata": {},
   "outputs": [
    {
     "data": {
      "text/plain": [
       "58"
      ]
     },
     "execution_count": 27,
     "metadata": {},
     "output_type": "execute_result"
    }
   ],
   "source": [
    "# Se verifica cuántos juegos quedaron sin año delanzamiento\n",
    "games_df['year_of_release'].isna().sum()"
   ]
  },
  {
   "cell_type": "markdown",
   "metadata": {},
   "source": [
    "Si se observan la misma cantidad de valores ausentes (254) en 'year_of_release', se recomienda volver a ejecutar el llenado de valores ausentes o más facilmente reiniciar el kernel yejecutar todas las celdas. Esto puede ocurrir por la saturación del sitio web, además de tratarse de una API gratuita que para acceder a los datos requiere un turno de espera (aquí pueden suceder estas irregularidades).\n",
    "\n",
    "Si no todos los valores NaN fueron llenados se debe a que el sitio web está en recurrente actualización y pueden editarse los nombres de los juegos (variar algún caracter)"
   ]
  },
  {
   "cell_type": "code",
   "execution_count": 28,
   "metadata": {
    "scrolled": false
   },
   "outputs": [
    {
     "name": "stdout",
     "output_type": "stream",
     "text": [
      "<class 'pandas.core.frame.DataFrame'>\n",
      "RangeIndex: 16714 entries, 0 to 16713\n",
      "Data columns (total 11 columns):\n",
      " #   Column           Non-Null Count  Dtype  \n",
      "---  ------           --------------  -----  \n",
      " 0   name             16712 non-null  object \n",
      " 1   platform         16714 non-null  object \n",
      " 2   year_of_release  16656 non-null  object \n",
      " 3   genre            16712 non-null  object \n",
      " 4   na_sales         16714 non-null  float64\n",
      " 5   eu_sales         16714 non-null  float64\n",
      " 6   jp_sales         16714 non-null  float64\n",
      " 7   other_sales      16714 non-null  float64\n",
      " 8   critic_score     8136 non-null   float64\n",
      " 9   user_score       7589 non-null   float64\n",
      " 10  rating           16714 non-null  object \n",
      "dtypes: float64(6), object(5)\n",
      "memory usage: 1.4+ MB\n"
     ]
    }
   ],
   "source": [
    "# Se verifica una vez más la información general del dataframe\n",
    "games_df.info()"
   ]
  },
  {
   "cell_type": "markdown",
   "metadata": {},
   "source": [
    "__Observaciones__\n",
    "\n",
    "- Al usar la API de GameSpot como una función para llenar valores ausentes en la columna 'year_of_release' se redujeron coniderablemente los valores ausentes, consiguiendo mejorar la calidad de los datos. Ahora la proporción de valores ausentes es bastante menor.\n",
    "\n",
    "\n",
    "- Ciertamente la API de IGDB presume de tener datos de mayor fidelidad, pero su uso requiere de pasos tediosos. Gamespot fue la opción más viable, aunque su codigo de consulta resultó algo extenso al tratarse de un archivo xml en lugar de json.\n",
    "\n",
    "\n",
    "- La columna de 'rating_description' agrega información clave para identificar cada clasificación de los juegos."
   ]
  },
  {
   "cell_type": "markdown",
   "metadata": {},
   "source": [
    "### Agregación de atributos"
   ]
  },
  {
   "cell_type": "markdown",
   "metadata": {},
   "source": [
    "#### Agregar atributo descriptivo de clasificación"
   ]
  },
  {
   "cell_type": "code",
   "execution_count": 29,
   "metadata": {
    "scrolled": false
   },
   "outputs": [
    {
     "data": {
      "text/html": [
       "<div>\n",
       "<style scoped>\n",
       "    .dataframe tbody tr th:only-of-type {\n",
       "        vertical-align: middle;\n",
       "    }\n",
       "\n",
       "    .dataframe tbody tr th {\n",
       "        vertical-align: top;\n",
       "    }\n",
       "\n",
       "    .dataframe thead th {\n",
       "        text-align: right;\n",
       "    }\n",
       "</style>\n",
       "<table border=\"1\" class=\"dataframe\">\n",
       "  <thead>\n",
       "    <tr style=\"text-align: right;\">\n",
       "      <th></th>\n",
       "      <th>name</th>\n",
       "      <th>platform</th>\n",
       "      <th>year_of_release</th>\n",
       "      <th>genre</th>\n",
       "      <th>na_sales</th>\n",
       "      <th>eu_sales</th>\n",
       "      <th>jp_sales</th>\n",
       "      <th>other_sales</th>\n",
       "      <th>critic_score</th>\n",
       "      <th>user_score</th>\n",
       "      <th>rating</th>\n",
       "      <th>rating_description</th>\n",
       "    </tr>\n",
       "  </thead>\n",
       "  <tbody>\n",
       "    <tr>\n",
       "      <th>0</th>\n",
       "      <td>wii sports</td>\n",
       "      <td>wii</td>\n",
       "      <td>2006</td>\n",
       "      <td>sports</td>\n",
       "      <td>41.36</td>\n",
       "      <td>28.96</td>\n",
       "      <td>3.77</td>\n",
       "      <td>8.45</td>\n",
       "      <td>76.0</td>\n",
       "      <td>8.0</td>\n",
       "      <td>e</td>\n",
       "      <td>everyone</td>\n",
       "    </tr>\n",
       "    <tr>\n",
       "      <th>1</th>\n",
       "      <td>super mario bros.</td>\n",
       "      <td>nes</td>\n",
       "      <td>1985</td>\n",
       "      <td>platform</td>\n",
       "      <td>29.08</td>\n",
       "      <td>3.58</td>\n",
       "      <td>6.81</td>\n",
       "      <td>0.77</td>\n",
       "      <td>NaN</td>\n",
       "      <td>NaN</td>\n",
       "      <td>rp</td>\n",
       "      <td>rating pending</td>\n",
       "    </tr>\n",
       "    <tr>\n",
       "      <th>2</th>\n",
       "      <td>mario kart wii</td>\n",
       "      <td>wii</td>\n",
       "      <td>2008</td>\n",
       "      <td>racing</td>\n",
       "      <td>15.68</td>\n",
       "      <td>12.76</td>\n",
       "      <td>3.79</td>\n",
       "      <td>3.29</td>\n",
       "      <td>82.0</td>\n",
       "      <td>8.3</td>\n",
       "      <td>e</td>\n",
       "      <td>everyone</td>\n",
       "    </tr>\n",
       "    <tr>\n",
       "      <th>3</th>\n",
       "      <td>wii sports resort</td>\n",
       "      <td>wii</td>\n",
       "      <td>2009</td>\n",
       "      <td>sports</td>\n",
       "      <td>15.61</td>\n",
       "      <td>10.93</td>\n",
       "      <td>3.28</td>\n",
       "      <td>2.95</td>\n",
       "      <td>80.0</td>\n",
       "      <td>8.0</td>\n",
       "      <td>e</td>\n",
       "      <td>everyone</td>\n",
       "    </tr>\n",
       "    <tr>\n",
       "      <th>4</th>\n",
       "      <td>pokemon red/pokemon blue</td>\n",
       "      <td>gb</td>\n",
       "      <td>1996</td>\n",
       "      <td>role-playing</td>\n",
       "      <td>11.27</td>\n",
       "      <td>8.89</td>\n",
       "      <td>10.22</td>\n",
       "      <td>1.00</td>\n",
       "      <td>NaN</td>\n",
       "      <td>NaN</td>\n",
       "      <td>rp</td>\n",
       "      <td>rating pending</td>\n",
       "    </tr>\n",
       "  </tbody>\n",
       "</table>\n",
       "</div>"
      ],
      "text/plain": [
       "                       name platform year_of_release         genre  na_sales  \\\n",
       "0                wii sports      wii            2006        sports     41.36   \n",
       "1         super mario bros.      nes            1985      platform     29.08   \n",
       "2            mario kart wii      wii            2008        racing     15.68   \n",
       "3         wii sports resort      wii            2009        sports     15.61   \n",
       "4  pokemon red/pokemon blue       gb            1996  role-playing     11.27   \n",
       "\n",
       "   eu_sales  jp_sales  other_sales  critic_score  user_score rating  \\\n",
       "0     28.96      3.77         8.45          76.0         8.0      e   \n",
       "1      3.58      6.81         0.77           NaN         NaN     rp   \n",
       "2     12.76      3.79         3.29          82.0         8.3      e   \n",
       "3     10.93      3.28         2.95          80.0         8.0      e   \n",
       "4      8.89     10.22         1.00           NaN         NaN     rp   \n",
       "\n",
       "  rating_description  \n",
       "0           everyone  \n",
       "1     rating pending  \n",
       "2           everyone  \n",
       "3           everyone  \n",
       "4     rating pending  "
      ]
     },
     "execution_count": 29,
     "metadata": {},
     "output_type": "execute_result"
    }
   ],
   "source": [
    "# Crear un diccionario para la descripción de rating\n",
    "rating_description = {\n",
    "    'e': 'everyone',\n",
    "    'ec': 'early childhood',\n",
    "    'e10+': 'everyone 10+',\n",
    "    't': 'teen 13+',\n",
    "    'm': 'mature 17+',\n",
    "    'ao': 'adults only',\n",
    "    'rp': 'rating pending'\n",
    "}\n",
    "\n",
    "# Agregar una columna descriptiva de la clasificación de los juegos\n",
    "games_df['rating_description'] = games_df['rating'].map(rating_description)\n",
    "games_df.head() #Verificación de columna agregada"
   ]
  },
  {
   "cell_type": "markdown",
   "metadata": {},
   "source": [
    "#### Agregar Suma de Ventas y Promedios\n",
    "\n",
    "Considerando las ventas provenientes de las 3 regiones y fuente 'otros', agregar una columna con ventas totales y otra de promedios"
   ]
  },
  {
   "cell_type": "code",
   "execution_count": 30,
   "metadata": {
    "scrolled": false
   },
   "outputs": [
    {
     "data": {
      "text/html": [
       "<div>\n",
       "<style scoped>\n",
       "    .dataframe tbody tr th:only-of-type {\n",
       "        vertical-align: middle;\n",
       "    }\n",
       "\n",
       "    .dataframe tbody tr th {\n",
       "        vertical-align: top;\n",
       "    }\n",
       "\n",
       "    .dataframe thead th {\n",
       "        text-align: right;\n",
       "    }\n",
       "</style>\n",
       "<table border=\"1\" class=\"dataframe\">\n",
       "  <thead>\n",
       "    <tr style=\"text-align: right;\">\n",
       "      <th></th>\n",
       "      <th>name</th>\n",
       "      <th>platform</th>\n",
       "      <th>year_of_release</th>\n",
       "      <th>genre</th>\n",
       "      <th>na_sales</th>\n",
       "      <th>eu_sales</th>\n",
       "      <th>jp_sales</th>\n",
       "      <th>other_sales</th>\n",
       "      <th>critic_score</th>\n",
       "      <th>user_score</th>\n",
       "      <th>rating</th>\n",
       "      <th>rating_description</th>\n",
       "      <th>total_sales</th>\n",
       "      <th>mean_sales</th>\n",
       "    </tr>\n",
       "  </thead>\n",
       "  <tbody>\n",
       "    <tr>\n",
       "      <th>0</th>\n",
       "      <td>wii sports</td>\n",
       "      <td>wii</td>\n",
       "      <td>2006</td>\n",
       "      <td>sports</td>\n",
       "      <td>41.36</td>\n",
       "      <td>28.96</td>\n",
       "      <td>3.77</td>\n",
       "      <td>8.45</td>\n",
       "      <td>76.0</td>\n",
       "      <td>8.0</td>\n",
       "      <td>e</td>\n",
       "      <td>everyone</td>\n",
       "      <td>82.54</td>\n",
       "      <td>20.6350</td>\n",
       "    </tr>\n",
       "    <tr>\n",
       "      <th>1</th>\n",
       "      <td>super mario bros.</td>\n",
       "      <td>nes</td>\n",
       "      <td>1985</td>\n",
       "      <td>platform</td>\n",
       "      <td>29.08</td>\n",
       "      <td>3.58</td>\n",
       "      <td>6.81</td>\n",
       "      <td>0.77</td>\n",
       "      <td>NaN</td>\n",
       "      <td>NaN</td>\n",
       "      <td>rp</td>\n",
       "      <td>rating pending</td>\n",
       "      <td>40.24</td>\n",
       "      <td>10.0600</td>\n",
       "    </tr>\n",
       "    <tr>\n",
       "      <th>2</th>\n",
       "      <td>mario kart wii</td>\n",
       "      <td>wii</td>\n",
       "      <td>2008</td>\n",
       "      <td>racing</td>\n",
       "      <td>15.68</td>\n",
       "      <td>12.76</td>\n",
       "      <td>3.79</td>\n",
       "      <td>3.29</td>\n",
       "      <td>82.0</td>\n",
       "      <td>8.3</td>\n",
       "      <td>e</td>\n",
       "      <td>everyone</td>\n",
       "      <td>35.52</td>\n",
       "      <td>8.8800</td>\n",
       "    </tr>\n",
       "    <tr>\n",
       "      <th>3</th>\n",
       "      <td>wii sports resort</td>\n",
       "      <td>wii</td>\n",
       "      <td>2009</td>\n",
       "      <td>sports</td>\n",
       "      <td>15.61</td>\n",
       "      <td>10.93</td>\n",
       "      <td>3.28</td>\n",
       "      <td>2.95</td>\n",
       "      <td>80.0</td>\n",
       "      <td>8.0</td>\n",
       "      <td>e</td>\n",
       "      <td>everyone</td>\n",
       "      <td>32.77</td>\n",
       "      <td>8.1925</td>\n",
       "    </tr>\n",
       "    <tr>\n",
       "      <th>4</th>\n",
       "      <td>pokemon red/pokemon blue</td>\n",
       "      <td>gb</td>\n",
       "      <td>1996</td>\n",
       "      <td>role-playing</td>\n",
       "      <td>11.27</td>\n",
       "      <td>8.89</td>\n",
       "      <td>10.22</td>\n",
       "      <td>1.00</td>\n",
       "      <td>NaN</td>\n",
       "      <td>NaN</td>\n",
       "      <td>rp</td>\n",
       "      <td>rating pending</td>\n",
       "      <td>31.38</td>\n",
       "      <td>7.8450</td>\n",
       "    </tr>\n",
       "    <tr>\n",
       "      <th>...</th>\n",
       "      <td>...</td>\n",
       "      <td>...</td>\n",
       "      <td>...</td>\n",
       "      <td>...</td>\n",
       "      <td>...</td>\n",
       "      <td>...</td>\n",
       "      <td>...</td>\n",
       "      <td>...</td>\n",
       "      <td>...</td>\n",
       "      <td>...</td>\n",
       "      <td>...</td>\n",
       "      <td>...</td>\n",
       "      <td>...</td>\n",
       "      <td>...</td>\n",
       "    </tr>\n",
       "    <tr>\n",
       "      <th>16709</th>\n",
       "      <td>samurai warriors: sanada maru</td>\n",
       "      <td>ps3</td>\n",
       "      <td>2016</td>\n",
       "      <td>action</td>\n",
       "      <td>0.00</td>\n",
       "      <td>0.00</td>\n",
       "      <td>0.01</td>\n",
       "      <td>0.00</td>\n",
       "      <td>NaN</td>\n",
       "      <td>NaN</td>\n",
       "      <td>rp</td>\n",
       "      <td>rating pending</td>\n",
       "      <td>0.01</td>\n",
       "      <td>0.0025</td>\n",
       "    </tr>\n",
       "    <tr>\n",
       "      <th>16710</th>\n",
       "      <td>lma manager 2007</td>\n",
       "      <td>x360</td>\n",
       "      <td>2006</td>\n",
       "      <td>sports</td>\n",
       "      <td>0.00</td>\n",
       "      <td>0.01</td>\n",
       "      <td>0.00</td>\n",
       "      <td>0.00</td>\n",
       "      <td>NaN</td>\n",
       "      <td>NaN</td>\n",
       "      <td>rp</td>\n",
       "      <td>rating pending</td>\n",
       "      <td>0.01</td>\n",
       "      <td>0.0025</td>\n",
       "    </tr>\n",
       "    <tr>\n",
       "      <th>16711</th>\n",
       "      <td>haitaka no psychedelica</td>\n",
       "      <td>psv</td>\n",
       "      <td>2016</td>\n",
       "      <td>adventure</td>\n",
       "      <td>0.00</td>\n",
       "      <td>0.00</td>\n",
       "      <td>0.01</td>\n",
       "      <td>0.00</td>\n",
       "      <td>NaN</td>\n",
       "      <td>NaN</td>\n",
       "      <td>rp</td>\n",
       "      <td>rating pending</td>\n",
       "      <td>0.01</td>\n",
       "      <td>0.0025</td>\n",
       "    </tr>\n",
       "    <tr>\n",
       "      <th>16712</th>\n",
       "      <td>spirits &amp; spells</td>\n",
       "      <td>gba</td>\n",
       "      <td>2003</td>\n",
       "      <td>platform</td>\n",
       "      <td>0.01</td>\n",
       "      <td>0.00</td>\n",
       "      <td>0.00</td>\n",
       "      <td>0.00</td>\n",
       "      <td>NaN</td>\n",
       "      <td>NaN</td>\n",
       "      <td>rp</td>\n",
       "      <td>rating pending</td>\n",
       "      <td>0.01</td>\n",
       "      <td>0.0025</td>\n",
       "    </tr>\n",
       "    <tr>\n",
       "      <th>16713</th>\n",
       "      <td>winning post 8 2016</td>\n",
       "      <td>psv</td>\n",
       "      <td>2016</td>\n",
       "      <td>simulation</td>\n",
       "      <td>0.00</td>\n",
       "      <td>0.00</td>\n",
       "      <td>0.01</td>\n",
       "      <td>0.00</td>\n",
       "      <td>NaN</td>\n",
       "      <td>NaN</td>\n",
       "      <td>rp</td>\n",
       "      <td>rating pending</td>\n",
       "      <td>0.01</td>\n",
       "      <td>0.0025</td>\n",
       "    </tr>\n",
       "  </tbody>\n",
       "</table>\n",
       "<p>16714 rows × 14 columns</p>\n",
       "</div>"
      ],
      "text/plain": [
       "                                name platform year_of_release         genre  \\\n",
       "0                         wii sports      wii            2006        sports   \n",
       "1                  super mario bros.      nes            1985      platform   \n",
       "2                     mario kart wii      wii            2008        racing   \n",
       "3                  wii sports resort      wii            2009        sports   \n",
       "4           pokemon red/pokemon blue       gb            1996  role-playing   \n",
       "...                              ...      ...             ...           ...   \n",
       "16709  samurai warriors: sanada maru      ps3            2016        action   \n",
       "16710               lma manager 2007     x360            2006        sports   \n",
       "16711        haitaka no psychedelica      psv            2016     adventure   \n",
       "16712               spirits & spells      gba            2003      platform   \n",
       "16713            winning post 8 2016      psv            2016    simulation   \n",
       "\n",
       "       na_sales  eu_sales  jp_sales  other_sales  critic_score  user_score  \\\n",
       "0         41.36     28.96      3.77         8.45          76.0         8.0   \n",
       "1         29.08      3.58      6.81         0.77           NaN         NaN   \n",
       "2         15.68     12.76      3.79         3.29          82.0         8.3   \n",
       "3         15.61     10.93      3.28         2.95          80.0         8.0   \n",
       "4         11.27      8.89     10.22         1.00           NaN         NaN   \n",
       "...         ...       ...       ...          ...           ...         ...   \n",
       "16709      0.00      0.00      0.01         0.00           NaN         NaN   \n",
       "16710      0.00      0.01      0.00         0.00           NaN         NaN   \n",
       "16711      0.00      0.00      0.01         0.00           NaN         NaN   \n",
       "16712      0.01      0.00      0.00         0.00           NaN         NaN   \n",
       "16713      0.00      0.00      0.01         0.00           NaN         NaN   \n",
       "\n",
       "      rating rating_description  total_sales  mean_sales  \n",
       "0          e           everyone        82.54     20.6350  \n",
       "1         rp     rating pending        40.24     10.0600  \n",
       "2          e           everyone        35.52      8.8800  \n",
       "3          e           everyone        32.77      8.1925  \n",
       "4         rp     rating pending        31.38      7.8450  \n",
       "...      ...                ...          ...         ...  \n",
       "16709     rp     rating pending         0.01      0.0025  \n",
       "16710     rp     rating pending         0.01      0.0025  \n",
       "16711     rp     rating pending         0.01      0.0025  \n",
       "16712     rp     rating pending         0.01      0.0025  \n",
       "16713     rp     rating pending         0.01      0.0025  \n",
       "\n",
       "[16714 rows x 14 columns]"
      ]
     },
     "execution_count": 30,
     "metadata": {},
     "output_type": "execute_result"
    }
   ],
   "source": [
    "# Se obtiene la suma de ventas totales y promedios, se agregan en nuevas columnas\n",
    "games_df['total_sales'] = games_df.loc[:, 'na_sales':'other_sales'].sum(axis=1)\n",
    "games_df['mean_sales'] = games_df.loc[:, 'na_sales':'other_sales'].mean(axis=1)\n",
    "games_df"
   ]
  },
  {
   "cell_type": "markdown",
   "metadata": {},
   "source": [
    "## __Análisis de Datos__"
   ]
  },
  {
   "cell_type": "markdown",
   "metadata": {},
   "source": [
    "Es conveniente confirmar la depuración y enriquecimiento del dataframe 'games_df'"
   ]
  },
  {
   "cell_type": "code",
   "execution_count": 31,
   "metadata": {
    "scrolled": false
   },
   "outputs": [
    {
     "name": "stdout",
     "output_type": "stream",
     "text": [
      "<class 'pandas.core.frame.DataFrame'>\n",
      "RangeIndex: 16714 entries, 0 to 16713\n",
      "Data columns (total 14 columns):\n",
      " #   Column              Non-Null Count  Dtype  \n",
      "---  ------              --------------  -----  \n",
      " 0   name                16712 non-null  object \n",
      " 1   platform            16714 non-null  object \n",
      " 2   year_of_release     16656 non-null  object \n",
      " 3   genre               16712 non-null  object \n",
      " 4   na_sales            16714 non-null  float64\n",
      " 5   eu_sales            16714 non-null  float64\n",
      " 6   jp_sales            16714 non-null  float64\n",
      " 7   other_sales         16714 non-null  float64\n",
      " 8   critic_score        8136 non-null   float64\n",
      " 9   user_score          7589 non-null   float64\n",
      " 10  rating              16714 non-null  object \n",
      " 11  rating_description  16714 non-null  object \n",
      " 12  total_sales         16714 non-null  float64\n",
      " 13  mean_sales          16714 non-null  float64\n",
      "dtypes: float64(8), object(6)\n",
      "memory usage: 1.8+ MB\n"
     ]
    }
   ],
   "source": [
    "# Visualizar información del df limpio y enriquecido\n",
    "games_df.info()"
   ]
  },
  {
   "cell_type": "markdown",
   "metadata": {},
   "source": [
    "Como se puede observar"
   ]
  },
  {
   "cell_type": "code",
   "execution_count": 32,
   "metadata": {
    "scrolled": false
   },
   "outputs": [],
   "source": [
    "# Obtener el número de juegos lanzados por año hasta el 2016\n",
    "year_releases = games_df.groupby('year_of_release')['name'].count().loc[:2016] "
   ]
  },
  {
   "cell_type": "markdown",
   "metadata": {},
   "source": [
    "### Visualización de la cantidad de videojuegos lanzados por año"
   ]
  },
  {
   "cell_type": "code",
   "execution_count": 33,
   "metadata": {
    "scrolled": false
   },
   "outputs": [
    {
     "data": {
      "image/png": "[encoded data removed]",
      "text/plain": [
       "<Figure size 1600x600 with 1 Axes>"
      ]
     },
     "metadata": {},
     "output_type": "display_data"
    }
   ],
   "source": [
    "# Establecer el tamaño del gráfico\n",
    "plt.figure(figsize=(16, 6))\n",
    "\n",
    "# Graficar el gráfico de barras con Seaborn\n",
    "sns.barplot(x=year_releases.index, y=year_releases.values, palette=\"light:#0068f0\")\n",
    "\n",
    "# Personalizar el gráfico\n",
    "plt.title('Lanzamientos anuales de videojuegos', fontdict={'fontsize':16})\n",
    "plt.xlabel('Año de Lanzamiento', fontdict={'fontsize':14})\n",
    "plt.ylabel('Cantidad de Videojuegos', fontdict={'fontsize':14})\n",
    "plt.xticks(rotation=90)\n",
    "\n",
    "plt.show()"
   ]
  },
  {
   "cell_type": "markdown",
   "metadata": {},
   "source": [
    "- A partir del año 2001 se observa un incremento de lanzamientos cada vez mayor hasta el 2009 y luego decrece notablemente a partir del 2012. Esto se debe a que con el crecimiento de la industria de videojuegos y exigencias de los usuarios se emepezaron a requerir ciclos de desarrollo prolongados como es el caso de los juegos AAA y los MMO (multijugador online masivo) a eso sumarle las actualizaciones y DLC (contenido descargable) de tal forma que un juego de alta inversión prolongue su éxito en el mercado."
   ]
  },
  {
   "cell_type": "markdown",
   "metadata": {},
   "source": [
    "### Variación de ventas entre las plataformas más populares"
   ]
  },
  {
   "cell_type": "code",
   "execution_count": 34,
   "metadata": {
    "scrolled": false
   },
   "outputs": [
    {
     "data": {
      "text/plain": [
       "platform\n",
       "ps2     1255.77\n",
       "x360     971.42\n",
       "ps3      939.65\n",
       "wii      907.51\n",
       "ds       806.12\n",
       "ps       730.86\n",
       "gba      317.85\n",
       "ps4      314.14\n",
       "psp      294.05\n",
       "pc       259.52\n",
       "3ds      259.00\n",
       "xb       257.74\n",
       "gb       255.46\n",
       "nes      251.05\n",
       "n64      218.68\n",
       "snes     200.04\n",
       "gc       198.93\n",
       "xone     159.32\n",
       "2600      96.98\n",
       "wiiu      82.19\n",
       "Name: total_sales, dtype: float64"
      ]
     },
     "execution_count": 34,
     "metadata": {},
     "output_type": "execute_result"
    }
   ],
   "source": [
    "# Se obtienen las 20 plataformas con las mayores ventas totales\n",
    "platforms_sales = games_df.groupby('platform')['total_sales'].sum().sort_values(ascending=False)\n",
    "top_platform_sales = platforms_sales.head(20)\n",
    "top_platform_sales"
   ]
  },
  {
   "cell_type": "code",
   "execution_count": 37,
   "metadata": {
    "scrolled": false
   },
   "outputs": [
    {
     "ename": "ValueError",
     "evalue": "Mime type rendering requires nbformat>=4.2.0 but it is not installed",
     "output_type": "error",
     "traceback": [
      "\u001b[0;31m---------------------------------------------------------------------------\u001b[0m",
      "\u001b[0;31mValueError\u001b[0m                                Traceback (most recent call last)",
      "\u001b[1;32m/home/user/gamEda/gamEda.ipynb Cell 78\u001b[0m line \u001b[0;36m7\n\u001b[1;32m     <a href='vscode-notebook-cell://idx-gameda-1717914997824.cluster-uf6urqn4lned4spwk4xorq6bpo.cloudworkstations.dev/home/user/gamEda/gamEda.ipynb#Y143sdnNjb2RlLXJlbW90ZQ%3D%3D?line=21'>22</a>\u001b[0m fig\u001b[39m.\u001b[39mupdate_layout(\n\u001b[1;32m     <a href='vscode-notebook-cell://idx-gameda-1717914997824.cluster-uf6urqn4lned4spwk4xorq6bpo.cloudworkstations.dev/home/user/gamEda/gamEda.ipynb#Y143sdnNjb2RlLXJlbW90ZQ%3D%3D?line=22'>23</a>\u001b[0m     updatemenus\u001b[39m=\u001b[39m[\n\u001b[1;32m     <a href='vscode-notebook-cell://idx-gameda-1717914997824.cluster-uf6urqn4lned4spwk4xorq6bpo.cloudworkstations.dev/home/user/gamEda/gamEda.ipynb#Y143sdnNjb2RlLXJlbW90ZQ%3D%3D?line=23'>24</a>\u001b[0m         {\n\u001b[0;32m   (...)\u001b[0m\n\u001b[1;32m     <a href='vscode-notebook-cell://idx-gameda-1717914997824.cluster-uf6urqn4lned4spwk4xorq6bpo.cloudworkstations.dev/home/user/gamEda/gamEda.ipynb#Y143sdnNjb2RlLXJlbW90ZQ%3D%3D?line=65'>66</a>\u001b[0m     ]\n\u001b[1;32m     <a href='vscode-notebook-cell://idx-gameda-1717914997824.cluster-uf6urqn4lned4spwk4xorq6bpo.cloudworkstations.dev/home/user/gamEda/gamEda.ipynb#Y143sdnNjb2RlLXJlbW90ZQ%3D%3D?line=66'>67</a>\u001b[0m )\n\u001b[1;32m     <a href='vscode-notebook-cell://idx-gameda-1717914997824.cluster-uf6urqn4lned4spwk4xorq6bpo.cloudworkstations.dev/home/user/gamEda/gamEda.ipynb#Y143sdnNjb2RlLXJlbW90ZQ%3D%3D?line=68'>69</a>\u001b[0m \u001b[39m# Mostrar el gráfico interactivo\u001b[39;00m\n\u001b[0;32m---> <a href='vscode-notebook-cell://idx-gameda-1717914997824.cluster-uf6urqn4lned4spwk4xorq6bpo.cloudworkstations.dev/home/user/gamEda/gamEda.ipynb#Y143sdnNjb2RlLXJlbW90ZQ%3D%3D?line=69'>70</a>\u001b[0m fig\u001b[39m.\u001b[39;49mshow()\n",
      "File \u001b[0;32m~/gamEda/venv/lib/python3.9/site-packages/plotly/basedatatypes.py:3398\u001b[0m, in \u001b[0;36mBaseFigure.show\u001b[0;34m(self, *args, **kwargs)\u001b[0m\n\u001b[1;32m   3365\u001b[0m \u001b[39m\u001b[39m\u001b[39m\"\"\"\u001b[39;00m\n\u001b[1;32m   3366\u001b[0m \u001b[39mShow a figure using either the default renderer(s) or the renderer(s)\u001b[39;00m\n\u001b[1;32m   3367\u001b[0m \u001b[39mspecified by the renderer argument\u001b[39;00m\n\u001b[0;32m   (...)\u001b[0m\n\u001b[1;32m   3394\u001b[0m \u001b[39mNone\u001b[39;00m\n\u001b[1;32m   3395\u001b[0m \u001b[39m\"\"\"\u001b[39;00m\n\u001b[1;32m   3396\u001b[0m \u001b[39mimport\u001b[39;00m \u001b[39mplotly\u001b[39;00m\u001b[39m.\u001b[39;00m\u001b[39mio\u001b[39;00m \u001b[39mas\u001b[39;00m \u001b[39mpio\u001b[39;00m\n\u001b[0;32m-> 3398\u001b[0m \u001b[39mreturn\u001b[39;00m pio\u001b[39m.\u001b[39;49mshow(\u001b[39mself\u001b[39;49m, \u001b[39m*\u001b[39;49margs, \u001b[39m*\u001b[39;49m\u001b[39m*\u001b[39;49mkwargs)\n",
      "File \u001b[0;32m~/gamEda/venv/lib/python3.9/site-packages/plotly/io/_renderers.py:397\u001b[0m, in \u001b[0;36mshow\u001b[0;34m(fig, renderer, validate, **kwargs)\u001b[0m\n\u001b[1;32m    392\u001b[0m         \u001b[39mraise\u001b[39;00m \u001b[39mValueError\u001b[39;00m(\n\u001b[1;32m    393\u001b[0m             \u001b[39m\"\u001b[39m\u001b[39mMime type rendering requires ipython but it is not installed\u001b[39m\u001b[39m\"\u001b[39m\n\u001b[1;32m    394\u001b[0m         )\n\u001b[1;32m    396\u001b[0m     \u001b[39mif\u001b[39;00m \u001b[39mnot\u001b[39;00m nbformat \u001b[39mor\u001b[39;00m LooseVersion(nbformat\u001b[39m.\u001b[39m__version__) \u001b[39m<\u001b[39m LooseVersion(\u001b[39m\"\u001b[39m\u001b[39m4.2.0\u001b[39m\u001b[39m\"\u001b[39m):\n\u001b[0;32m--> 397\u001b[0m         \u001b[39mraise\u001b[39;00m \u001b[39mValueError\u001b[39;00m(\n\u001b[1;32m    398\u001b[0m             \u001b[39m\"\u001b[39m\u001b[39mMime type rendering requires nbformat>=4.2.0 but it is not installed\u001b[39m\u001b[39m\"\u001b[39m\n\u001b[1;32m    399\u001b[0m         )\n\u001b[1;32m    401\u001b[0m     ipython_display\u001b[39m.\u001b[39mdisplay(bundle, raw\u001b[39m=\u001b[39m\u001b[39mTrue\u001b[39;00m)\n\u001b[1;32m    403\u001b[0m \u001b[39m# external renderers\u001b[39;00m\n",
      "\u001b[0;31mValueError\u001b[0m: Mime type rendering requires nbformat>=4.2.0 but it is not installed"
     ]
    }
   ],
   "source": [
    "# Seleccionar las plataformas a comparar\n",
    "top_platforms = top_platform_sales.index\n",
    "\n",
    "# Filtrar el DataFrame original para obtener solo los datos de las plataformas con más ventas\n",
    "top_platforms_df = games_df[games_df['platform'].isin(top_platforms)]\n",
    "\n",
    "# Crear histograma inicial\n",
    "fig = px.histogram(top_platforms_df, x='total_sales', color='platform', marginal='rug', \n",
    "                   nbins=15, log_y=True, opacity=0.5, barmode='overlay')\n",
    "\n",
    "# Personalizar el diseño del gráfico\n",
    "fig.update_layout(\n",
    "    title='Distribución de Ventas Totales por Plataforma',\n",
    "    xaxis_title='Ventas Totales (Millones de USD)',\n",
    "    yaxis_title='No. de Videojuegos vendidos',\n",
    "    showlegend=True,\n",
    "    legend_title_text='Plataforma',\n",
    "    width=800, height=600\n",
    ")\n",
    "\n",
    "# Agregar botones para cambiar entre overlay y stacked y activar la escala logarítmica en el eje y\n",
    "fig.update_layout(\n",
    "    updatemenus=[\n",
    "        {\n",
    "            'buttons': [\n",
    "                {\n",
    "                    'method': 'relayout',\n",
    "                    'label': 'Overlay',\n",
    "                    'args': [{'barmode': 'overlay'}]\n",
    "                },\n",
    "                {\n",
    "                    'method': 'relayout',\n",
    "                    'label': 'Stack',\n",
    "                    'args': [{'barmode': 'stack'}]\n",
    "                },\n",
    "            ],\n",
    "            'direction': 'down',\n",
    "            'pad': {'r': 10, 't': 87},\n",
    "            'showactive': True,\n",
    "            'x': 0.75,\n",
    "            'xanchor': 'left',\n",
    "            'y': 0.95,\n",
    "            'yanchor': 'top'\n",
    "        },\n",
    "        {\n",
    "            'buttons': [\n",
    "                {\n",
    "                    'method': 'relayout',\n",
    "                    'label': 'Log Y',\n",
    "                    'args': [{'yaxis.type': 'log'}]\n",
    "                },\n",
    "                {\n",
    "                    'method': 'relayout',\n",
    "                    'label': 'Linear Y',\n",
    "                    'args': [{'yaxis.type': 'linear'}]\n",
    "                },\n",
    "            ],\n",
    "            'direction': 'down',\n",
    "            'pad': {'r': 10, 't': 87},\n",
    "            'showactive': True,\n",
    "            'x': 0.85,\n",
    "            'xanchor': 'left',\n",
    "            'y': 0.95,\n",
    "            'yanchor': 'top'\n",
    "        },\n",
    "    ]\n",
    ")\n",
    "\n",
    "# Mostrar el gráfico interactivo\n",
    "fig.show()"
   ]
  },
  {
   "cell_type": "markdown",
   "metadata": {},
   "source": [
    "Se procede a visualizar las distribución de ventas totales de las 20 plataformas más importantes. La gráfica será interactiva para observar las distribuciones individuales y globales en dos escalas para el eje y, lineal y logarímica para analizar las ventas mínimas. A priori la plataforma con más ventas de videojuegos fue la wii seguido de la nes, pero es preciso realizar un análisis filtrando los años de lanzamiento que permitan una mejor proyección para 2017."
   ]
  },
  {
   "cell_type": "code",
   "execution_count": null,
   "metadata": {},
   "outputs": [],
   "source": [
    "# Definir función para calcular estadísticas descriptivas basadas en numpy\n",
    "def show_stats(data_series):\n",
    "    \n",
    "    '''La función recibe un Series, calcula las estádisticas descriptivas básicas\n",
    "    basadas en numpy y las presenta en pantalla'''\n",
    "    \n",
    "    # Creación de diccionario para almacenar estadísticas\n",
    "    stats_series = pd.Series({\n",
    "        'count': data_series.count(),\n",
    "        'mean': np.mean(data_series),\n",
    "        'median': np.median(data_series),\n",
    "        'var': np.var(data_series),\n",
    "        'std': np.std(data_series),\n",
    "        'min': np.min(data_series),\n",
    "        'Q1': np.percentile(data_series,25),\n",
    "        'Q3': np.percentile(data_series,75),\n",
    "        'max': np.max(data_series)\n",
    "    })\n",
    "    # Retorna estadísticas calculadas\n",
    "    return stats_series"
   ]
  },
  {
   "cell_type": "code",
   "execution_count": null,
   "metadata": {
    "scrolled": false
   },
   "outputs": [],
   "source": [
    "# Mostrar estadísticas descriptivas del histograma de las 20 plataformas más importantes\n",
    "show_stats(top_platforms_df['total_sales'])"
   ]
  },
  {
   "cell_type": "markdown",
   "metadata": {},
   "source": [
    "__Observaciones__\n",
    "\n",
    "- A nivel global, las ventas totales de generadas por las 20 plataformas más importantes presentan una media de 0.548552 Milones de USD, es decir que cada uno de los juegos (títulos) lanzados generó en promedio una venta de 548,552.00 USD.\n",
    "\n",
    "\n",
    "- Hasta un 50% de esos juegos lanzados generó ventas totales de hasta 180,000.00 USD\n",
    "\n",
    "\n",
    "- El tercer cuartil indica que la mayoría de juegos lanzados vendió hasta 490,000.00 USD. Lo que quiere decir que el 75% de esas ventas no alcanzaron el medio millon de USD.\n",
    "\n",
    "\n",
    "- Tanto la varianza de 2.49 como la desv.std de 1.57 pueden parecer relativamente pequeñas pero al tratase de ventas en escalas de Millones una dispersión de 1.57 millones de USD es importante. \n",
    "\n",
    "    Esto quiere decir que aunque a mayoría de ventas haya sido menor a 0.5 Millones de USD, la desv.std permite conocer la existencia de unas pocas ventas mayores al medio millón de USD y observando el valor máximo de 82.54 millones de USD se puede develar que sí hubieron juegos, pocos pero que sí puedieron alcanzar el millón de dólares.\n",
    "    \n",
    "\n",
    "- No Obstante, este es el análisis inicial sin filtrar el periodo que se utilizará para la proyección de 2017."
   ]
  },
  {
   "cell_type": "markdown",
   "metadata": {},
   "source": [
    "### Evolución de popularidad de las plataformas\n",
    "\n",
    "Mediante una tabla dinámica se visualizarán las ventas anuales de cada plataforma"
   ]
  },
  {
   "cell_type": "code",
   "execution_count": null,
   "metadata": {},
   "outputs": [],
   "source": [
    "# Filtrar dataframe para mostrar años hasta el 2016 prefijo 'yf' para year filtered\n",
    "yf_games_df = games_df[games_df['year_of_release']<2017] #years filtered games\n",
    "\n",
    "# Crear una pivot table para observar\n",
    "pivot_table = pd.pivot_table(yf_games_df, values='total_sales', index='platform', \n",
    "                             columns='year_of_release', aggfunc='sum')\n",
    "pivot_table #Mostrar tabla dinámica"
   ]
  },
  {
   "cell_type": "markdown",
   "metadata": {},
   "source": [
    "Mediante un heatmap booleano se representará la pivot table para mostrar los años en que estuvieron vigentes cada plataforma"
   ]
  },
  {
   "cell_type": "code",
   "execution_count": null,
   "metadata": {
    "scrolled": false
   },
   "outputs": [],
   "source": [
    "# Crear el mapa de calor con colores personalizados\n",
    "plt.figure(figsize=(16, 12))\n",
    "heatmap = sns.heatmap(pivot_table>0, cmap=['#e1ede7','#47b37f'], fmt='.1f', linewidths=.5, cbar=False)\n",
    "\n",
    "# Personalizar el diseño del gráfico\n",
    "plt.title('Vigencia temporal de plataformas', fontsize=18)\n",
    "plt.xlabel('Año de Lanzamiento', fontsize=15)\n",
    "plt.ylabel('Plataforma', fontsize=15)\n",
    "\n",
    "# Ajustar el tamaño de la fuente de los valores de los ejes\n",
    "heatmap.set_xticklabels(heatmap.get_xmajorticklabels(), fontsize=14)\n",
    "heatmap.set_yticklabels(heatmap.get_ymajorticklabels(), fontsize=14)\n",
    "\n",
    "# Mostrar el mapa de calor\n",
    "plt.show()"
   ]
  },
  {
   "cell_type": "code",
   "execution_count": null,
   "metadata": {
    "scrolled": false
   },
   "outputs": [],
   "source": [
    "# Cálculo de años de lanzamiento y descontinuación de las plataformas\n",
    "min_year = yf_games_df.groupby('platform')['year_of_release'].min()\n",
    "max_year = yf_games_df.groupby('platform')['year_of_release'].max()\n",
    "\n",
    "# Formar Dataframe con valores de año de lanzamiento y descontinuación\n",
    "validity = pd.concat([min_year, max_year], axis=1)\n",
    "validity.columns = ['release_year', 'ceased_year']\n",
    "validity = validity.sort_values('release_year') \n",
    "validity['duration'] = validity['ceased_year'] - validity['release_year'] #Duración de cada plataforma\n",
    "validity # Mostrar df"
   ]
  },
  {
   "cell_type": "code",
   "execution_count": null,
   "metadata": {},
   "outputs": [],
   "source": [
    "# Calcular vigencia promedio de las plataformas y su std\n",
    "validity['duration'].apply(['count', 'mean', 'std'])"
   ]
  },
  {
   "cell_type": "markdown",
   "metadata": {},
   "source": [
    "__Observaciones:__\n",
    "\n",
    "En promedio las plataformas han durado 10.71 años con una desviación estándar de 9.75 años lo cual indica que no se debe generalizar la duración media sobre todo al tratarse de un número reltivamente bajo, pero gracias al heatmap podemos observar algunas irregularidades en el mapa como el caso de las plataformas: 3ds, ds, gba, ps2, ps3, wii que presentan ventas en años muy anteriores. Se puede inferir lo siguiente, que hubo:\n",
    "\n",
    "- Error al registrar en 3ds en lugar de 3do.\n",
    "- Error al registrar ds en lugar de dc (DreamCast).\n",
    "- Error al registrar gba en lugar de gb.\n",
    "- Error al registrar ps2/ps3 en lugar de PC.\n",
    "\n",
    "\n",
    "Adicional La wii es una de las consolas retrocompatibles con gc y algunos titulos de antaño.\n",
    "\n",
    "Considerando solamente la continuidad en ventas de cada plataforma, los registros no continuos no corresponden a la vigencia real de las consolas en el mercado, a excepción de PC que ha sido una plataforma con diferentes momentos de popularidad en videojuegos. Se observa que la vigencia de las consolas en el mercado va de __5 a 12 años__. Pero en beneficio de la duda, contareos los años de actividad registrado para estimar mejor el promedio de duración.\n"
   ]
  },
  {
   "cell_type": "code",
   "execution_count": null,
   "metadata": {},
   "outputs": [],
   "source": [
    "# En una nueva columna agregar el recuento de años de actividad de cada plataforma\n",
    "pivot_table['active_yrs'] = pivot_table.count(axis=1)\n",
    "activity_years = pivot_table['active_yrs'] \n",
    "activity_years #mostrar años de actividad"
   ]
  },
  {
   "cell_type": "code",
   "execution_count": null,
   "metadata": {},
   "outputs": [],
   "source": [
    "# Calcular nuevo promedio de vigencia de las paltaformas\n",
    "pivot_table['active_yrs'].apply(['mean', 'std'])"
   ]
  },
  {
   "cell_type": "markdown",
   "metadata": {},
   "source": [
    "Esto es un resultado más adecuado. La media se redujo y está más cerca de la mitad del rango de 5-12 años. La desviación estándar se redujo a 5.61 años lo que indica una mayor precisión en decir que las plataformas han tenido una vigencia media de 8.42 años. "
   ]
  },
  {
   "cell_type": "code",
   "execution_count": null,
   "metadata": {},
   "outputs": [],
   "source": [
    "# Se calcula el tiempo que tardó en aparecer una plataforma respecto a la previa lanzada\n",
    "print(validity['release_year'].diff())\n",
    "print('\\nrelease_diff mean = ',validity['release_year'].diff().mean())"
   ]
  },
  {
   "cell_type": "code",
   "execution_count": null,
   "metadata": {
    "scrolled": false
   },
   "outputs": [],
   "source": [
    "# Se calcula el tiempo que tardaron en desaparecer cada plataforma progresivamente\n",
    "print(validity['ceased_year'].sort_values().diff())\n",
    "print('\\nceease_diff mean = ',validity['ceased_year'].sort_values().diff().mean())"
   ]
  },
  {
   "cell_type": "markdown",
   "metadata": {},
   "source": [
    "__Observaciones:__\n",
    "\n",
    "A priori la plataforma 2600 no tuvo antecesora, por ello sus valores NaN.\n",
    "\n",
    "Se observa que cada plataformas en promedio fue lanzada 1.2 años (14.4 meses) después que su predecesora. Aquellas que más tardaron en aparecer a la previamente lanzada fueron la NES que apareció 6 años después que la 2600, y la psv que apareción 7 años después de la psp. Fuera de ellas se observa que las plataformas aparecieron entre 1 a 3 años después que la anterior.\n",
    "\n",
    "Luego se observa que el tiempo en que tardan en desaparcer las plataformas. En este caso se reordenan por años de fin de vida comercial y se encontró que suelen desaparecer entre 0 y 3 años después (promedio 0.8 años o 9.6 meses)\n",
    "\n",
    "__Dicho de otra manera, las plataformas aparecen en promedio cada 1.2 años y se van descontinuando 9.6 meses una tras otra.__\n",
    "\n",
    "Para observar mejor la vigencia de las plataformas respecto a su popularidad, conviene visualizar la evolución en ventas de cada plataforma. Con un heatmap continuo:"
   ]
  },
  {
   "cell_type": "code",
   "execution_count": null,
   "metadata": {},
   "outputs": [],
   "source": [
    "# Crear el mapa de calor con colores personalizados\n",
    "plt.figure(figsize=(16, 12))\n",
    "\n",
    "# Establecer el color de fondo de la figura\n",
    "plt.rcParams['axes.facecolor'] = '#f0f0f0'  # (gris claro)\n",
    "\n",
    "# Utilizar tabla pivore previamente obtenida pero sin la columna de 'active_yrs'\n",
    "pivot_plat_yrs = pivot_table.drop('active_yrs', axis=1)\n",
    "\n",
    "heatmap = sns.heatmap(pivot_plat_yrs, cmap=sns.color_palette(\"light:#5A9\", as_cmap=True), \n",
    "                      fmt='.1f', linewidths=.5)\n",
    "\n",
    "# Personalizar el diseño del gráfico\n",
    "plt.title('Volumen de ventas en plataformas', fontsize=18)\n",
    "plt.xlabel('Año de Lanzamiento', fontsize=15)\n",
    "plt.ylabel('Plataforma', fontsize=15)\n",
    "\n",
    "# Ajustar el tamaño de la fuente de los valores de los ejes\n",
    "heatmap.set_xticklabels(heatmap.get_xmajorticklabels(), fontsize=14)\n",
    "heatmap.set_yticklabels(heatmap.get_ymajorticklabels(), fontsize=14)\n",
    "\n",
    "# Mostrar el mapa de calor\n",
    "plt.show()"
   ]
  },
  {
   "cell_type": "markdown",
   "metadata": {},
   "source": [
    "Este heatmap nos permite observar mejor proporcionalmente cuáles fueron las plataformas que más títulos vendieron. Son 18 las plataformas:"
   ]
  },
  {
   "cell_type": "code",
   "execution_count": null,
   "metadata": {
    "scrolled": false
   },
   "outputs": [],
   "source": [
    "# Obtener las 18 plataformas con más ventas\n",
    "top_platform_sales = platforms_sales.head(18)\n",
    "top_platform_sales"
   ]
  },
  {
   "cell_type": "markdown",
   "metadata": {},
   "source": [
    "Sobre esas 18 plataformas se procede a graficar la evolución en ventas"
   ]
  },
  {
   "cell_type": "code",
   "execution_count": null,
   "metadata": {},
   "outputs": [],
   "source": [
    "# Se filtra el df original por las plataformas con más ventas\n",
    "top_platforms_df = games_df[games_df['platform'].isin(top_platform_sales.index)]\n",
    "\n",
    "# Se obtiene el total de ventas anuales por cada plataforma en un Series\n",
    "top_sale_platforms = top_platforms_df.groupby(['platform', 'year_of_release'])['total_sales'].sum()\n",
    "\n",
    "# Se convierte el Series en un DF filtrando los años hasta 2016\n",
    "top_sale_data = pd.DataFrame(top_sale_platforms).reset_index()\n",
    "top_sale_data = top_sale_data[top_sale_data['year_of_release']<2017]"
   ]
  },
  {
   "cell_type": "code",
   "execution_count": null,
   "metadata": {
    "scrolled": false
   },
   "outputs": [],
   "source": [
    "# Se genera la gráfica interactiva\n",
    "fig = px.bar(top_sale_data, x=\"year_of_release\", y=\"total_sales\", color=\"platform\",\n",
    "             barmode='overlay', opacity=0.4)\n",
    "\n",
    "# Personalizar el diseño del gráfico\n",
    "fig.update_layout(\n",
    "    title=\"Evolución de Ventas Anuales por Plataforma\",\n",
    "    xaxis_title='Años de Vigencia',\n",
    "    yaxis_title='Total de Ventas (Millones de USD)',\n",
    "    showlegend=True,\n",
    "    legend_title_text='Plataforma',\n",
    "    width=800, height=600,\n",
    "\n",
    "    # Se agrega un botón interactivo\n",
    "    updatemenus=[\n",
    "        {\n",
    "            'buttons': [\n",
    "                {\n",
    "                    'method': 'relayout',\n",
    "                    'label': 'Overlay',\n",
    "                    'args': [{'barmode': 'overlay'}]\n",
    "                },\n",
    "                {\n",
    "                    'method': 'relayout',\n",
    "                    'label': 'Stack',\n",
    "                    'args': [{'barmode': 'stack'}]\n",
    "                },\n",
    "            ],\n",
    "            'direction': 'down',\n",
    "            'pad': {'r': 10, 't': 87},\n",
    "            'showactive': True, \n",
    "            'x': 0.05,\n",
    "            'xanchor': 'left',\n",
    "            'y': 1.17,\n",
    "            'yanchor': 'top'\n",
    "        }\n",
    "\n",
    "    ]\n",
    ")\n",
    "fig.show()"
   ]
  },
  {
   "cell_type": "markdown",
   "metadata": {},
   "source": [
    "__Observaciones:__\n",
    "\n",
    "- Globalmente (Gráfico apilado) se puede observar que historicamente las mayores ventas totales en el mercado de los videojuegos fueron entre el 2001 y 2011, luego las ventas caen notablemente.\n",
    "\n",
    "- La plataforma con el pico anual de ventas mas elevado en primer lugar está la ps2 que lo alcanzó en el año 2002 con casi 210 millones y en el 2004 con 212 millones\n",
    "\n",
    "- Le sigue Nintendo Wii con un solo año de ventas elevadas, alcanzando los 208 millones\n",
    "\n",
    "- En tercer lugar playstation (one) que alcanzó casi 171 millones de USD en el año 1998\n"
   ]
  },
  {
   "cell_type": "markdown",
   "metadata": {},
   "source": [
    "### Determinación del Periodo de análisis\n",
    "\n",
    "Teniendo en cuenta la vigencia promedio de 8.41 años se podría elegir un periodo apartir del 2009, pero al observar la gráfica interactiva en modo stack, se puede observar que las ventas totales a partir del 2012 aun que son menores que el pico histórico, a fin de cuentas se ven más consistentes en los útlimos 5 años, por lo que __se considerará un periodo de 2012-2016.__"
   ]
  },
  {
   "cell_type": "markdown",
   "metadata": {},
   "source": [
    "Considerando el filtro a partir del año 2012, de 18 plataformas quedan ahora 9\n",
    "\n",
    "De este grupo, las plataformas notoriamente más rentables fueron __ps4, ps3, xone, 3ds, x360__ con ventas superiores a los 159 millones de dólares. __Esto representa un rendimiento por volumen__.\n",
    "\n",
    "El resto de plataformas tuvieron rentabilidades menores a los 63 millones USD en venta de videojuegos."
   ]
  },
  {
   "cell_type": "markdown",
   "metadata": {},
   "source": [
    "Como complemento, se procede a filtrar la tabla de vigencias de plataformas para obtener una mejor estimación del promedio de años que cada consola del periodo fijado tiene"
   ]
  },
  {
   "cell_type": "markdown",
   "metadata": {},
   "source": [
    "### Vigencia de Plataformas"
   ]
  },
  {
   "cell_type": "markdown",
   "metadata": {},
   "source": [
    "Resulta preciso observar la vigencia de las plataformas con más ventas en el periodo 2012-2016. Para ello se debe determinar cuáles son las plataformas. Como previamente se delimitó el año final del periodo a 2016, queda entonces delimitar el set de datos desde el 2012."
   ]
  },
  {
   "cell_type": "code",
   "execution_count": null,
   "metadata": {
    "scrolled": false
   },
   "outputs": [],
   "source": [
    "# Obtener el total de ventas por plataforma a partir del año 2012\n",
    "top_sales = top_sale_data.query('year_of_release > 2011').groupby(['platform'])\n",
    "top_sales = top_sales['total_sales'].sum().sort_values(ascending=False)\n",
    "top_sales # Se muestran las plataformas más populares a partir de 2012"
   ]
  },
  {
   "cell_type": "code",
   "execution_count": null,
   "metadata": {
    "scrolled": false
   },
   "outputs": [],
   "source": [
    "# Seleccionar las plataformas a comparar\n",
    "top_platforms_list = top_sales.index \n",
    "\n",
    "# Filtrar Años de actividad por plataformas más importantes\n",
    "print(activity_years.loc[top_platforms_list],'\\n')\n",
    "\n",
    "print(f'active years mean: {activity_years.loc[top_platforms_list].mean()}') # Mostrar media"
   ]
  },
  {
   "cell_type": "markdown",
   "metadata": {},
   "source": [
    "__Observación__\n",
    "\n",
    "Se obtiene entonces que la vigencia promedio de las plataformas más importantes es de 12 años. Además, teniendo en cuenta que historicamente las plataformas aparecen cada 1.2 años y desaparecen 0.8 años una tras otra se puede inferir que esos tiempos corresponden a umbrales de popularización y descontinuación, ya que la vida comercial de las plataformas dependen de la popularidad y competencia. Es decir, la competencia permite que las plataformas se hagan conocidas y el fin de su vigencia se anuncia con una baja importante de ventas.\n",
    "\n",
    "Por lo tanto las plataformas tendrían un periodo clave de vida comercial de unos 10 años en promedio (12 - 1.2 - 0.8 = 10)."
   ]
  },
  {
   "cell_type": "markdown",
   "metadata": {},
   "source": [
    "### Distribución de las ventas por plataforma\n",
    "\n",
    "De la vista anterior de top_sales, se observa que las __plataformas psp y ds tuvieron relativamente pocas ventas__. Particularmente ds ya se encontraba en su __etapa comercial final__, por lo que sería tentador omitir esta plataforma del análisis ya que se descontinuó en 2013, pero sus ventas fueron 12.61 Millones de USD frente a los 11.43 Millones de USD de psp a pesar de que esta última se descontinuó en el 2015 (año muy cercano al fin del periodo de análisis). Por lo tanto se opta por mantener las 9 plataformas en este análisis."
   ]
  },
  {
   "cell_type": "code",
   "execution_count": null,
   "metadata": {},
   "outputs": [],
   "source": [
    "# Filtrar el DataFrame original para obtener solo los datos de las plataformas con más ventas\n",
    "top_platforms_df = games_df[games_df['platform'].isin(top_platforms_list)]\n",
    "top_platforms_df = top_platforms_df[top_platforms_df['year_of_release'] > 2011]\n",
    "\n",
    "# Crear figura\n",
    "fig = go.Figure()\n",
    "\n",
    "# Añadir una caja para cada plataforma\n",
    "for platform in top_platforms:\n",
    "    platform_data = top_platforms_df[top_platforms_df['platform'] == platform]['total_sales']\n",
    "    fig.add_trace(go.Box(y=platform_data, name=platform, boxpoints='outliers', jitter=0.2,\n",
    "                        boxmean=True))\n",
    "\n",
    "# Personalizar el diseño del gráfico\n",
    "fig.update_layout(\n",
    "    title='Diagrama de Caja de Ventas Totales por Plataforma',\n",
    "    xaxis=dict(title='Plataforma'),\n",
    "    yaxis=dict(title='Ventas Totales individuales (Millones de USD)'),\n",
    "    showlegend=True,\n",
    "    legend=dict(title='Plataforma'),\n",
    "    width=770, height=600,\n",
    ")\n",
    "\n",
    "# Agregar menú desplegable para modificar boxpoints\n",
    "fig.update_layout(\n",
    "    updatemenus=[\n",
    "        dict(\n",
    "            type=\"dropdown\",\n",
    "            x=1.17,\n",
    "            y=0.27,\n",
    "            buttons=[\n",
    "                dict(label=\"Outliers\",\n",
    "                     method=\"restyle\",\n",
    "                     args=[{\"boxpoints\": \"outliers\"}]),\n",
    "                dict(label=\"Todos\",\n",
    "                     method=\"restyle\",\n",
    "                     args=[{\"boxpoints\": \"all\"}]),\n",
    "            ],\n",
    "        )\n",
    "    ]\n",
    ")\n",
    "\n",
    "fig.show()\n"
   ]
  },
  {
   "cell_type": "code",
   "execution_count": null,
   "metadata": {},
   "outputs": [],
   "source": [
    "# Se agrupan los datos para obtener las estadisticas decriptivas de ventas por plataforma\n",
    "describe_platform_Sales = top_platforms_df.groupby('platform')['total_sales'].apply(show_stats)\n",
    "describe_platform_Sales = describe_platform_Sales.unstack().sort_values('count', ascending=False)\n",
    "describe_platform_Sales.index.name = 'platform'\n",
    "\n",
    "# Se define una función para resaltar la columna de la mediana\n",
    "def highlight_series(s):\n",
    "    color = 'lightcyan'\n",
    "    return 'background-color: %s' % color\n",
    "\n",
    "# Se aplica e resaltado a la tabla descriptiva\n",
    "subset = pd.IndexSlice[:, ['mean','median', 'std','Q3']] # definir columnas a resaltar\n",
    "describe_platform_Sales.style.applymap(highlight_series, subset=subset)"
   ]
  },
  {
   "cell_type": "markdown",
   "metadata": {},
   "source": [
    "__Observaciones:__\n",
    "\n",
    "En el boxplot anterior se puede dar clic para seleccionar la plataforma a analizar o bien con el cursor seleccionar el espacio en el diagrama para apreciar mejor distribución de las plataformas.\n",
    "\n",
    "__Se recomienda seleccionar la opción para mostrar solo los valores atípicos con un zoom selectivo de los bigotes de cada caja para una visualización más clara:__\n",
    "\n",
    "Nótese que la media es mayor que la mediana en todas las plataformas, lo que confirma que todas tienen un sesgo postivo. Además sus valores se acercan al q3 por lo que la dispersión es no es lejana. En este caso la media es una métrica más representativa.\n",
    "\n",
    "Evidentemente se aprecian diferencias de ventas entre plataformas, con las particularidades de que en el 75% de los casos fueron comercialmente similares en ventas individuales las plataformas (observar similitudes de plataformas entre q3 y entre conteos):\n",
    "\n",
    "- wii, xone, ps4\n",
    "\n",
    "Es decir que en la mayoría de casos, los juegos de mencionadas plataformas lograron una distribución de ventas similares en proporción.\n",
    "\n",
    "\n",
    "Puede resular tentador eliminar los valores outliers pero hay que tener en cuenta que son significativos y estos en efecto han maximizado las ventas en cada plataforma tal como se puede observar en el boxplot interactivo al habilitar la visualización de todos los datos, las ganancias son mayores por volumen, por lo que conocer los percentiles (junto con el boxplot de puntos totales) en este caso nos sirve para conocer más bien como se distribuyeron las ventas totales en cada plataforma y en que momento se intensificaron y decrecieron sus ventas.\n",
    "\n",
    "Por otra parte hubieron algunas plataformas que tuvieron ventas promedio similares, pero diferentes ganancias por volumen como lo son: \n",
    "\n",
    "- x360 y ps4\n",
    "- xone y wii\n",
    "\n",
    "Las medidas de dispersión revelan qué tanto varían las ventas en cada plataforma. En general fueron significativamente mayores al valor de la media. Esto indica que las ventas de cada plataforma no han sido consistentes. Solo las plataformas ps4, pc, xone, wii y psp tuvieron las menores desviaciones estándar respecto a sus medias, siendo equivalentes al doble o menos. Siendo psp la paltaforma con valores iguales en promedio y variación de ventas entre títulos lanzados (70,000.00 USD por cada juego). Esto indica que esta plataforma generó ventas más o menos regulares respecto a otras plataformas en términos rendimiento de ventas, pero en volumen no fue suficiente para superar al resto.\n",
    "\n",
    "Por su parte, la plataforma x360 tuvo la mayor variación de ventas, con una desviación estándar de 1.70 Millones de USD, donde las ventas por cada título variaron bastante. Esto indica menor estabilidad en el flujo de ventas a pesar de haber rivalizado con ps3 que tuvo una estabilidad algo mejor y además un mayor volumen de ventas.\n",
    "\n",
    "Para conocer el __rendimiento unitario de ventas totales por cada de juego lanzado__ se procede lo siguiente:"
   ]
  },
  {
   "cell_type": "code",
   "execution_count": null,
   "metadata": {
    "scrolled": true
   },
   "outputs": [],
   "source": [
    "# Visualizar los promedios de ventas individuales por plataforma en mayor a menor\n",
    "describe_platform_Sales[['count', 'mean','std']].sort_values('mean', ascending=False)"
   ]
  },
  {
   "cell_type": "code",
   "execution_count": null,
   "metadata": {},
   "outputs": [],
   "source": [
    "# Obtener la diferencia proporcional de volumen entre ps4 y x360\n",
    "round(describe_platform_Sales.loc['ps4']['count']/describe_platform_Sales.loc['x360']['count'],2)"
   ]
  },
  {
   "cell_type": "markdown",
   "metadata": {},
   "source": [
    "Aunque en x360 los juegos tuvieron un rendimiento de ventas por título lanzado igual al de ps4, esta última tuvo su volumen mayor en un 33%."
   ]
  },
  {
   "cell_type": "markdown",
   "metadata": {},
   "source": [
    "__Como complemento se obtendrá el análisis _descriptivo anual_ de ventas totales a continuación:__"
   ]
  },
  {
   "cell_type": "code",
   "execution_count": null,
   "metadata": {
    "scrolled": false
   },
   "outputs": [],
   "source": [
    "# Datos previamente filtrados por año desde 2012, \n",
    "\n",
    "# Se agrupan los datos por obtener el total de ventas anuales por plataforma\n",
    "filtered_sale_series = top_platforms_df.groupby(['platform', 'year_of_release'])['total_sales'].sum()\n",
    "\n",
    "# Se convierte el Series en un DF filtrando hasta 2016\n",
    "filtered_sales_df = filtered_sale_series.reset_index()\n",
    "filtered_sales_df = filtered_sales_df[filtered_sales_df['year_of_release']<2017]\n",
    "\n",
    "#Se obtienen las estadísticas descriptivas anuales de cada plataforma\n",
    "# debido a que la medida std es suficiente, no hace falta utilizar la función show_stats que\n",
    "# calcula además la varianza. Por lo tanto bastará el método .describe()\n",
    "describe_filtered_sales = filtered_sales_df.groupby('platform')['total_sales'].describe()\n",
    "\n",
    "# Se muestra la tabla descriptiva resaltando la fila de interés\n",
    "describe_filtered_sales.style.applymap(highlight_series, subset=pd.IndexSlice['ps4',:])"
   ]
  },
  {
   "cell_type": "markdown",
   "metadata": {},
   "source": [
    "Se evidencia que la PS4 vendió en promedio anual más que el resto de consolas con un monto de 78.54 Millones de USD anuales. Esto se debe principalmente a que ps4 tuvo ventas anuales bastante altas respecto a las otras plataformas además de ser lanzada en 2013. Pero así mismo también tuvo una dispersión significativa(desv. std) de 40.57 millones de USD debido a que partir del 2014 su popularidad aumento y sus ventas se incrementaron estrepitosamente.\n",
    "\n",
    "Para observar mejor las distribuciones, __se procede a graficar solo el boxplot correspondiente.__ Los histogramas no tendrían un patron definido debido a que las observaciones son pocas (menos de 6 por plataforma. Nótese en la columna count de la tabla descriptiva anterior):"
   ]
  },
  {
   "cell_type": "code",
   "execution_count": null,
   "metadata": {},
   "outputs": [],
   "source": [
    "# Crear figura\n",
    "fig = go.Figure()\n",
    "\n",
    "# Añadir una caja para cada plataforma\n",
    "for platform in top_platforms.sort_values():\n",
    "    platform_data = filtered_sales_df[filtered_sales_df['platform'] == platform]\n",
    "    fig.add_trace(go.Box(\n",
    "        y=platform_data['total_sales'],\n",
    "        name=platform,\n",
    "        boxpoints='outliers',\n",
    "        jitter=0.2,\n",
    "        boxmean=True,\n",
    "        hovertemplate=\"<b>Año:</b> %{text}<br><b>Ventas:</b> $ %{y:.2f} M<extra></extra>\",\n",
    "        text= platform_data['year_of_release']\n",
    "    ))\n",
    "\n",
    "# Personalizar el diseño del gráfico\n",
    "fig.update_layout(\n",
    "    title='Diagrama de Caja de Ventas Totales por Plataforma',\n",
    "    xaxis=dict(title='Plataforma'),\n",
    "    yaxis=dict(title='Ventas Anuales (Millones de USD)'),\n",
    "    showlegend=True,\n",
    "    legend=dict(title='Plataforma'),\n",
    "    width=770, height=600,\n",
    ")\n",
    "\n",
    "# Agregar menú desplegable para modificar boxpoints\n",
    "fig.update_layout(\n",
    "    updatemenus=[\n",
    "        dict(\n",
    "            type=\"dropdown\",\n",
    "            x=1.17,\n",
    "            y=0.27,\n",
    "            buttons=[\n",
    "                dict(label=\"Outliers\",\n",
    "                     method=\"restyle\",\n",
    "                     args=[{\"boxpoints\": \"outliers\"}]),\n",
    "                dict(label=\"Todos\",\n",
    "                     method=\"restyle\",\n",
    "                     args=[{\"boxpoints\": \"all\"}]),\n",
    "            ],\n",
    "        )\n",
    "    ]\n",
    ")\n",
    "\n",
    "fig.show()\n"
   ]
  },
  {
   "cell_type": "markdown",
   "metadata": {},
   "source": [
    "Al elegir la visualización solo de valores atípicos, la única plataforma que posee es pc. Recordar que esta distribución corresponde a las ventas totales de cada año y para este caso partiular cada observación representa el total de ventas en determinado año.\n",
    "\n",
    "En primer lugar, los ventas anuales de ps4 no bajaron de 25.99 millones de USD respecto las otras plataformas. Esto confirma el alto valoor de sus ventas debido al volumen y valor medio de cada año que también fue superior al resto.\n",
    "\n",
    "Al considerar un flujo anual en lugar de individual por juego, se aprecia que las ventas promedio difieren mucho entre plataforma. Esto se debe al diferente volumen de ventas de cada plataforma por año. En este caso puntual como los datos representan cada año, cada cuartil define umbrales de ventas que en determinados años alcanzó cada plataforma.\n",
    "\n",
    "Las plataformas que fueron similares en montos brutos y volumen al completar el 75% de ventas anuales fueron:\n",
    "\n",
    "- ds y wii\n",
    "- 3ds y xone (no tan similares)\n",
    "- ps3 y ps4\n",
    "\n",
    "Tener en cuenta que los periodos de inicio y fin en estos casos no son exactamente iguales, por lo que su rendimiento de ventas en función del tiempo no es similar. Ello se comprueba comparando la vigencia de cada plataforma. Obsérvese a continuación:"
   ]
  },
  {
   "cell_type": "code",
   "execution_count": null,
   "metadata": {},
   "outputs": [],
   "source": [
    "# Mostrar estadísticas descriptivas de las plataformas similares en ventas al 75% de su vida comercial\n",
    "yield_df1 = describe_filtered_sales.query('index in [\"ds\", \"wii\"]')[['count', 'mean', '75%']]\n",
    "yield_df1.rename(columns={'count':'years','75%':'Q3'}, inplace=True)\n",
    "yield_df1['75%_cases'] = yield_df1['years'] * 0.75\n",
    "yield_df1['sum'] = yield_df1['years'] * yield_df1['mean']\n",
    "yield_df1"
   ]
  },
  {
   "cell_type": "markdown",
   "metadata": {},
   "source": [
    "Al observar los valores de media y q3 se observa que la plataforma __ds tuvo un rendimiento ligeramente mayor en ventas anuales__ en el 75% de los casos (1 periodos anual y medio). El 25% restante difiere por volumen de ventas, por ello wii superó en ventas totales historicas a ds debido que tuvo más tiempo vigente."
   ]
  },
  {
   "cell_type": "code",
   "execution_count": null,
   "metadata": {},
   "outputs": [],
   "source": [
    "# Mostrar estadísticas descriptivas de las plataformas similares en ventas al 75% de su vida comercial\n",
    "yield_df2 = describe_filtered_sales.query('index in [\"3ds\", \"xone\"]')[['count', 'mean', '75%']]\n",
    "yield_df2.rename(columns={'count':'years','75%':'Q3'}, inplace=True)\n",
    "yield_df2['years_75%'] = yield_df2['years'] * 0.75\n",
    "yield_df2['sum'] = yield_df2['years']*yield_df2['mean']\n",
    "yield_df2"
   ]
  },
  {
   "cell_type": "markdown",
   "metadata": {},
   "source": [
    "Al observar los valores de media y q3 se observa que la plataforma __xone tuvo ligeramente un mayor rendimiento en ventas anuales__ en el 75% de los (casi 4 periodos anuales). El 25% difiere por volumen, por ello 3ds gana por volumen (más periodos anuales)."
   ]
  },
  {
   "cell_type": "code",
   "execution_count": null,
   "metadata": {
    "scrolled": true
   },
   "outputs": [],
   "source": [
    "# Mostrar estadísticas descriptivas de las plataformas similares en ventas al 75% de su vida comercial\n",
    "yield_df3 = describe_filtered_sales.query('index in [\"ps3\", \"ps4\"]')[['count', 'mean', '75%']]\n",
    "yield_df3.rename(columns={'count':'years','75%':'Q3'}, inplace=True)\n",
    "yield_df3['75%_cases'] = yield_df3['years'] * 0.75\n",
    "yield_df3['sum'] = yield_df3['years'] * yield_df3['mean']\n",
    "yield_df3"
   ]
  },
  {
   "cell_type": "markdown",
   "metadata": {},
   "source": [
    "Al observar los valores de media y q3 se observa que la plataforma __ps4 tuvo notablemente un mayor rendimiento en ventas anuales__ en el 75% de los (3 periodos anuales) lo que compensó el menor volumen por años respecto a ps3."
   ]
  },
  {
   "cell_type": "markdown",
   "metadata": {},
   "source": [
    "Cabe recordar que esta comparativa se da en solo el 75% de los casos, el 25% restante __puede variar__ por volumen de ventas."
   ]
  },
  {
   "cell_type": "markdown",
   "metadata": {},
   "source": [
    "### Relación ventas vs reseñas"
   ]
  },
  {
   "cell_type": "code",
   "execution_count": null,
   "metadata": {},
   "outputs": [],
   "source": [
    "# Filtrar el dataframe con todos sus atributos hasta el año 2016\n",
    "top_platforms_df = top_platforms_df[top_platforms_df['year_of_release']<2017]"
   ]
  },
  {
   "cell_type": "markdown",
   "metadata": {},
   "source": [
    "Se filtra nuevamente ya que el anterior df filtrado filtered_sales_df solo contenía el atributo de plataforma, año y ventas totales; y se necesitan las reseñas de usuarios y expertos"
   ]
  },
  {
   "cell_type": "code",
   "execution_count": null,
   "metadata": {},
   "outputs": [],
   "source": [
    "# Definir una función para graficar scatterplot de ventas vs reseñas y mostrar sus coef. correlación\n",
    "def plot_scatter(data, series, label, color):\n",
    "    '''La función grafica scatterplot de ventas vs un Series y muestra las correlaciones\n",
    "    por plataforma\n",
    "    \n",
    "    Args:  DataFrame 'data'\n",
    "           Nombre de columna 'series' para relacionar con 'total_sales'\n",
    "           etiqueta 'label' para el eje x\n",
    "    \n",
    "    Salidas:    gráfico scatter\n",
    "    \n",
    "                Retorna : \n",
    "                DataFrame con valores de correlación por plataforma\n",
    "    \n",
    "    '''\n",
    "    # Elimina filas con valores NaN en la serie especificada\n",
    "    tp_clean = data.dropna(subset=[series])\n",
    "\n",
    "    # Gráfico de dispersión\n",
    "    fig = px.scatter(tp_clean, x=series, y='total_sales',\n",
    "                     color=color, opacity=0.5,\n",
    "                     labels={'total_sales': 'Ventas totales (Millones de USD)', \n",
    "                             series: label},\n",
    "                     title=f'Relación entre Ventas y {label} por Plataforma',\n",
    "                     hover_data=[color, series])\n",
    "\n",
    "    # Añadir un contorno blanco a los marcadores\n",
    "    fig.update_traces(marker=dict(line=dict(color='black', width=0.25)))\n",
    "\n",
    "    # Calcular la correlación por plataforma solo entre ventas y el series, el resto se omite\n",
    "    correlation_by_platform = data.groupby(color)[[series, 'total_sales']].corr().iloc[0::2, 1]\n",
    "\n",
    "    # Personalizar el hovertemplate con el valor de 'platform' en negrita\n",
    "    fig.update_traces(hovertemplate=f'<b>%{{customdata[0]}}</b><br>' +\n",
    "                                    f'<b>Ventas:</b> %{{y:.2f}} M USD<br>' +\n",
    "                                    f'<b>Puntaje:</b> %{{x}}<extra></extra>')\n",
    "    # Muestra el gráfico\n",
    "    fig.show()\n",
    "\n",
    "    # transformar a df para mejorar la presentación de los valores de correlación\n",
    "    correlation_by_platform = correlation_by_platform.reset_index(name='corr')\n",
    "\n",
    "    # Crear una tabla pivote para organizar mejor las correlaciones por plataforma\n",
    "    pivot_corr = correlation_by_platform.pivot_table(index=color, values='corr').round(4).T\n",
    "    \n",
    "    return pivot_corr #Entrega la tabla pivote de correlaciones"
   ]
  },
  {
   "cell_type": "code",
   "execution_count": null,
   "metadata": {
    "scrolled": false
   },
   "outputs": [],
   "source": [
    "# Llamar a la función para graficar scatters de Ventas vs 'critic_score' y 'user_score'\n",
    "corr_critic = plot_scatter(top_platforms_df, 'critic_score', 'Valoración de Expertos', 'platform')\n",
    "corr_user = plot_scatter(top_platforms_df, 'user_score', 'Valoración de Usuarios', 'platform')\n",
    "\n",
    "# Concatenar las correlaciones en un DataFrame horizontal\n",
    "corr_df = pd.concat([corr_critic, corr_user], axis=0)\n",
    "corr_df.index = ['c_score', 'u_score']\n",
    "corr_df #Mostrar tabla de correlaciones"
   ]
  },
  {
   "cell_type": "markdown",
   "metadata": {},
   "source": [
    "__Observaciones__\n",
    "\n",
    "- Se puede notar a simple vista de las gráficas que las reseñas de expertos parecen en su mayoría influir más en las ventas generadas que las valoraciones por usuarios. Esto quiere decir que la valoración de los expertos influye más en la intención de compra de juegos que la de la valoración de los usuarios. \n",
    "\n",
    "- La grafica de dispersión de ventas vs valoración de usuarios no muestra una relación completamente proporcional. Esto confirma que las reseñas de expertos son una mejor referencia general en la compra de juegos ya que se supone que evalúan los títulos en base criterios determinados.\n",
    "\n",
    "- No obstante, al obtener la tabla de coeficientes de correlación se observa que en ambos casos en la mayoría de plataformas no se supera el valor 0.42. De hecho se observa que hay correlaciones de magnitud muy pequeña o negativa en 9 casos lo cuál revela que en términos generles, los valores de correlación no indican que una mayor valoracion determine en gran medida el éxito en ventas de los juegos en cada plataforma. Particularmente el coeficiente de 0.42 en xone indica que existe una correlación débil entre las ventas y la valoración de expertos.\n",
    "\n",
    "- En los casos puntuales de ds y psp se observa que el coeficiente de correlacion entre ventas y valoración de expertos es NaN. Esto se debe al localizar los datos en la gráfica interactiva, solo existe una única valoración de experto en cada plataforma, por lo que no es posible calcular el coeficiente de correlación a falta de sucesión de datos.\n",
    "\n",
    "- Sin embargo, el único caso excepcional es la valoración de usuarios en los juegos de la plataforma DS cuyo coeficiente de 0.88 indica una fuerte correlación. Es decir que el incremento de ventas está muy relacionado con mayores valoraciones de usuarios. Y por otra parte en la plataforma psp sucede totalmente lo contrario, es decir una proporción inversa entre las ventas y valoraciones de usuario, lo que indicaría que una peor valoración aumentaría las ventas. \n",
    "\n",
    "    Estos resultados despiertan curiosidad y es que si se observa el scatterplot de ventas vs valoración de usuario, puede notarse que no hay más de 4 observaciones en cada caso, por lo que el coeficiente de correlación en este caso no es muy fiable en ambos casos a falta de datos. Pero esto se debe a que justamente en el periodo de análisis desde 2012 la ds ya estaba culminando su vida comercial y psp a pesar de durar un poco más, sus ventas cayeron por mucho y los títulos lanzados fueron muy pocos lo que dificulta el cálculo de correlación. __Por lo tanto se excluye a estas plataformas de las generalizaciones determinadas en la relación de ventas vs valoración.__\n",
    "\n",
    "- Por otra parte se puede definir analizar los scatterplot para reseñas a partir del 75%. Por lo que haciendo un zoom selectivo en ambos gráficos interactivos se puede visualizar mejor las tendencias y resulta que en el caso de las valoraciones de usuarios no se observa aumento proporcional en las ventas a mayor calificación confirmando lo que indica el coeficiente de correlación. Adicional ninguna valoración de usuario alcanza el 95% por lo que esto es un indicativo los usuarios no consideraron que los juegos lanzados sean subjetivamente perfectos o sobresalientes. \n",
    "\n",
    "    En el caso de las valoraciones por expertos, sí se observa un aumento proporcional en ventas a mayor calificación, no muy notoria tal como se mostraba en el coeficiente de correlación calculado. Sin embargo, sí existen reseñas que superan el 95% de calidad, muy pocas pero en las que se aprecia más el aumento proporcional de ventas. Esto sugiere que el aumento de ventas es lenta y exponencialmente proporcional debido a las reseñas de expertos, lo que a su vez es un indicador de que a mayor excelencia del juego mayores serán sus ventas. Este dato permite a las desarrolladoras qué tipos de juegos desarrollar para maximizar sus ganancias. \n",
    "    \n",
    "    A su vez la tienda Online Ice, con esta información puede identificar que títulos o franquicias venden más y en que plataformas para poder planificar mejor su stock para la venta del año 2017 y así maximizar sus ganancias.\n",
    "    \n",
    "\n",
    "- En resumen, fueron pocas las plataformas en las que las resañas apenas influyeron en las ventas totales de juegos. Esto lleva a pensar que otra variable sería la que sí influya en las ventas, por ejemplo las campañas de publicidad."
   ]
  },
  {
   "cell_type": "markdown",
   "metadata": {},
   "source": [
    "### Distribución de Ventas por plataforma"
   ]
  },
  {
   "cell_type": "markdown",
   "metadata": {},
   "source": [
    "Es preciso comparar las ventas de los mismos juegos que se lanzaron en varias plataformas. Para esto será necesario visualizar una pivot table cuyos índices sean los nombres de los juegos y las columnas las varias plataformas en que se lanzaron. \n",
    "\n",
    "En vista de que no existen duplicados completos ni duplicados por nombre y consola, entonces los duplicados por nombre restantes corresponden a los lanzamientos multiplataforma."
   ]
  },
  {
   "cell_type": "code",
   "execution_count": null,
   "metadata": {},
   "outputs": [],
   "source": [
    "# Ordenar juegos multiplataforma por nombre alfabéticamente\n",
    "multiplatform_games = top_platforms_df[top_platforms_df.duplicated(subset='name', keep=False)]\n",
    "multiplatform_games = multiplatform_games.sort_values('name')"
   ]
  },
  {
   "cell_type": "code",
   "execution_count": null,
   "metadata": {
    "scrolled": false
   },
   "outputs": [],
   "source": [
    "# Establecer la configuración para mostrar solo 2 decimales en la pivot table\n",
    "pd.set_option('display.precision', 2)\n",
    "\n",
    "# Crear la tabla pivote\n",
    "pivot_table = pd.pivot_table(multiplatform_games, values='total_sales', index='name', \n",
    "                             columns='platform', aggfunc='sum')\n",
    "\n",
    "# Sumar las ventas por fila (agregar una nueva columna 'Total')\n",
    "pivot_table['tot_sale'] = pivot_table.sum(axis=1)\n",
    "\n",
    "# Ordenar el DataFrame por la columna 'Total' de manera descendente\n",
    "sorted_pivot_table = pivot_table.sort_values(by='tot_sale', ascending=False)\n",
    "\n",
    "# Seleccionar las primeras 20 filas\n",
    "top_20_games_pivot = sorted_pivot_table.head(20)\n",
    "\n",
    "top_20_games_pivot.rename_axis(index={'year_of_release': 'rls_year'}, inplace=True)\n",
    "\n",
    "# Se aplica e resaltado a la tabla pivote\n",
    "subset = pd.IndexSlice[:, 'tot_sale'] # definir columnas a resaltar\n",
    "top_20_games_pivot.style.applymap(highlight_series, subset=subset)\n"
   ]
  },
  {
   "cell_type": "markdown",
   "metadata": {},
   "source": [
    "Los valores nan observados indican que el videojuego no se lanzó en determinada plataforma. Nótese además que no aparecen ventas en la plataforma ds debido a que sus juegos en cuestión no entraron al rango de los 20 más vendidos, por la lista de platafromas se reduce de 9 a 8. Resulta conveniente visualizar un heatmap para visualizar mejor la comparación."
   ]
  },
  {
   "cell_type": "code",
   "execution_count": null,
   "metadata": {},
   "outputs": [],
   "source": [
    "# Crear una paleta de colores personalizada\n",
    "custom_palette = sns.color_palette([\"#eee1f7\", \"#bc8ade\", \"#9859c2\", \"#510185\"]) # Escalaa de púrpuras\n",
    "\n",
    "# Crear el heatmap con Seaborn\n",
    "plt.figure(figsize=(12, 12))\n",
    "\n",
    "# Establecer el color de fondo de la figura\n",
    "plt.rcParams['axes.facecolor'] = '#f0f0f0'  # (gris claro)\n",
    "\n",
    "# Crear el heatmap con tamaño de fuente personalizado y la paleta personalizada\n",
    "heatmap = sns.heatmap(top_20_games_pivot, annot=True, fmt='.2f', cmap=custom_palette, linewidths=.5,\n",
    "                      annot_kws={'size': 10},  # Ajustar el tamaño de la fuente\n",
    "                      cbar_kws={'label': '\\nVentas (Millones de USD)', \n",
    "                                'ticks': [0.1, 19, 37.5, 56.5]})\n",
    "\n",
    "# Cambiar el tamaño de la fuente de la etiqueta de la barra de colores\n",
    "cbar = heatmap.collections[0].colorbar\n",
    "cbar.ax.set_ylabel(cbar.ax.get_ylabel(), fontsize=12)\n",
    "\n",
    "# Configuraciones adicionales si lo deseas\n",
    "plt.title('TOP 20 Juegos Multiplataforma más vendidos (2001-2016)\\n', fontsize=16)\n",
    "plt.xlabel('\\nPlataforma', fontsize=13)\n",
    "plt.ylabel('Videojuego\\n', fontsize=13)\n",
    "\n",
    "# Mostrar el heatmap\n",
    "plt.show()"
   ]
  },
  {
   "cell_type": "markdown",
   "metadata": {},
   "source": [
    "Se observa que en general los 20 juegos generaron ventas superiores a los 9 millones de USD, lanzados en al menos 3 plataformas de los cuales son 10 juegos los que superan las ventas de 15 millones de USD y particularmente uno de ellos, el __'Grand Theft Auto V'__ lanzado en las plataformas (PC, PS3, PS4, X360, XONE) que en conjunto logró vender __56.58 Millones de dólares estadounidenses__ y el __Call of Duty: Black Ops 2 con 28.99 millones de USD__ en ventas multiplataforma.\n",
    "\n",
    "Otra peculiaridad es que dicho juego fue el más exitoso en PS3 y X360 con 21.05 y 16.27 millones de USD en ventas respectivamente. El segundo juego más exitoso por plataforma fue el __Call of Duty: Black Ops 3 en PS4 con 14.63 millones de USD en ventas.__\n",
    "    \n",
    "\n",
    "Por consiguiente, se procede a visualizar una comparativa específica por platafoma de los 10 títulos con más ventas."
   ]
  },
  {
   "cell_type": "code",
   "execution_count": null,
   "metadata": {},
   "outputs": [],
   "source": [
    "# Definir función para graficar diagrama de barras interactivo de alta personalización\n",
    "\n",
    "def interactive_barplot(data, x, y, title, legend_title, color, x_title):\n",
    "    \"\"\"\n",
    "    Crea un gráfico de barras interactivo con Plotly Express.\n",
    "\n",
    "    Parámetros:\n",
    "    - data: DataFrame que contiene los datos.\n",
    "    - x: Nombre de la columna para el eje x.\n",
    "    - y: Nombre de la columna para el eje y.\n",
    "    - legend_title: Título de la leyenda.\n",
    "    - x_title: Título del eje x.\n",
    "\n",
    "    \"\"\"\n",
    "    \n",
    "    # Obtener las ventas totales en cada barra de x como dataframe    \n",
    "    bar_sum = data.groupby(x)[y].sum().to_frame() \n",
    "    bar_sum.columns = ['sum_sales'] # Renombrar la columna\n",
    "    data = data.merge(bar_sum, how='left', on=x) # Fusionar los dataframe   \n",
    "        \n",
    "    # Se genera la gráfica interactiva\n",
    "    fig = px.bar(data, x=x, y=y, color=color, barmode='overlay', opacity=0.4,\n",
    "                 hover_data=['name', 'platform', 'total_sales', 'year_of_release', 'sum_sales'])\n",
    "\n",
    "    # Personalizar el diseño del gráfico\n",
    "    fig.update_layout(\n",
    "        title=title,\n",
    "        xaxis_title=x_title,\n",
    "        yaxis_title=f'Total de Ventas (Millones de USD)',\n",
    "        showlegend=True,\n",
    "        legend_title_text=legend_title,\n",
    "        width=770, height=600,\n",
    "\n",
    "        # Se agrega un botón interactivo\n",
    "        updatemenus=[\n",
    "            {\n",
    "                'buttons': [\n",
    "                    {\n",
    "                        'method': 'relayout',\n",
    "                        'label': 'Overlay',\n",
    "                        'args': [{'barmode': 'overlay'}]\n",
    "                    },\n",
    "                    {\n",
    "                        'method': 'relayout',\n",
    "                        'label': 'Stack',\n",
    "                        'args': [{'barmode': 'stack'}]\n",
    "                    },\n",
    "                ],\n",
    "                'direction': 'down',\n",
    "                'pad': {'r': 10, 't': 87},\n",
    "                'showactive': True, \n",
    "                'x': 1.05,\n",
    "                'xanchor': 'left',\n",
    "                'y': 0.25,\n",
    "                'yanchor': 'top'\n",
    "            }\n",
    "        ]\n",
    "    )\n",
    "\n",
    "    # Personalizar el hovertemplate mostrando cada componente de hover_data\n",
    "    hover_template = (\n",
    "        f'<b>{x_title}</b>: %{{x}}  ' + ' ➜   <b>sales</b>: %{customdata[2]:.2f}<br>'\n",
    "        '%{customdata[0]}  ' + ' ➜  <b>sales</b>: %{y}<br>'\n",
    "        '%{customdata[1]}<br><extra></extra>'\n",
    "        \n",
    "    )\n",
    "    \n",
    "    fig.update_traces(hovertemplate=hover_template)\n",
    "        \n",
    "    # Mostrar el gráfico interactivo\n",
    "    fig.show()"
   ]
  },
  {
   "cell_type": "code",
   "execution_count": null,
   "metadata": {
    "scrolled": false
   },
   "outputs": [],
   "source": [
    "# Se obtiene la lista de los 20 títulos con más ventas\n",
    "top_20_games_list = top_20_games_pivot.head(20).index\n",
    "\n",
    "mpg_20_df = multiplatform_games #Reasignar variable para clarificar su uso. 'top multiplatform games'\n",
    "mpg_20_df = mpg_20_df.sort_values('total_sales', ascending=False)\n",
    "mpg_20_df = mpg_20_df[mpg_20_df['name'].isin(top_20_games_list)]\n",
    "    \n",
    "# Llamada a la función con los argumentos\n",
    "title_1 = 'Éxito de Plataformas por Videojuego'\n",
    "title_2 = 'Éxito de Videojuegos por Plataforma'\n",
    "\n",
    "interactive_barplot(mpg_20_df, 'platform', 'total_sales', title_1, 'Game', 'name', 'Platform')\n",
    "interactive_barplot(mpg_20_df, 'name', 'total_sales', title_2, 'Platform', 'platform', 'Game')\n"
   ]
  },
  {
   "cell_type": "code",
   "execution_count": null,
   "metadata": {},
   "outputs": [],
   "source": [
    "#Calcular conteos de juegos y platformas\n",
    "print(mpg_20_df.groupby('platform')['name'].count().sort_values(ascending=False).to_frame().T,'\\n')\n",
    "print(mpg_20_df.groupby('name')['platform'].count().sort_values(ascending=False).to_frame())"
   ]
  },
  {
   "cell_type": "markdown",
   "metadata": {},
   "source": [
    "__Observaciones:__\n",
    "\n",
    "Entre los 10 videojuegos más vendidos el primer lugar lo tuvo el Grand Theft Auto V con 56.58 millones de USD en ventas, presente en 5 plataformas, seguido del Call of Duty: Black ops ii con 28.99 M-USD disponible en 3 plataformas y en mayor medida también los juegos call of duty: ghosts y call of duty: black ops 3 con 27.04 M-USD y 25.67 M-USD respectivamente.\n",
    "\n",
    "Las 3 plataformas más exitosas fueron la ps3, x360 y ps4 con 102.62,  86.27 y 106.16 millones de USD respectivamente. La xone tuvo ventas intermedias de 50.78 millones de USD, pc con 15.81 M-USD y el resto de plataformas vendieron menos de 1.7 millones de USD\n",
    "\n",
    "Las plataformas con más ventas y variedad de juegos fueron ps3,pc, ps4, x360 y xone teniendo un repertorio de 16 a 18 juegos, siendo ps3 la que tuvo disponibles todos los juegos.\n",
    "\n",
    "Los juegos con mayor disponibilidad fueron fifa 14 en 8 plataforma, fifa 15 en 7 y fifa soccer 13 en 6 de ellas. Por lo que se devela que la franquicia fifa está disponible en casi todas las plataformas."
   ]
  },
  {
   "cell_type": "markdown",
   "metadata": {},
   "source": [
    "### Distribución de los juegos por género"
   ]
  },
  {
   "cell_type": "markdown",
   "metadata": {},
   "source": [
    "Ahora se procederá a determinar los géneros a los que pertenecen los 20 títulos con más ventas."
   ]
  },
  {
   "cell_type": "code",
   "execution_count": null,
   "metadata": {
    "scrolled": false
   },
   "outputs": [],
   "source": [
    "# Obtener los 12 juegos más vendidos y el género al que pertenecen.\n",
    "top_platforms_df[top_platforms_df['name'].isin(top_20_games_list)].groupby('name')['genre'].unique()"
   ]
  },
  {
   "cell_type": "markdown",
   "metadata": {},
   "source": [
    "Aquí se observa un detalle, que el juego __fifa soccer 13 fue catalogado como género acción, lo cuál no es cierto__ ya que por lógica es un juego de deportes. Por lo que habrá que __corregir el Series anterior para poder trazar apropiadamente un gráfico de barras.__"
   ]
  },
  {
   "cell_type": "markdown",
   "metadata": {},
   "source": [
    "En base a lo anterior, los 20 juegos más vendidos entre 2001-2016 se encuentran:\n",
    "\n",
    "- 7 juegos de shooter (dísparos) de la franquicia Call of Duty. \n",
    "- 5 juegos de deporte de la serie FIFA.\n",
    "- 5 juegos de acción de diferentes franquicias.\n",
    "- 1 juego misceláneo llamado minecraft. \n",
    "- 2 juegos de rol distintos"
   ]
  },
  {
   "cell_type": "code",
   "execution_count": null,
   "metadata": {},
   "outputs": [],
   "source": [
    "# Reemplazar el género 'action' por 'sports' para el juego 'fifa soccer 13'\n",
    "top_platforms_df.loc[top_platforms_df['name'] == 'fifa soccer 13', 'genre'] = 'sports'"
   ]
  },
  {
   "cell_type": "code",
   "execution_count": null,
   "metadata": {},
   "outputs": [],
   "source": [
    "# Mostrar cambios\n",
    "top_platforms_df[top_platforms_df['name'].isin(top_20_games_list)].groupby('name')['genre'].unique()"
   ]
  },
  {
   "cell_type": "markdown",
   "metadata": {},
   "source": [
    "Género del juego fifa soccer 13 corregido."
   ]
  },
  {
   "cell_type": "markdown",
   "metadata": {},
   "source": [
    "Para proceder con el análisis de cómo los géneros de los videojuegos influyen en el éxito de ventas se buscará responder las siguientes preguntas:\n",
    "\n",
    "- ¿Qué género es el más rentable?\n",
    "- ¿Cómo se distribuyen las ventas por género?\n",
    "- ¿Qué generos tienen las mejores reseñas de usuarios y expertos\n",
    "- ¿Cómo influyen las reseñas en las ventas de cada género?\n",
    "- ¿Cómo se han sostenido los géneros en el tiempo?\n"
   ]
  },
  {
   "cell_type": "markdown",
   "metadata": {},
   "source": [
    "#### Rentabilidad de Géneros de videojuegos"
   ]
  },
  {
   "cell_type": "code",
   "execution_count": null,
   "metadata": {},
   "outputs": [],
   "source": [
    "# Obtener todos los atributos de los 20 juegos más vendidos en una variable para barplot\n",
    "top_20g_df = top_platforms_df[top_platforms_df['name'].isin(top_20_games_list)]"
   ]
  },
  {
   "cell_type": "code",
   "execution_count": null,
   "metadata": {},
   "outputs": [],
   "source": [
    "# Definir función para trazar barplot con seaborn\n",
    "def plot_bar_chart(data, xvalue, yvalue, title, xlabel, ylabel):\n",
    "    \"\"\"\n",
    "    Crea un gráfico de barras con anotaciones con seaborn.\n",
    "\n",
    "    Parámetros:\n",
    "    - data: DataFrame que contiene los datos.\n",
    "    - xvalue: Nombre de la columna para el eje x.\n",
    "    - yvalue: Nombre de la columna para el eje y.\n",
    "    - title: Título del gráfico.\n",
    "    - xlabel: Etiqueta del eje x.\n",
    "    - ylabel: Etiqueta del eje y.\n",
    "    \"\"\"\n",
    "    plt.figure(figsize=(12, 6)) # Ajusta el tamaño del gráfico según tus preferencias\n",
    "    \n",
    "    # Dibujar el barplot\n",
    "    plot = sns.barplot(x=xvalue, y=yvalue, data=data, palette=\"viridis\")\n",
    "\n",
    "    # Añadir anotaciones\n",
    "    for index, value in enumerate(data[yvalue]):\n",
    "        if np.isfinite(index) and np.isfinite(value): #Ignorar valores NaN\n",
    "            plot.text(index, value, f'{value:.2f}', ha='center', va='bottom')\n",
    "\n",
    "    # Personalizar el tamaño de las xticks\n",
    "    plt.xticks(fontsize=12)\n",
    "\n",
    "    # Ajustar el título y las etiquetas de los ejes\n",
    "    plt.title(title, fontsize=15)\n",
    "    plt.xlabel('\\n' + xlabel, fontsize=14)\n",
    "    plt.ylabel(ylabel, fontsize=14)\n",
    "\n",
    "    # Mostrar el gráfico\n",
    "    plt.show()"
   ]
  },
  {
   "cell_type": "code",
   "execution_count": null,
   "metadata": {
    "scrolled": false
   },
   "outputs": [],
   "source": [
    "# Obtener ventas totales por género en un DF\n",
    "top_genre_sales = top_20g_df.groupby('genre')['total_sales'].sum().reset_index()\n",
    "\n",
    "# Ordenar de forma descendente las ventas por género\n",
    "top_genre_sales = top_genre_sales.sort_values('total_sales', ascending=False) # Corrección realizada\n",
    "\n",
    "# Trazar barplot de ventas totales vs género de videojuego\n",
    "plot_bar_chart(\n",
    "    data=top_genre_sales,\n",
    "    xvalue='genre',\n",
    "    yvalue='total_sales',\n",
    "    title='Rentabilidad de Géneros de Videojuegos - (2012-2016)',\n",
    "    xlabel='Género',\n",
    "    ylabel='Ventas totales (Millones de USD)'\n",
    ")"
   ]
  },
  {
   "cell_type": "markdown",
   "metadata": {},
   "source": [
    "De estos géneros obtenidos, se observa que el shooter vendió la suma de 142.34 millones de USD, en segundo lugar el género de acción con 101.64 millones de USD y en tercer lugar el género de deportes con 75.65 millones de USD. Los géneros misc y role-playing etuvieron bastante parejos alrededor de los 22 millones de USD. Estos 5 géneros representan a los 20 juegos más vendidos en el periodo 2001-2016."
   ]
  },
  {
   "cell_type": "markdown",
   "metadata": {},
   "source": [
    "#### Distribución de ventas por género"
   ]
  },
  {
   "cell_type": "code",
   "execution_count": null,
   "metadata": {},
   "outputs": [],
   "source": [
    "# Crear histograma inicial\n",
    "fig = px.histogram(top_20g_df, x='total_sales', color='genre', marginal='rug',\n",
    "                   nbins=10, opacity=0.5, barmode='overlay')\n",
    "\n",
    "# Personalizar el diseño del gráfico\n",
    "fig.update_layout(\n",
    "    title='Distribución de Ventas Totales por Género',\n",
    "    xaxis_title='Ventas Totales (Millones de USD)',\n",
    "    yaxis_title='No. de Entregas por género',\n",
    "    showlegend=True,\n",
    "    legend_title_text='Género',\n",
    "    width=770, height=600\n",
    ")\n",
    "\n",
    "# Ajustar el margen entre bines\n",
    "fig.update_layout(bargap=0.01)  # Puedes ajustar el valor según tus preferencias\n",
    "\n",
    "\n",
    "# Agregar botones para cambiar entre overlay y stacked y activar la escala logarítmica en el eje y\n",
    "fig.update_layout(\n",
    "    updatemenus=[\n",
    "        {\n",
    "            'buttons': [\n",
    "                {\n",
    "                    'method': 'relayout',\n",
    "                    'label': 'Overlay',\n",
    "                    'args': [{'barmode': 'overlay'}]\n",
    "                },\n",
    "                {\n",
    "                    'method': 'relayout',\n",
    "                    'label': 'Stack',\n",
    "                    'args': [{'barmode': 'stack'}]\n",
    "                },\n",
    "            ],\n",
    "            'direction': 'down',\n",
    "            'pad': {'r': 10, 't': 87},\n",
    "            'showactive': True,\n",
    "            'x': 1.04,\n",
    "            'xanchor': 'left',\n",
    "            'y': 0.9,\n",
    "            'yanchor': 'top'\n",
    "        }\n",
    "    ]\n",
    ")\n",
    "\n",
    "# Mostrar el gráfico interactivo\n",
    "fig.show()"
   ]
  },
  {
   "cell_type": "markdown",
   "metadata": {},
   "source": [
    "Observando el histograma de cada género se puede apreciar que tienen un sesgo positivo, de modo que la mayoría de juegos vendidos recaudaron poco menos de 5 millones de USD. En este caso los de mejor consistencia en ventas fueron 'acción' y 'shooter'. Ello se puede confirmar con el gráfico de alfombras en la parte superior donde se nota que los datos tienen una dispersión más o menos regular.\n",
    "\n",
    "Particularmente en el género shooter, se lanzaron 20 títulos que recaudaron hasta 4.9 millones de USD en ventas. Por su parte el género de acción tuvo 13 títulos vendiendo montos similares.\n",
    "\n",
    "Para más detalle se procede a trazar el correspondiente boxplot:"
   ]
  },
  {
   "cell_type": "code",
   "execution_count": null,
   "metadata": {},
   "outputs": [],
   "source": [
    "# Crear figura\n",
    "fig = go.Figure()\n",
    "\n",
    "# Añadir una caja para cada género\n",
    "for genre in top_20g_df['genre'].unique():\n",
    "    genre_data = top_20g_df[top_20g_df['genre'] == genre]\n",
    "    fig.add_trace(go.Box(\n",
    "        y=genre_data['total_sales'],\n",
    "        name=genre,\n",
    "        boxpoints='outliers',\n",
    "        jitter=0.2,\n",
    "        boxmean=True,\n",
    "        hovertemplate=\"<b>Género:</b> %{text}<br><b>Ventas:</b> $ %{y:.2f} M<extra></extra>\",\n",
    "        text=genre_data['genre']\n",
    "    ))\n",
    "\n",
    "# Personalizar el diseño del gráfico\n",
    "fig.update_layout(\n",
    "    title='Diagrama de Caja de Ventas Totales por Género',\n",
    "    xaxis=dict(title='Género'),\n",
    "    yaxis=dict(title='Ventas Totales (Millones de USD)'),\n",
    "    showlegend=True,\n",
    "    legend=dict(title='Género'),\n",
    "    width=770, height=600,\n",
    ")\n",
    "\n",
    "# Agregar menú desplegable para modificar boxpoints\n",
    "fig.update_layout(\n",
    "    updatemenus=[\n",
    "        dict(\n",
    "            type=\"dropdown\",\n",
    "            x=1.17,\n",
    "            y=0.27,\n",
    "            buttons=[\n",
    "                dict(label=\"Outliers\",\n",
    "                     method=\"restyle\",\n",
    "                     args=[{\"boxpoints\": \"outliers\"}]),\n",
    "                dict(label=\"Todos\",\n",
    "                     method=\"restyle\",\n",
    "                     args=[{\"boxpoints\": \"all\"}]),\n",
    "            ],\n",
    "        )\n",
    "    ]\n",
    ")\n",
    "\n",
    "fig.show()\n"
   ]
  },
  {
   "cell_type": "markdown",
   "metadata": {},
   "source": [
    "Puede apreciarse que el género shooter llegó a vender hasta 14.63 millones de USD con un solo título, y a pesar que el género acción tuvo dos ventas superiores a 16 millones de USD y una media superior de 5.08 millones de USD, el género shooter lo supera en el tercer cuartil que alcanza los 7.39 millones de USD y por volumen con 30 títulos vendidos.\n",
    "\n",
    "Por su parte el género misc tuvo ventas promedio superiores al resto de géneros pero tampoco vendió títulos tan caros como algunos shooter, además de tener un volumen bajo de 4 títulos vendidos."
   ]
  },
  {
   "cell_type": "markdown",
   "metadata": {},
   "source": [
    "#### Reseñas de juegos por género"
   ]
  },
  {
   "cell_type": "code",
   "execution_count": null,
   "metadata": {},
   "outputs": [],
   "source": [
    "# Obtener estadísticas descriptivas las reseñas de usuarios por género\n",
    "genre_uscore_stats = top_20g_df.groupby('genre')['user_score'].describe()\n",
    "\n",
    "#Ordenar de forma descendente las reseñas promedio\n",
    "genre_uscore_stats = genre_uscore_stats.sort_values('mean', ascending=False) # Corrección realizada\n",
    "\n",
    "# Se aplica e resaltado a la tabla pivote\n",
    "subset = pd.IndexSlice[:, 'mean'] # definir columnas a resaltar\n",
    "genre_uscore_stats.style.applymap(highlight_series, subset=subset)"
   ]
  },
  {
   "cell_type": "code",
   "execution_count": null,
   "metadata": {},
   "outputs": [],
   "source": [
    "# Obtener estadísticas descriptivas las reseñas de expertos por género\n",
    "genre_cscore_stats = top_20g_df.groupby('genre')['critic_score'].describe()\n",
    "\n",
    "#Ordenar de forma descendente las reseñas promedio\n",
    "genre_cscore_stats = genre_cscore_stats.sort_values('mean', ascending=False) # Corrección realizada\n",
    "\n",
    "# Se aplica e resaltado a la tabla pivote\n",
    "subset = pd.IndexSlice[:, 'mean'] # definir columnas a resaltar\n",
    "genre_cscore_stats.style.applymap(highlight_series, subset=subset)"
   ]
  },
  {
   "cell_type": "markdown",
   "metadata": {},
   "source": [
    "En ambos casos se observa una dispersión moderada de las valoraciones de usuario y experto, por lo que se tomará de referencia la media como medida para la comparación de valoraciones. Nótese que en este caso el género 'misc'no fue obtuvo ninguna reseña de usuario ni experto para el periodo considerado y los 20 juegos más vendidos."
   ]
  },
  {
   "cell_type": "code",
   "execution_count": null,
   "metadata": {
    "scrolled": false
   },
   "outputs": [],
   "source": [
    "# Trazar barplot de reseñas de usuario vs género de videojuego\n",
    "plot_bar_chart(\n",
    "    data=genre_uscore_stats,\n",
    "    xvalue=genre_uscore_stats.index,\n",
    "    yvalue='mean',\n",
    "    title='Valoración de Usuarios en Géneros de Videojuegos - (2012-2016)',\n",
    "    xlabel='Género',\n",
    "    ylabel='Reseñas promedio /10'\n",
    ")\n",
    "\n",
    "# Trazar barplot de eseñas de expertos vs género de videojuego\n",
    "plot_bar_chart(\n",
    "    data=genre_cscore_stats,\n",
    "    xvalue=genre_cscore_stats.index,\n",
    "    yvalue='mean',\n",
    "    title='Valoración de Expertos en Géneros de Videojuegos - (2012-2016)',\n",
    "    xlabel='Género',\n",
    "    ylabel='Reseñas promedio /100'\n",
    ")"
   ]
  },
  {
   "cell_type": "markdown",
   "metadata": {},
   "source": [
    "En ambos casos se observa que los géneros mejor valorados por los usuarios y expertos en primer lugar son del género acción y luego el género de rol. Particularmente, los usuarios reseñaron mejor el género de shooter que deportes a diferencia de los expertos que reseñaron lo contrario.\n",
    "\n",
    "El género misceláneo no fue valorado por ninguno de los dos grupos para las consideraciones tomadas para la proyección de 2017."
   ]
  },
  {
   "cell_type": "markdown",
   "metadata": {},
   "source": [
    "#### Influencia de las Reseñas en las Ventas de cada género"
   ]
  },
  {
   "cell_type": "markdown",
   "metadata": {},
   "source": [
    "Se procede a analizar la correlación entre las ventas totales y las valoraciones de usuarios y expertos."
   ]
  },
  {
   "cell_type": "code",
   "execution_count": null,
   "metadata": {
    "scrolled": false
   },
   "outputs": [],
   "source": [
    "# Llamar a la función para graficar scatters de Ventas vs 'critic_score' y 'user_score'\n",
    "corr_user_genre = plot_scatter(top_20g_df, 'user_score', 'Valoración de Usuarios', 'genre')\n",
    "corr_critic_genre = plot_scatter(top_20g_df, 'critic_score', 'Valoración de Expertos', 'genre')\n",
    "\n",
    "# Concatenar las correlaciones en un DataFrame horizontal\n",
    "corr_df = pd.concat([corr_user_genre, corr_critic_genre], axis=0)\n",
    "corr_df.index = ['u_score', 'c_score']\n",
    "corr_df #Mostrar tabla de correlaciones"
   ]
  },
  {
   "cell_type": "markdown",
   "metadata": {},
   "source": [
    "- A simple vista se observa en las gráficas de dispersión que existe cierta proporcionalidad directa entre las ventas totales y las reseñas. Sin embargo la tabla de coeficientes de relación revela que el género que guarda correlación positiva con las ventas es el de acción y esto se justifica debido a que es el género más popular y el que mejores reseñas tuvo en ambos casos, además de tener un buen volumen de reseñas realizadas.\n",
    "\n",
    "\n",
    "- Por su parte, el género shooter aunque fue el segundo mejor valorado, la correlación entre sus reseñas y ventas en el caso de los usuarios fue inversamente proporcional y el caso de los expertos el coeficiente fue casi nulo. Esto tiene una explicación; mientras que el género de acción suele ser de un solo jugador y de una mecánica más simple que orienta a vencer un jefe final, el shooter ofrece la modalidad multijugador online que suele ser competitiva y la experiencia de juego depende en gran medida de varios factores: la habilidad del jugador, tiempo de reacción, la personalización, equipamiento, optimización de recursos del juego y la conexión de ancho de banda, tiempo de partida, a demás del ritmo acelerado del juego, por lo que las reseñas serán muy diversas. \n",
    "    \n",
    "    Es por eso que los expertos dan una reseña considerando también estos factores y otros aspectos técnicos adicionales y por ello sus valoraciones son más imparciales y en consecuencia se obtiene una correlación escasa.\n",
    "\n",
    "\n",
    "- El género deportes, se obtuvieron coeficientes de correlación de 0.43 y 0.28 en el caso de usuarios y expertos respectivamente, denotando cierta influencia directa sobre las ventas. Esto se debe a que la mecánica de juego es más simple: simular una partida de algún deporte, en este caso fútbol, por lo que las valoraciones son más sencillas de realizar. En consecuencia la correlación será más significativa. \n",
    "\n",
    "\n",
    "- Los juegos de rol por su parte tienen una mecánica de juego compleja en la cual suele haber fundamentalmente un desarrollo de historia, personalización y evolución de personaje, combinado con la resolución de acertijos, estrategia, batallas y en algunos casos acción recurrente. Esto le da mayor riqueza al juego, de modo que las valoraciones de usuarios y expertos si bien toman cierto trabajo y tiempo de realizar, suelen ser más claras y de ello deriva su puntaje. \n",
    "\n",
    "\n",
    "- Es por ello que el éxito del juego dependerá en gran medida de su calidad y eso se ve reflejado en el coeficiente de correlación de 0.59 por parte de los expertos. No obstante, en el caso de los usuarios el coeficiente de correlación parece anularse y resulta paradójico por el concepto de los juegos de rol previamente explicado, pero esto se debe a que se requiere del componente estrategia y paciencia del jugador, además que al observar el gráfico de dispersión de ventas vs valoración de usuarios, existe un solo juego que alcanzó ventas relativamente altas pero no fue muy bien valorado por los usuarios (quizás por la publicidad que generó expectativas altas pero la realidad fue otra).\n",
    "\n",
    "    El resto de juegos sí guarda proporcionalidad directa entre valoraciones y ventas generadas. De no ser por la paticularidad mencionada, el coeficiente de correlación habría sido mayor indicando proporcionalidad directa.\n",
    "    \n",
    "\n",
    "- Recordar que el género misc no tuvo reseñas en ningún grupo."
   ]
  },
  {
   "cell_type": "markdown",
   "metadata": {},
   "source": [
    "#### Evolución de Ventas anuales por Género"
   ]
  },
  {
   "cell_type": "code",
   "execution_count": null,
   "metadata": {},
   "outputs": [],
   "source": [
    "# Función para generar un gráfico de barras comparativo utilizando Plotly Graph Objects\n",
    "def go_barchart(data, xvalue, yvalue, title, xlabel, ylabel, legend_title, legend_names=None, \n",
    "                palette=px.colors.qualitative.Set1, figsize=(785,500), single=True, barmode='group'):\n",
    "    '''\n",
    "    Genera un gráfico de barras comparativo utilizando Plotly Graph Objects. Compatible son subplot.\n",
    "\n",
    "    Parámetros:\n",
    "    - data (DataFrame): El DataFrame que contiene los datos a visualizar.\n",
    "    - xvalue (str): Nombre de la columna que se utilizará en el eje x.\n",
    "    - yvalue (list): Lista de nombres de columnas que se utilizarán en el eje y.\n",
    "    - title (str): Título del gráfico.\n",
    "    - xlabel (str): Etiqueta del eje x.\n",
    "    - ylabel (str): Etiqueta del eje y.\n",
    "    - legend_title (str): Título de la leyenda.\n",
    "    - legend_names (list): Lista de nombres para asignar a cada serie en la leyenda.\n",
    "    - palette (list, opcional): Lista de colores para la paleta o secuencias predeterminadas de plotly\n",
    "    - figsize (tuple, opcional): tupla con las dimensiones del gráfico o tamaño predeterminado\n",
    "    - single (bool, opcional): Unificar cada pila en una sola barra con su valor agregado (suma)\n",
    "\n",
    "    Returna:\n",
    "    - go.Figure: El gráfico generado.\n",
    "\n",
    "    Ejemplo:\n",
    "    >>> go_barchart(data=df, xvalue='Plataforma', yvalue=['Ventas_NA', 'Ventas_EU', 'Ventas_JP'],\n",
    "    ...              title='Ventas por Región', xlabel='Plataforma', ylabel='Ventas',\n",
    "    ...              legend_title='Región', legend_names=['Norteamérica', 'Europa', 'Japón'],\n",
    "    ...              palette=['#1f77b4', '#ff7f0e', '#2ca02c'])\n",
    "    '''\n",
    "    \n",
    "    if single:\n",
    "        # Realizar la agregación utilizando la función sum()\n",
    "        data = data.groupby(xvalue)[yvalue].sum().reset_index()\n",
    "    else:\n",
    "        pass #No se realiza agregación y se muestran cada elemento apilado\n",
    "    \n",
    "    # Crear el gráfico de barras utilizando Plotly Graph Objects\n",
    "    fig = go.Figure()\n",
    "\n",
    "    # Agregar barras para cada serie en yvalue\n",
    "    for i, yelement in enumerate(yvalue):\n",
    "        trace = go.Bar(\n",
    "            x=data[xvalue], y=data[yelement], name=legend_names[i] if legend_names else yelement,\n",
    "            marker_color=palette[i % len(palette)])\n",
    "        fig.add_trace(trace)\n",
    "\n",
    "    # Personalización de etiquetas de ejes y diseño del gráfico\n",
    "    fig.update_layout(\n",
    "        title=title,                     # añadir título de la gráfica\n",
    "        xaxis_title=xlabel,              # Establecer titulo del eje y\n",
    "        yaxis_title=ylabel,              # Establecer titulo del eje x\n",
    "        legend_title_text=legend_title,  # Establecer titulo de leyenda\n",
    "        width=figsize[0],                # Establecer el ancho de la gráfica\n",
    "        height=figsize[1],               # Establecer el alto de la gráfica\n",
    "        barmode=barmode                  # Establecer modo de visualización de barras\n",
    "    )\n",
    "\n",
    "    # Mostrar el gráfico\n",
    "    return fig"
   ]
  },
  {
   "cell_type": "code",
   "execution_count": null,
   "metadata": {},
   "outputs": [],
   "source": [
    "# Definir función para trazar histograma en plotly express\n",
    "def px_histogram(data, xvalue, yvalue, title, xlabel, ylabel, legend_title, legend_names=None, \n",
    "                palette=px.colors.qualitative.Set1, figsize=(785,500)):\n",
    "    '''\n",
    "    Genera un gráfico de barras comparativo utilizando Plotly Express.\n",
    "    \n",
    "    Su ventaja es el uso de la operación sumativa para omitir la agrupación con función de agregación.\n",
    "    sum(). Compatibilidad con subplot limitada a gráficos con los mismos ejes.\n",
    "\n",
    "    Parámetros:\n",
    "    - data (DataFrame): El DataFrame que contiene los datos a visualizar.\n",
    "    - xvalue (str): Nombre de la columna que se utilizará en el eje x.\n",
    "    - yvalue (list): Lista de nombres de columnas que se utilizarán en el eje y.\n",
    "    - title (str): Título del gráfico.\n",
    "    - xlabel (str): Etiqueta del eje x.\n",
    "    - ylabel (str): Etiqueta del eje y.\n",
    "    - legend_title (str): Título de la leyenda.\n",
    "    - legend_names (list): Lista de nombres para asignar a cada serie en la leyenda.\n",
    "    - palette (list, opcional): Lista de colores para la paleta o secuencias predeterminadas de plotly\n",
    "\n",
    "    Returna:\n",
    "    - None: Muestra el gráfico generado.\n",
    "\n",
    "    Ejemplo:\n",
    "    >>> px_barchart(data=df, xvalue='Plataforma', yvalue=['Ventas_NA', 'Ventas_EU', 'Ventas_JP'],\n",
    "    ...              title='Ventas por Región', xlabel='Plataforma', ylabel='Ventas',\n",
    "    ...              legend_title='Región', legend_names=['Norteamérica', 'Europa', 'Japón'],\n",
    "    ...              palette=['#1f77b4', '#ff7f0e', '#2ca02c'])\n",
    "    '''\n",
    "    \n",
    "    # Crear el gráfico de barras utilizando la función sumativa de histograma\n",
    "    fig = px.histogram(data, x=xvalue, y=yvalue, title=title, color_discrete_sequence=palette)\n",
    "    \n",
    "    # Personalización de etiquetas de ejes\n",
    "    fig.update_layout(\n",
    "        xaxis_title=xlabel,               # Establecer titulo del eje y\n",
    "        yaxis_title=ylabel,               # Establecer titulo del eje x\n",
    "        legend_title_text=legend_title,   # Establecer titulo de leyenda\n",
    "        width=figsize[0],                 # Establecer el ancho de la gráfica\n",
    "        height=figsize[1]                 # Establecer el alto de la gráfica\n",
    "    )\n",
    "\n",
    "    # Asignar nombres de la lista a cada leyenda si se proporciona, caso contrario valores por defecto\n",
    "    if legend_names is not None:\n",
    "        for i, yelement in enumerate(yvalue):\n",
    "            fig.update_traces(name=legend_names[i], selector=dict(name=yelement))\n",
    "    else:\n",
    "        pass  # En caso de no personalizar los nombres de leyenda, devuelve los valores por defecto\n",
    "\n",
    "    # Mostrar el gráfico\n",
    "    fig.show()"
   ]
  },
  {
   "cell_type": "code",
   "execution_count": null,
   "metadata": {},
   "outputs": [],
   "source": [
    "# Definir parámetros para el trazado de Ventas vs Año por cada género\n",
    "values, index, columns = 'total_sales', 'year_of_release', 'genre'\n",
    "dataset = mpg_20_df.pivot_table(values=values, index=index, columns=columns, aggfunc='sum')\n",
    "palette = px.colors.qualitative.Bold\n",
    "\n",
    "# Trazar Gráfico de Barras plotlyexpress\n",
    "go_barchart(\n",
    "    data=dataset,\n",
    "    xvalue = 'year_of_release',\n",
    "    yvalue = ['action', 'misc', 'role-playing', 'shooter', 'sports'],\n",
    "    title = 'Evolución de Ventas por Género',\n",
    "    xlabel = 'Año',\n",
    "    ylabel = 'Total de Ventas (Millones de USD)',\n",
    "    legend_names=None,\n",
    "    legend_title = 'Género', palette=palette, barmode='stack'\n",
    ")"
   ]
  },
  {
   "cell_type": "markdown",
   "metadata": {},
   "source": [
    "Al observar la evolución de cada género en visualización apilada puede notarse que los géneros que tuvieron ventas anuales más consistentes fueron __shooter y deportes__. Esto es un indicador de ventas estables o regulares de estos géneros. Sin duda, este tipo de jeugos pueden conformar las __ventas o ingresos fijos para la tienda__, ya que son juegos recurrentes para toda clase de jugadores, desde casuales hasta competitivos.\n",
    "\n",
    "Los __juegos de acción__ tienen una menor consistencia pero con una temporada de ventas altas, por lo que __eventualmente incrementarán mucho los ingresos__ de la tienda.\n",
    "\n",
    "Los juegos de rol junto con los miscelaneos vendieron menos en proporción a los anteriores, pero su incremento de ventas fue paulatino, por lo que representan aquellos pequeños ingresos extra pero que ayudan a compensar el flujo de ventas hasta que los juegos de acción catapulten las ventas"
   ]
  },
  {
   "cell_type": "markdown",
   "metadata": {},
   "source": [
    "### Perfiles de usuario por región"
   ]
  },
  {
   "cell_type": "markdown",
   "metadata": {},
   "source": [
    "Se procede a visualizar gráficos de barras que describan la influencia de las plaraformas principales, géneros y clasificación ESRB en las ventas de cada región."
   ]
  },
  {
   "cell_type": "code",
   "execution_count": null,
   "metadata": {},
   "outputs": [],
   "source": [
    "# Obtener las 5 plataformas con más ventas\n",
    "top_5_platforms = mpg_20_df.groupby('platform')['total_sales'].sum()\n",
    "top_5_platforms = top_5_platforms.sort_values(ascending=False).head(5).index\n",
    "\n",
    "# Df filtrado con las 5 mejores plataformas en ventas\n",
    "region_sales = mpg_20_df[mpg_20_df['platform'].isin(top_5_platforms)]"
   ]
  },
  {
   "cell_type": "code",
   "execution_count": null,
   "metadata": {
    "scrolled": false
   },
   "outputs": [],
   "source": [
    "# Definir títulos de subplots\n",
    "titles = ['Ventas por Plataforma', 'Ventas por Géneros', 'Ventas por Clasificación'] # títulos\n",
    "\n",
    "# Crear subgráficos\n",
    "fig = make_subplots(rows=2, cols=2, subplot_titles=titles)\n",
    "#-----------------------------------------------------------------------------------------------------\n",
    "# Gráfico 1: Ventas por Plataforma\n",
    "trace_fig1 = go_barchart(region_sales, xvalue='platform', yvalue=['na_sales', 'eu_sales', 'jp_sales'],\n",
    "                         title='Ventas por Plataforma', xlabel='Plataforma', ylabel='Ventas',\n",
    "                         legend_title='Región', legend_names=['Norteamérica', 'Europa', 'Japón'],\n",
    "                         palette=palette\n",
    "                        )\n",
    "# Asignar legendgroup a las trazas del primer gráfico y mostrar solo las tres primeras leyendas\n",
    "for i, trace in enumerate(trace_fig1['data']):\n",
    "    trace.legendgroup = f'group{i+1}'  # Cada leyenda del primer gráfico tiene un identificador único\n",
    "    trace.showlegend = True\n",
    "    fig.add_trace(trace, row=1, col=1)\n",
    "#-----------------------------------------------------------------------------------------------------    \n",
    "# Gráfico 2: Ventas por Género\n",
    "trace_fig2 = go_barchart(mpg_20_df, xvalue='genre', yvalue=['na_sales', 'eu_sales', 'jp_sales'],\n",
    "                         title='Ventas por Género', xlabel='Género', ylabel='Ventas',\n",
    "                         legend_title='Región', legend_names=['Norteamérica', 'Europa', 'Japón'],\n",
    "                         palette=palette\n",
    "                         )\n",
    "# Asignar legendgroup a las trazas del segundo gráfico y ocultar todas las leyendas\n",
    "for i, trace in enumerate(trace_fig2['data']):\n",
    "    trace.legendgroup = f'group{i+1}' # Cada leyenda del segundo gráfico tiene un identificador único\n",
    "    trace.showlegend = False\n",
    "    fig.add_trace(trace, row=1, col=2)\n",
    "#-----------------------------------------------------------------------------------------------------    \n",
    "# Gráfico 3: Ventas por Clasificación\n",
    "trace_fig3 = go_barchart(mpg_20_df, xvalue='rating_description', \n",
    "                         yvalue=['na_sales', 'eu_sales', 'jp_sales'],\n",
    "                         title='Ventas por Clasificación', \n",
    "                         xlabel='Clasificación ESRB', \n",
    "                         ylabel='Ventas', palette=palette,\n",
    "                         legend_title='Región', legend_names=['Norteamérica', 'Europa', 'Japón'],\n",
    "                         )\n",
    "# Asignar legendgroup a las trazas del tercer gráfico y ocultar todas las leyendas\n",
    "for i, trace in enumerate(trace_fig3['data']):\n",
    "    trace.legendgroup = f'group{i+1}' # Cada leyenda del tercer gráfico tiene un identificador único\n",
    "    trace.showlegend = False\n",
    "    fig.add_trace(trace, row=2, col=1)\n",
    "#-----------------------------------------------------------------------------------------------------    \n",
    "\n",
    "# Actualizar diseño de subgráficos y leyenda\n",
    "fig.update_layout(\n",
    "    height=650,\n",
    "    width=785,\n",
    "    title_text=\"Ventas en millones de USD realizadas en cada Región\",\n",
    "    showlegend=True,  # Activar la leyenda global\n",
    "    legend=dict(traceorder='normal')  # Sincronizar la leyenda entre las trazas\n",
    ")\n",
    "\n",
    "# Ajustar posición de la leyenda en Gráfico\n",
    "fig.update_layout(legend=dict(x=0.75, y=0.18, traceorder='normal'), barmode='group')\n",
    "\n",
    "# Ajustar ejes x para mostrar ticks\n",
    "fig.update_xaxes(title_text='Plataforma', row=1, col=1, showticklabels=True)\n",
    "fig.update_xaxes(title_text='Género', row=1, col=2, showticklabels=True)\n",
    "fig.update_xaxes(title_text='Clasificación ESRB', row=2, col=1, showticklabels=True)\n",
    "\n",
    "# Mostrar la figura\n",
    "fig.show()\n"
   ]
  },
  {
   "cell_type": "markdown",
   "metadata": {},
   "source": [
    "__Respecto a las plataformas__, puede observarse que las plataformas de pc, ps3 y ps4 fueron más populares en Europa, mientras que la xone y x360 lo fueron más en Norteamérica. Esto podría ser un indicador de preferencias regionales. Específicamente estas ventas fueron:\n",
    "\n",
    "- PC con 8.7 millones de USD en Europa y 5.62 millones de USD en Norteamérica.\n",
    "- PlayStation3 con 48.2 millones de USD en Europa y 32.71 millones de USD en Norteamérica.\n",
    "- PlayStation4 con 53.72 millones de USD en Europa y 33.47 millones de USD en Norteamérica.\n",
    "- Xbox 360 con 47.8 millones de USD en Norteamérica y 30.58 millones de USD en Europa.\n",
    "- Xbox ONE con 27.12 millones de USD en Norteamérica y 19.19 millones de USD en Europa.\n",
    "\n",
    "Curiosamente, a pesar de que la ps3 y ps4 son plataformas de origen japonés, su mercado principal se encuentra en occidente.\n",
    "\n",
    "\n",
    "__En cuanto a los géneros__, \n",
    "\n",
    "- El shooter alcanzo la cifra de 69.58 millones de USD en Norteamérica y 51.81 millones de USD en Europa. \n",
    "\n",
    "- El género de acción tuvo ventas de 50.89 millones de USD en Europa y 46.37 millones de USD en Norteamérica. \n",
    "\n",
    "- Los juegos de deportes fueron más populares en Europa con 42.23 millones de USD en ventas frente a 10 millones de USD en Norteamérica.\n",
    "\n",
    "- Los géneros de misceláneos y de rol tuvieron un proporción en ventas también pequeña en torno a los 8-11 millones de USD tanto en Norteamérica como Europa.\n",
    "\n",
    "\n",
    "__Por clasificación ESRB__, \n",
    "- La más popular de __Norteamérica y Europa fue Mature 17+__, con ventas que alcanzaron los 97.47 milones de USD y 81.6 millones de USD respectivamente. \n",
    "\n",
    "- La clasificación para __todo público, en Norteamérica fue menor que en Europa,__ llegando a la cifra de 12.46 millones de USD frente a 51.62 millones de USD. \n",
    "\n",
    "- Por otra parte, __los juegos rating pending lo superan__ con montos de 30.7 millones de USD en Norteamérica y 25.45 millones de USD en Europa; __sin embargo__ a pesar de no tener una clasificación clara, los juegos de esta categoría suelen incluir cierto nivel de violencia y/o lenguaje discutible que a la larga __terminan siendo catalogados para mayores de 13 años o 17 en adelante__, por lo que la proporción de ventas entre calsificaciones se mantiene más o menos igual.\n",
    "\n",
    "\n",
    "Cabe mencionar que las __ventas de japón__ son relativamente __pequeñas respecto al resto__ de regiones debido a que se trata de un país y no amplias regiones continentales. Sin embargo conviene precisar lo siguiente:\n",
    "\n",
    "- Las plataformas más populares fueron PlayStation3 y ps4\n",
    "- Los géneros más vendidos fueron shooter y acción en cifras similares menores a 3 millones de USD.\n",
    "- La clasificación predominante fue Mature 17+\n",
    "\n",
    "Esto revela básicamente en Japón los juegos para mayores de 17 años son los que dominan el mercado, similar al caso de Norteamérica. En Europa además de la misma clasificación, también predominaron los juegos para todo público.\n",
    "\n",
    "\n",
    "__En resumen, occidente es el principal consumidor de videojuegos__ cuya preferencia son los __géneros Shooter, acción y deportes__, de los cuales en su mayoría son de __clasificación M(17+) y algunos par todo públlico.__"
   ]
  },
  {
   "cell_type": "markdown",
   "metadata": {},
   "source": [
    "## __Prueba de Hipótesis__ "
   ]
  },
  {
   "cell_type": "markdown",
   "metadata": {},
   "source": [
    "### Requerimientos"
   ]
  },
  {
   "cell_type": "markdown",
   "metadata": {},
   "source": [
    "- Determinar la significancia en la similitud de las valoraciones promedio de usuarios en las plataformas Xbox One y PC.\n",
    "\n",
    "\n",
    "- Determinar la significancia en la diferencia de las valoraciones promedio de usuarios en los géneros Acción y Deportes."
   ]
  },
  {
   "cell_type": "markdown",
   "metadata": {},
   "source": [
    "#### Contraste de calificaciones de Xbox ONE y PC"
   ]
  },
  {
   "cell_type": "markdown",
   "metadata": {},
   "source": [
    "##### Reconocimiento de la distribución de datos"
   ]
  },
  {
   "cell_type": "markdown",
   "metadata": {},
   "source": [
    "Se toma el dataframe 'top_platforms_df' con las plataformas más populares, no se usa el dataframe 'top_20g_df' ya que se requieren de suficientes datos para mejorar la precisión y fidelidad de las generalizaciones resultantes."
   ]
  },
  {
   "cell_type": "code",
   "execution_count": null,
   "metadata": {},
   "outputs": [],
   "source": [
    "# Asignar df a nueva variable (hypothesis testing data)\n",
    "ht_data = top_platforms_df \n",
    "\n",
    "# Filtrar calificaciones por plataformas 'xone' y 'pc'\n",
    "xone_pc_uscore = ht_data[ht_data['platform'].isin(['xone', 'pc'])][['platform', 'user_score']]\n",
    "\n",
    "# Contar valores NaN y no NaN en plataforma y calificación. Concatenar y mostrar resultados\n",
    "result = pd.concat([xone_pc_uscore.isna().sum(), xone_pc_uscore.count()], axis=1)\n",
    "result.columns = ['NaN Count', 'Non-NaN Count'] # Definir nombre de columnas\n",
    "print(result, '\\n')\n",
    "\n",
    "# Contar y mostrar calificaciones por plataforma\n",
    "print(xone_pc_uscore['platform'].value_counts()) "
   ]
  },
  {
   "cell_type": "markdown",
   "metadata": {},
   "source": [
    "Existen 109 calificaciones nulas, se las omitirá ya que hay bastantes datos de calificación por plataforma que servirán como muestras para realizar la prueba estadística."
   ]
  },
  {
   "cell_type": "code",
   "execution_count": null,
   "metadata": {
    "scrolled": false
   },
   "outputs": [],
   "source": [
    "# Extracción de muestra\n",
    "xone_pc_uscore.dropna(subset=['user_score'], inplace=True) \n",
    "\n",
    "# Contar valores NaN y no NaN en plataforma y calificación. Concatenar y mostrar resultados\n",
    "result = pd.concat([xone_pc_uscore.isna().sum(), xone_pc_uscore.count()], axis=1)\n",
    "result.columns = ['NaN Count', 'Non-NaN Count'] # Definir nombre de columnas\n",
    "print(result, '\\n')"
   ]
  },
  {
   "cell_type": "code",
   "execution_count": null,
   "metadata": {
    "scrolled": true
   },
   "outputs": [],
   "source": [
    "# Separar las series por plataforma\n",
    "xone_uscore = xone_pc_uscore[xone_pc_uscore['platform']=='xone']\n",
    "pc_uscore = xone_pc_uscore[xone_pc_uscore['platform']=='pc']\n",
    "\n",
    "# Obtener sus medias y varianzas\n",
    "xone_uscore_mean = xone_uscore['user_score'].mean()\n",
    "xone_uscore_var = xone_uscore['user_score'].var()\n",
    "pc_uscore_mean = pc_uscore['user_score'].mean()\n",
    "pc_uscore_var = pc_uscore['user_score'].var()\n",
    "\n",
    "# Mostrar estadísticas\n",
    "print(xone_pc_uscore.groupby('platform')['user_score'].agg(['count','mean', 'var']))"
   ]
  },
  {
   "cell_type": "code",
   "execution_count": null,
   "metadata": {
    "scrolled": false
   },
   "outputs": [],
   "source": [
    "### Crear el histogramas de calificaciones de usuario en Xbox ONE y PC\n",
    "#---------------------------------------------------------------------------------------------------\n",
    "figsize = (12, 3.5) # Establecer tamaño de la figura\n",
    "\n",
    "# Histograma 1 - Inicializar\n",
    "plt.figure(figsize=figsize) # ajustar tamaño\n",
    "sns.histplot(xone_uscore, x='user_score', kde=True, color='blue', bins=15, label='Hist_XONE')\n",
    "plt.axvline(xone_uscore_mean, color='red', linestyle='dashed', linewidth=2, label='media')\n",
    "\n",
    "# Anotación de la media\n",
    "plt.annotate(f'Media: {xone_uscore_mean:.2f}', xy=(xone_uscore_mean, 25.5), \n",
    "             xytext=(xone_uscore_mean - 1.1, 29), arrowprops=dict(facecolor='black', arrowstyle='->'),\n",
    "             fontsize=10, color='black')\n",
    "\n",
    "# Anotación de conteo y varianza\n",
    "plt.text(0.25, 32, f'Conteo: {len(xone_uscore)}', fontsize=10, color='black')\n",
    "plt.text(0.25, 29, f'Varianza: {xone_uscore_var:.2f}', fontsize=10, color='black')\n",
    "\n",
    "# Personalizar título y ejes\n",
    "plt.title('Distribución de Calificaciones de Usuarios') \n",
    "plt.xlabel(None)                                        \n",
    "plt.ylabel('No. de Reseñas - XONE', fontsize=12)        \n",
    "plt.xlim(0, 10) # Ajustar rango del eje x\n",
    "plt.ylim(0, 35) # Ajustar rango del eje y\n",
    "plt.legend(reversed(plt.legend().legendHandles), reversed(['Media', 'Xbox ONE'])) # Ordenar leyendas\n",
    "#--------------------------------------------------------------------------------------------------\n",
    "\n",
    "figsize = (12, 3.5) # Establecer tamaño de la figura\n",
    "\n",
    "# Histograma 2 - Inicializar\n",
    "plt.figure(figsize=figsize) # ajustar tamaño\n",
    "sns.histplot(pc_uscore, x='user_score', kde=True, color='green', bins=15, label='Hist_PC')\n",
    "plt.axvline(pc_uscore_mean, color='red', linestyle='dashed', linewidth=2, label='media')\n",
    "\n",
    "# Anotación de la media\n",
    "plt.annotate(f'Media: {pc_uscore_mean:.2f}', xy=(pc_uscore_mean, 23), \n",
    "             xytext=(pc_uscore_mean - 1.1, 28), arrowprops=dict(facecolor='black', arrowstyle='->'),\n",
    "             fontsize=10, color='black')\n",
    "\n",
    "# Anotación de conteo y varianza\n",
    "plt.text(0.25, 32, f'Conteo: {len(pc_uscore)}', fontsize=10, color='black')\n",
    "plt.text(0.25, 29, f'Varianza: {pc_uscore_var:.2f}', fontsize=10, color='black')\n",
    "\n",
    "# Personalizar ejes y leyenda\n",
    "plt.xlabel('Calificación de Usuarios ( /10)', fontsize=12)\n",
    "plt.ylabel('No. de Reseñas - PC', fontsize=12) \n",
    "plt.xlim(0, 10) # Ajustar rango del eje x\n",
    "plt.ylim(0, 35) # Ajustar rango del eje y\n",
    "plt.legend(reversed(plt.legend().legendHandles), reversed(['Media', 'PC'])) #Ordenar leyendas\n",
    "\n",
    "plt.show() # Mostrar figura"
   ]
  },
  {
   "cell_type": "markdown",
   "metadata": {},
   "source": [
    "##### Formulación de Hipótesis\n",
    "\n",
    "Por convención estadística, la hipótesis nula es aquella que defiende un hecho sin cambios o diferencias, por ello definirá que las medias de calificaciones de usuario en ambas plataformas será la misma.\n",
    "\n",
    "*__H₀:__ Las calificaciones promedio de los usuarios para las plataformas Xbox One y PC son las mismas*.\n",
    "\n",
    "*__H₁:__ Las calificaciones promedio de los usuarios para las plataformas Xbox One y PC son significativamente diferentes*. \n",
    "\n",
    "\\begin{equation*}\n",
    "\\text{Prueba de hipótesis} \\quad\n",
    "\\left\\{\n",
    "\\begin{aligned}\n",
    "  &\\mathbf{H_0:} \\quad μ_{\\text{Xone}} = μ_{\\text{PC}} \\\\\n",
    "  &\\mathbf{H_1:} \\quad μ_{\\text{Xone}} \\neq μ_{\\text{PC}}\n",
    "\\end{aligned}\n",
    "\\right.\n",
    "\\end{equation*}\n",
    "\n",
    "Prueba bilateral"
   ]
  },
  {
   "cell_type": "markdown",
   "metadata": {},
   "source": [
    "##### Aplicación de prueba estadística\n",
    "\n",
    "- Ambos histogramas presentan un patrón de distribución similar, con sesgo negativo, medias cercanas y varianzas evidentemente distintas. En efecto son comparables para una prueba de hipótesis.\n",
    "\n",
    "\n",
    "- Las distribuciones de ambas calificaciones por plataforma tienen mucho más de 30 observaciones. 182 calificaciones en Xbox ONE y 209 en PC, es decir son suficientemente grandes.\n",
    "\n",
    "\n",
    "- A pesar del sesgo negativo, por los tamaños muestrales se puede aplicar el TCL.\n",
    "\n",
    "Por lo tanto se puede elegir la pruebta T-Student, pero en vista de que las varianzas difieren entre sí, se considerará la variante T-Welch que relaja el supuesto de varianzas iguales."
   ]
  },
  {
   "cell_type": "markdown",
   "metadata": {},
   "source": [
    "__Prueba t-Welch__"
   ]
  },
  {
   "cell_type": "markdown",
   "metadata": {},
   "source": [
    "__Procedimiento:__\n",
    "\n",
    "Realizar la prueba t-Welch bilateral para muestras diferentes en tamaño y varianza, con una __confiabilidad del 95%__ según la convención para el contraste de hipótesis.\n",
    "\n",
    "<br>\n",
    "\n",
    "__Parámetro de observación:__ Diferencia de medias.\n",
    "\n",
    "<br>\n",
    "\n",
    "__Parámetro de evalaución:__\n",
    "\n",
    "- No. de observaciones para la prueba estadística __(Grados de libertad)__\n",
    "- Estadístico de prueba para el parámetro de observación __(Estadístico-t)__\n",
    "- Umbral de contraste con el estadístico de prueba __(Valor crítico)__\n",
    "- Probabilidad de que la variabilidad del estadístico-t sea por casualidad __(valor-p)__"
   ]
  },
  {
   "cell_type": "code",
   "execution_count": null,
   "metadata": {},
   "outputs": [],
   "source": [
    "# Tamaños de las muestras\n",
    "n_xone = len(xone_uscore)\n",
    "n_pc = len(pc_uscore)\n",
    "\n",
    "# Varianzas de las muestras\n",
    "var_xone = np.var(xone_uscore['user_score'], ddof=1)\n",
    "var_pc = np.var(pc_uscore['user_score'], ddof=1)\n",
    "\n",
    "# Grados de libertad ajustados (fórmula compleja)\n",
    "t_dof = (((var_xone/n_xone + var_pc/n_pc)**2) / \n",
    "         ((var_xone/n_xone)**2 / (n_xone - 1) + (var_pc/n_pc)**2 / (n_pc - 1)))\n",
    "\n",
    "# Nivel de significancia (alpha)\n",
    "alpha = 0.05\n",
    "\n",
    "# Realizar la prueba t de Welch\n",
    "t_statistic, p_value = st.ttest_ind(xone_uscore['user_score'], pc_uscore['user_score'], \n",
    "                                       equal_var=False, alternative='two-sided')\n",
    "\n",
    "# Encontrar el valor crítico\n",
    "t_critical = st.t.ppf(1 - alpha/2, t_dof)  # Dividido por 2 para la prueba bilateral\n",
    "\n",
    "# Imprimir resultados\n",
    "print(\"Resultados prueba t-Welch:\")\n",
    "print(\"--------------------------\")\n",
    "print(\"G. Libertad:     {:.4f}\".format(t_dof))\n",
    "print(\"Val. crítico:      {:.4f}\".format(t_critical))\n",
    "print(\"t-Statistic:       {:.4f}\".format(t_statistic))\n",
    "print(\"P-value:           {:.4f}\\n\".format(p_value))\n",
    "\n",
    "# Comparar con el estadístico t\n",
    "if abs(t_statistic) > t_critical:\n",
    "    print(\"Se rechaza la hipótesis nula. La diferencia es estadísticamente significativa.\")\n",
    "else:\n",
    "    print(\"No hay evidencia suficiente para rechazar la hipótesis nula.\")"
   ]
  },
  {
   "cell_type": "markdown",
   "metadata": {},
   "source": [
    "##### Interpretación\n",
    "\n",
    "*__No hay suficiente evidencia estadística para rechazar la igualdad entre las medias__ de calificación de usuarios de Xbox ONE y PC, ya que valor-p supera significativamente el nivel de significancia y el estadístico-t pequeño sugiere que no hay una diferencia sustancial entre las medias de calificación en ambas plataformas. __Por lo que no se puede concluir que dichas medias sean significativamente diferentes.__*\n"
   ]
  },
  {
   "cell_type": "markdown",
   "metadata": {},
   "source": [
    "##### Explicación\n",
    "\n",
    "- La diferencia de medias no es sustancial porque el estadístico-t tiene un valor de (0.6495) que es lo suficientemente menor al umbral crítico de (1.9661), que en este caso su valor se define por aproximadamente 390 grados de libertad para una rueba T-Welch. https://programmathically.com/wp-content/uploads/2021/04/t-table-632x1024.png\n",
    "\n",
    "\n",
    "- El valor-p indica que hay una probabilidad del 47.76% de que las medias tengan una diferencia relativa de (0.7109) o superior debido a la casualidad, en caso de que la hipótesis nula fuera cierta."
   ]
  },
  {
   "cell_type": "markdown",
   "metadata": {},
   "source": [
    "#### Contraste de calificaciones en géneros Acción y Deportes"
   ]
  },
  {
   "cell_type": "markdown",
   "metadata": {},
   "source": [
    "##### Reconocimiento de la distribución de datos"
   ]
  },
  {
   "cell_type": "markdown",
   "metadata": {},
   "source": [
    "Se toma el dataframe 'top_platforms_df' con las plataformas más populares, no se usa el dataframe 'top_20g_df' ya que se requieren de suficientes datos para mejorar la precisión y fidelidad de las generalizaciones resultantes."
   ]
  },
  {
   "cell_type": "code",
   "execution_count": null,
   "metadata": {},
   "outputs": [],
   "source": [
    "# Asignar df a nueva variable (hypothesis testing data)\n",
    "ht_data = top_platforms_df \n",
    "\n",
    "# Filtrar calificaciones por géneros 'action' y 'sport'\n",
    "action_sport_uscore = ht_data[ht_data['genre'].isin(['action', 'sports'])][['genre', 'user_score']]\n",
    "\n",
    "# Contar valores NaN y no NaN en género y calificación. Concatenar y mostrar resultados\n",
    "result = pd.concat([action_sport_uscore.isna().sum(), action_sport_uscore.count()], axis=1)\n",
    "result.columns = ['NaN Count', 'Non-NaN Count'] # Definir nombre de columnas\n",
    "print(result, '\\n')\n",
    "\n",
    "# Contar y mostrar calificaciones por plataforma\n",
    "print(action_sport_uscore['genre'].value_counts()) "
   ]
  },
  {
   "cell_type": "markdown",
   "metadata": {},
   "source": [
    "Existen 448 calificaciones nulas, se las omitirá en favor de tomar una muestra de 615 datos. Hay bastantes datos de calificación por género"
   ]
  },
  {
   "cell_type": "code",
   "execution_count": null,
   "metadata": {},
   "outputs": [],
   "source": [
    "# Extracción de muestra\n",
    "action_sport_uscore.dropna(subset=['user_score'], inplace=True) \n",
    "\n",
    "# Contar valores NaN y no NaN en género y calificación. Concatenar y mostrar resultados\n",
    "result = pd.concat([action_sport_uscore.isna().sum(), action_sport_uscore.count()], axis=1)\n",
    "result.columns = ['NaN Count', 'Non-NaN Count'] # Definir nombre de columnas\n",
    "print(result, '\\n')"
   ]
  },
  {
   "cell_type": "code",
   "execution_count": null,
   "metadata": {},
   "outputs": [],
   "source": [
    "# Separar las series por plataforma\n",
    "action_uscore = action_sport_uscore[action_sport_uscore['genre']=='action']\n",
    "sports_uscore = action_sport_uscore[action_sport_uscore['genre']=='sports']\n",
    "\n",
    "# Obtener sus medias y varianzas\n",
    "action_uscore_mean = action_uscore['user_score'].mean()\n",
    "action_uscore_var = action_uscore['user_score'].var()\n",
    "sports_uscore_mean = sports_uscore['user_score'].mean()\n",
    "sports_uscore_var = sports_uscore['user_score'].var()\n",
    "\n",
    "# Mostrar estadísticas\n",
    "print(action_sport_uscore.groupby('genre')['user_score'].agg(['count','mean', 'var']))"
   ]
  },
  {
   "cell_type": "code",
   "execution_count": null,
   "metadata": {},
   "outputs": [],
   "source": [
    "###### Crear el histogramas de calificaciones de usuario en acción y deportes\n",
    "#---------------------------------------------------------------------------------------------------\n",
    "figsize = (12, 3.5) # Establecer tamaño de la figura\n",
    "\n",
    "# Histograma 1 - Inicializar\n",
    "plt.figure(figsize=figsize) # ajustar tamaño\n",
    "sns.histplot(action_uscore, x='user_score', kde=True, color='blue', bins=16, label='Hist_ACTION')\n",
    "plt.axvline(action_uscore_mean, color='red', linestyle='dashed', linewidth=2, label='media')\n",
    "\n",
    "# Anotación de la media\n",
    "plt.annotate(f'Media: {action_uscore_mean:.2f}', xy=(action_uscore_mean, 55), \n",
    "             xytext=(action_uscore_mean - 1.1, 60), arrowprops=dict(facecolor='black', arrowstyle='->'),\n",
    "             fontsize=10, color='black')\n",
    "\n",
    "# Anotación de conteo y varianza\n",
    "plt.text(0.25, 73, f'Conteo: {len(action_uscore)}', fontsize=10, color='black')\n",
    "plt.text(0.25, 67, f'Varianza: {action_uscore_var:.2f}', fontsize=10, color='black')\n",
    "\n",
    "# Personalizar título y ejes\n",
    "plt.title('Distribución de Calificaciones de Usuarios') \n",
    "plt.xlabel(None)                                        \n",
    "plt.ylabel('No. de Reseñas - Acción', fontsize=12)        \n",
    "plt.xlim(0, 10) # Ajustar rango del eje x\n",
    "plt.ylim(0, 80) # Ajustar rango del eje y\n",
    "plt.legend(reversed(plt.legend().legendHandles), reversed(['Media', 'Acción'])) # Ordenar leyendas\n",
    "#--------------------------------------------------------------------------------------------------\n",
    "\n",
    "figsize = (12, 3.5) # Establecer tamaño de la figura\n",
    "\n",
    "# Histograma 2 - Inicializar\n",
    "plt.figure(figsize=figsize) # ajustar tamaño\n",
    "sns.histplot(sports_uscore, x='user_score', kde=True, color='green', bins=16, label='Hist_PC')\n",
    "plt.axvline(sports_uscore_mean, color='red', linestyle='dashed', linewidth=2, label='media')\n",
    "\n",
    "# Anotación de la media\n",
    "plt.annotate(f'Media: {sports_uscore_mean:.2f}', xy=(sports_uscore_mean, 19.5), \n",
    "             xytext=(sports_uscore_mean - 1.1, 23), arrowprops=dict(facecolor='black', arrowstyle='->'),\n",
    "             fontsize=10, color='black')\n",
    "\n",
    "# Anotación de conteo y varianza\n",
    "plt.text(0.25, 32, f'Conteo: {len(sports_uscore)}', fontsize=10, color='black')\n",
    "plt.text(0.25, 29, f'Varianza: {sports_uscore_var:.2f}', fontsize=10, color='black')\n",
    "\n",
    "# Personalizar ejes y leyenda\n",
    "plt.xlabel('Calificación de Usuarios ( /10)', fontsize=12)\n",
    "plt.ylabel('No. de Reseñas - Deportes', fontsize=12) \n",
    "plt.xlim(0, 10) # Ajustar rango del eje x\n",
    "plt.ylim(0, 35) # Ajustar rango del eje y\n",
    "plt.legend(reversed(plt.legend().legendHandles), reversed(['Media', 'Deportes'])) #Ordenar leyendas\n",
    "\n",
    "plt.show() # Mostrar figura"
   ]
  },
  {
   "cell_type": "markdown",
   "metadata": {},
   "source": [
    "##### Formulación de Hipótesis\n",
    "\n",
    "Por convención estadística, la hipótesis nula es aquella que defiende un hecho sin cambios o diferencias, por ello definirá que las medias de calificaciones de usuario en ambos géneros será la misma.\n",
    "\n",
    "*__H₀:__ Las calificaciones promedio de los usuarios en los géneros Acción y Deportes son las mismas*\n",
    "\n",
    "*__H₁:__ Las calificaciones promedio de los usuarios en los géneros Acción y Deportes son significativamente diferentes* \n",
    "\n",
    "\\begin{equation*}\n",
    "\\text{Prueba de hipótesis} \\quad\n",
    "\\left\\{\n",
    "\\begin{aligned}\n",
    "  &\\mathbf{H_0:} \\quad μ_{\\text{action}} = μ_{\\text{sport}} \\\\\n",
    "  &\\mathbf{H_1:} \\quad μ_{\\text{action}} \\neq μ_{\\text{sport}}\n",
    "\\end{aligned}\n",
    "\\right.\n",
    "\\end{equation*}\n",
    "\n",
    "Prueba bilateral"
   ]
  },
  {
   "cell_type": "markdown",
   "metadata": {},
   "source": [
    "##### Aplicación de prueba estadística\n",
    "\n",
    "- Ambos histogramas presentan un  sesgo negativo, medias lejanas y varianzas evidentemente distintas. En efecto son comparables para una prueba de hipótesis.\n",
    "\n",
    "\n",
    "- Las distribuciones de ambas calificaciones por género tienen mucho más de 30 observaciones. 430 calificaciones en el género Acción y 185 en Deportes, es decir son suficientemente grandes.\n",
    "\n",
    "\n",
    "- A pesar del sesgo negativo, por los tamaños muestrales se puede aplicar el TCL.\n",
    "\n",
    "Por lo tanto se puede elegir la pruebta T-Student, pero en vista de que las varianzas difieren entre sí, se considerará la variante T-Welch que relaja el supuesto de varianzas iguales."
   ]
  },
  {
   "cell_type": "markdown",
   "metadata": {},
   "source": [
    "__Prueba t-Welch__"
   ]
  },
  {
   "cell_type": "markdown",
   "metadata": {},
   "source": [
    "__Procedimiento:__\n",
    "\n",
    "Realizar la prueba t-Welch bilateral para muestras diferentes en tamaño y varianza, con una __confiabilidad del 95%__ según la convención para el contraste de hipótesis.\n",
    "\n",
    "<br>\n",
    "\n",
    "__Parámetro de observación:__ Diferencia de medias.\n",
    "\n",
    "<br>\n",
    "\n",
    "__Parámetro de evalaución:__\n",
    "\n",
    "- No. de observaciones para la prueba estadística __(Grados de libertad)__\n",
    "- Estadístico de prueba para el parámetro de observación __(Estadístico-t)__\n",
    "- Umbral de contraste con el estadístico de prueba __(Valor crítico)__\n",
    "- Probabilidad de que la variabilidad del estadístico-t sea por casualidad __(valor-p)__"
   ]
  },
  {
   "cell_type": "code",
   "execution_count": null,
   "metadata": {},
   "outputs": [],
   "source": [
    "# Tamaños de las muestras\n",
    "n_action = len(action_uscore)\n",
    "n_sports = len(sports_uscore)\n",
    "\n",
    "# Varianzas de las muestras\n",
    "var_action = np.var(action_uscore['user_score'], ddof=1)\n",
    "var_sports = np.var(sports_uscore['user_score'], ddof=1)\n",
    "\n",
    "# Grados de libertad ajustados (fórmula compleja)\n",
    "t_dof = (((var_action/n_action + var_sports/n_sports)**2) / \n",
    "         ((var_action/n_action)**2 / (n_action - 1) + (var_sports/n_sports)**2 / (n_sports - 1)))\n",
    "\n",
    "# Nivel de significancia (alpha)\n",
    "alpha = 0.05\n",
    "\n",
    "# Realizar la prueba t de Welch\n",
    "t_statistic, p_value = st.ttest_ind(action_uscore['user_score'], sports_uscore['user_score'], \n",
    "                                       equal_var=False, alternative='two-sided')\n",
    "\n",
    "# Encontrar el valor crítico\n",
    "t_critical = st.t.ppf(1 - alpha/2, t_dof)  # Dividido por 2 para la prueba bilateral\n",
    "\n",
    "# Imprimir resultados\n",
    "print(\"Resultados prueba t-Welch:\")\n",
    "print(\"--------------------------\")\n",
    "print(\"G. Libertad:     {:.4f}\".format(t_dof))\n",
    "print(\"Val. crítico:      {:.4f}\".format(t_critical))\n",
    "print(\"t-Statistic:       {:.4f}\".format(t_statistic))\n",
    "print(\"P-value:           {:.4e}\\n\".format(p_value))\n",
    "\n",
    "# Comparar con el estadístico t\n",
    "if abs(t_statistic) > t_critical:\n",
    "    print(\"Se rechaza la hipótesis nula. La diferencia es estadísticamente significativa.\")\n",
    "else:\n",
    "    print(\"No hay evidencia suficiente para rechazar la hipótesis nula.\")"
   ]
  },
  {
   "cell_type": "markdown",
   "metadata": {},
   "source": [
    "##### Interpretación\n",
    "\n",
    "*__Existe evidencia estadística significativa para rechazar la igualdad entre las medias__ de calificación de usuarios en los géneros de Acción y Deportes, ya que valor-p es extremadamente menor al nivel de significancia y el estadístico-t grande indica que hay una diferencia sustancial entre las medias de calificación en ambas plataformas. __Por lo que se puede concluir que la diferencia de dichas medias es significativa.__*\n"
   ]
  },
  {
   "cell_type": "markdown",
   "metadata": {},
   "source": [
    "##### Explicación\n",
    "\n",
    "- La diferencia de medias es sustancial porque el estadístico-t tiene un valor de (9.9932) que supera el umbral crítico de (1.9683), que en este caso su valor se define por aproximadamente 286 grados de libertad para una rueba T-Welch. https://programmathically.com/wp-content/uploads/2021/04/t-table-632x1024.png\n",
    "\n",
    "\n",
    "- El valor-p (2.3129e-20) indica que es extremadamente improbable que debido a la casualidad las medias tengan una diferencia relativa de (9.9932) o mayor, en caso de que la hipótesis nula fuera cierta, de manera que resulta muy absurdo que las medias nunca difieran entre sí."
   ]
  },
  {
   "cell_type": "markdown",
   "metadata": {},
   "source": [
    "## __Conclusiones__"
   ]
  },
  {
   "cell_type": "markdown",
   "metadata": {},
   "source": [
    "### Resumen de resultados\n",
    "\n",
    "- __En general se observa gracias al EDA, que la mayoría de ventas provienen del público de Norteamérica y Europa,__ siendo las plataformas más populares PlayStation3, PlayStation4, X-BOX 360 y X-BOX ONE, cuyos montos se encuentran entre los 19-54 millones de USD con 20 juegos exitosos predominantemente para mayores de 17 años y de géneros de Acción y Shooter.\n",
    "\n",
    "\n",
    "- __Las preferencias de géneros de videojuegos Shooter y Acción además de su clasificación__ apuntan a que los clientes disfrutan más de títulos con contenido relativamente adulto y de acción, seguramente debido a los componentes de adrenalina, suspenso y competitividad que resultan muy llamativos al público gamer. Estas peferencias también __indican que la clientela está conformada en su mayoría por público adolescente y adulto.__\n",
    "\n",
    "\n",
    "- __Las calificaciones influyen solo un poco en el flujo de ventas de videojuegos__ debido a los coeficientes de correlación que en su mayoría no superan la proporción de 0.5 lo que sugiere que las ventas estén más relacionadas a otros factores como el marketting y prestigio por tipos de videojuegos.\n",
    "\n",
    "\n",
    "- __Considerando el periodo de analisis (2012-2016)__ y los juegos más populares vendidos, las menores plataformas con ventas relevantes fueron XBOX ONE y PC. De las que se observa una diferencia notable de ventas que a priori se puede suponer que esté relacionada con una marcada diferencia de popularidad entre ambas plataformas.\n",
    "\n",
    "    Al evaluar estadísticamente la probabilidad de que exista una sólida disparidad en las reseñas de los usuarios, se encontró que el 47.76% de las veces la varibilidad de calificaciones(popularidad de usuarios) de en ambas plataformas se debe a la casualidad. Por lo que __no es posible determinar__ si realmente existe una diferencia significativa de popularidad que permita establecer __confiablemente una proporción de abastecimiento y precio de juegos de XBOX ONE y PC__, lo que además complica la planificación de promociones para maximizar las ventas en juegos de PC.\n",
    "\n",
    "\n",
    "- __El género Deportes tuvo las ventas anuales más consistentes (ingresos fijos)__.\n",
    "\n",
    "\n",
    "- __A nivel global los géneros más populares con ventas intermedias fueron Deportes y Acción__ con 75 y 102 millones de USD  respectivamente.\n",
    "\n",
    "    Estas cifras de ventas sugieren también una diferencia de popularidad entre los usuarios, por lo que tras investigar qué tanto difiere la popularidad de ambos géneros, se descubrió que __es extremadamente improbable__ (2.3129e-20 casi 0%) __que las popularidades promedio de los géneros Acción y Deportes varíen entre sí debido a la casualidad__, por lo que resulta absurdo creer que no hay diferencia significativa en las calificaciones dadas por los usuarios. \n",
    "\n",
    "    De modo que conociendo una clara diferencia de popularidad entre los juegos de ambos géneros, __se puede establecer confiablemente una proporción de abastecimiento y precios de videojuegos de acción y deportes para maximizar las ventas__ de forma razonable ya sea por volumen o margen de ganancia por unidad."
   ]
  },
  {
   "cell_type": "markdown",
   "metadata": {},
   "source": [
    "### Orientaciones Estratégicas\n",
    "\n",
    "Con base al EDA se proponen las siguientes directrices:\n",
    "\n",
    "__Personalización de Ofertas:__ La identificación de juegos preferidos por plataforma, género, clasificación en cada región sugiere la posibilidad de personalizar ofertas o promociones para segmentos específicos de clientes, incrementando el impacto de las estrategias de marketing y conseguir maximizar el retorno de inversión. \n",
    "\n",
    "Mientras se desarrollen las campañas de marketting pertinentes, se recominenda no descuidar las ventas de juegos de deportes ya que representan los ingresos más estables. El objetivo a largo plazo es incrementar no solo el flujo de ventas sino conseguir progresivamente una mejor consistencia de ingresos en el tiempo.\n",
    "    \n",
    "Teniendo en cuenta la vigencia promedio de 12 años de as plataformas y sus umbrales de popularidad comercial se pueden planificar estrategias de mercado e cada en los primeros 12-14 meses que aparece cada plataforma y después de 10 años ofrecer descuentos especiales para maximizar las últimas ventas. Estos umbrales podrían ajustarse dependiendo del prestigio de los fabricantes pero para ser más conservadores se podrían asumir umbrales de periodo comercial en los primeros 2 años y luego de 4-5 años de cierta reglaridad de ventas, entonces lanzar promociones que permitan anticiparse mejor al fin de cada plataforma.\n",
    "    \n",
    "    \n",
    "__Optimización de Inventario:__ Dado el flujo de ventas de la tienda, se recomienda mejorar el sistema de control de inventario para evitar duplicidades y automatizar los registros de tal modo que el personal solo tenga que registrar las cifras vendidas. Esto puede lograrse mediante aplicativos de control de inventario además de actualizar periódicamente la base de datos de los videojuegos disponibles.\n",
    "\n",
    "\n",
    "__Abastecimiento y oferta de mercado:__ Aprovisionarse fundamentalmente de juegos de los género: Shooter, Acción, Deportes, Rol y misc para maximizar las ventas. Los precios referenciales dependen del fabricante y desarrollador pero las reseñas promedio permiten identificar su popularidad y hacer ciertos ajustes en el valor de tal modo que los ingresos sean lo suficientemente óptimos sin comprometer la predisposición de compras de los clientes.\n",
    "\n",
    "Una sugerencia sería tener un stock de juegos __teniendo en cuenta el diagrama de barras de \"Rentabilidad de géneros (2012-2016)\"__:\n",
    "    \n",
    "    \n",
    "   - Shooter 40%, \n",
    "   - acción 30%\n",
    "   - deportes 20%\n",
    "   - rol 5%\n",
    "   - misc 5%. \n",
    "    \n",
    "En base a las calificaciones de usuario planificar razonablemente los precios en el siguiente orden:\n",
    "\n",
    "   1. Acción el más caro\n",
    "   2. Rol\n",
    "   3. Deportes y shooter en precios similares ligeramente más baratos que rol\n",
    "   4. Miscelaneos en un precio lo suficientemente bajo para que se agote rápidamente\n",
    "\n",
    "Un ejemplo concreto sería: Acción 100 USD, Rol 70 USD, Shooter y deportes 60 USD, miscelaneos en 40 USD. \n",
    "    \n",
    "Considerar también que el abastecimiento de juegos, guarde las siguientes proporciones respecto respecto a las plataformas __en base al diagrama de barras de \"Éxito de Plataformas por Videojuego\"__:\n",
    "   \n",
    "   -  5% - PC \n",
    "   - 15% - XBOX ONE\n",
    "   - 30% - PS4 \n",
    "   - 30% - PS3 \n",
    "   - 20% - XBOX 360 \n",
    "\n",
    "*Obviamente el abastecimiento de videojuegos y precio pueden ajustarse a conveniencia, solamente se sugiere tener las proporciones como marco de referencia para maximizar los ingresos con un volumen y margen de ganancia por unidad adecuados.*"
   ]
  },
  {
   "cell_type": "markdown",
   "metadata": {},
   "source": [
    "### Limitaciones y Futuras Investigaciones\n",
    "\n",
    "- Es crucial reconocer que, aunque el EDA proporciona valiosos insights, existe la falta de datos de calificaciones de usuario y expertos alrededor del 50%. \n",
    "\n",
    "    Esto reduce la precisión en el cálculo del coeficiente de correlación entre las ventas y calificaciones, por lo que con un dataset completo se podría obtener un resultado más fiable para evaluar la influencia de las calificaciones en las ventas de videojuegos. \n",
    "\n",
    "    No obstante, a priori esto resulta complicado de conseguir ya que lograr evaluar cada juego lanzado es poco probable, además de que en el caso de usuarios los datos de calificación son datos de origen subjetivo a diferencia de los expertos que son fundamentalmente imparciales y tienen un cierto compromiso de reseñar los videojuegos. \n",
    "\n",
    "    Para evaluar mejor a futuro la influencia de las calificaciones en las ventas, sería más preciso conseguir el origen regional de las calificaciones para analizar correlaciones sectorizadas y definir mejor el perfil de los usuarios.\n",
    "    \n",
    "    \n",
    "- Las ventas no pertenecientes a las regiones de Norteamérica, Europa y Japón podrían investigarse para reconocer los posibles orígenes que podrían ser ventas online de juegos no físicos(digitales) o de otros países que no conforman ninguna de las 3 regiones, de ser el caso, si lo amerita, se puede caracterizar más regiones geográficas y finalmente categorizar las ventas restantes en la categoría de 'other_sales'.\n",
    "\n",
    "\n",
    "- Es posible que a futuro se asignen algunos juegos con géneros incorrectos. Por lo que se sugiere a la tienda que en medida de lo posible procure registrar los datos de cada juego. Sin embargo, también rsulta óptimo utilizar una API de uso pagado y/o fiable que permita acceder a una base de datos actualizada y fiable como IGDB para poder actualizar los atributos no numéricos del set de datos sobre las características de los videojuegos. Esto mejoraría la calidad y fiabilidad de los subsiguientes análisis e inferencias estadísticas."
   ]
  }
 ],
 "metadata": {
  "ExecuteTimeLog": [
   {
    "duration": 1306,
    "start_time": "2024-06-09T06:40:09.759Z"
   },
   {
    "duration": 1025,
    "start_time": "2024-06-09T06:42:33.055Z"
   },
   {
    "duration": 1323,
    "start_time": "2024-06-09T06:43:21.067Z"
   },
   {
    "duration": 864,
    "start_time": "2024-06-09T06:43:40.917Z"
   },
   {
    "duration": 827,
    "start_time": "2024-06-09T06:43:50.316Z"
   },
   {
    "duration": 12,
    "start_time": "2024-06-09T06:44:41.679Z"
   },
   {
    "duration": 9,
    "start_time": "2024-06-09T06:44:50.792Z"
   },
   {
    "duration": 8,
    "start_time": "2024-06-09T06:45:09.442Z"
   },
   {
    "duration": 8,
    "start_time": "2024-06-09T06:45:20.880Z"
   },
   {
    "duration": 4,
    "start_time": "2024-06-09T06:45:28.469Z"
   },
   {
    "duration": 7,
    "start_time": "2024-06-09T06:45:48.155Z"
   },
   {
    "duration": 8,
    "start_time": "2024-06-09T06:45:56.293Z"
   },
   {
    "duration": 4813,
    "start_time": "2024-06-09T06:46:08.368Z"
   },
   {
    "duration": 23,
    "start_time": "2024-06-09T06:46:29.496Z"
   },
   {
    "duration": 494,
    "start_time": "2024-06-09T06:51:06.907Z"
   },
   {
    "duration": 28,
    "start_time": "2024-06-09T06:52:07.584Z"
   },
   {
    "duration": 6,
    "start_time": "2024-06-09T06:52:48.672Z"
   },
   {
    "duration": 8,
    "start_time": "2024-06-09T06:53:08.247Z"
   },
   {
    "duration": 6,
    "start_time": "2024-06-09T06:53:12.610Z"
   },
   {
    "duration": 11,
    "start_time": "2024-06-09T06:53:17.836Z"
   },
   {
    "duration": 8,
    "start_time": "2024-06-09T06:53:24.962Z"
   },
   {
    "duration": 6,
    "start_time": "2024-06-09T06:54:16.494Z"
   },
   {
    "duration": 6,
    "start_time": "2024-06-09T06:54:21.421Z"
   },
   {
    "duration": 8,
    "start_time": "2024-06-09T06:54:49.972Z"
   },
   {
    "duration": 7,
    "start_time": "2024-06-09T07:07:02.041Z"
   },
   {
    "duration": 6,
    "start_time": "2024-06-09T07:07:07.115Z"
   }
  ],
  "kernelspec": {
   "display_name": "Python 3 (ipykernel)",
   "language": "python",
   "name": "python3"
  },
  "language_info": {
   "codemirror_mode": {
    "name": "ipython",
    "version": 3
   },
   "file_extension": ".py",
   "mimetype": "text/x-python",
   "name": "python",
   "nbconvert_exporter": "python",
   "pygments_lexer": "ipython3",
   "version": "3.9.19"
  },
  "toc": {
   "base_numbering": 1,
   "nav_menu": {},
   "number_sections": true,
   "sideBar": true,
   "skip_h1_title": true,
   "title_cell": "Tabla de Contenidos",
   "title_sidebar": "Contents",
   "toc_cell": true,
   "toc_position": {
    "height": "calc(100% - 180px)",
    "left": "10px",
    "top": "150px",
    "width": "510.764px"
   },
   "toc_section_display": true,
   "toc_window_display": true
  }
 },
 "nbformat": 4,
 "nbformat_minor": 2
}
